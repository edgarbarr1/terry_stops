{
 "cells": [
  {
   "cell_type": "markdown",
   "metadata": {},
   "source": [
    "# Terry Stops #"
   ]
  },
  {
   "cell_type": "markdown",
   "metadata": {},
   "source": [
    "Let's import all the necessary libraries to analyze the data. The necessary libraries and other functions can be found in the file named `functions.py`."
   ]
  },
  {
   "cell_type": "code",
   "execution_count": 212,
   "metadata": {},
   "outputs": [
    {
     "name": "stdout",
     "output_type": "stream",
     "text": [
      "The autoreload extension is already loaded. To reload it, use:\n",
      "  %reload_ext autoreload\n"
     ]
    }
   ],
   "source": [
    "%load_ext autoreload\n",
    "%autoreload 2"
   ]
  },
  {
   "cell_type": "code",
   "execution_count": 213,
   "metadata": {},
   "outputs": [],
   "source": [
    "from functions import *\n",
    "%matplotlib inline"
   ]
  },
  {
   "cell_type": "markdown",
   "metadata": {},
   "source": [
    "Read the data and look at the first rows of data."
   ]
  },
  {
   "cell_type": "code",
   "execution_count": 214,
   "metadata": {},
   "outputs": [
    {
     "data": {
      "text/html": [
       "<div>\n",
       "<style scoped>\n",
       "    .dataframe tbody tr th:only-of-type {\n",
       "        vertical-align: middle;\n",
       "    }\n",
       "\n",
       "    .dataframe tbody tr th {\n",
       "        vertical-align: top;\n",
       "    }\n",
       "\n",
       "    .dataframe thead th {\n",
       "        text-align: right;\n",
       "    }\n",
       "</style>\n",
       "<table border=\"1\" class=\"dataframe\">\n",
       "  <thead>\n",
       "    <tr style=\"text-align: right;\">\n",
       "      <th></th>\n",
       "      <th>Subject Age Group</th>\n",
       "      <th>Subject ID</th>\n",
       "      <th>GO / SC Num</th>\n",
       "      <th>Terry Stop ID</th>\n",
       "      <th>Stop Resolution</th>\n",
       "      <th>Weapon Type</th>\n",
       "      <th>Officer ID</th>\n",
       "      <th>Officer YOB</th>\n",
       "      <th>Officer Gender</th>\n",
       "      <th>Officer Race</th>\n",
       "      <th>...</th>\n",
       "      <th>Reported Time</th>\n",
       "      <th>Initial Call Type</th>\n",
       "      <th>Final Call Type</th>\n",
       "      <th>Call Type</th>\n",
       "      <th>Officer Squad</th>\n",
       "      <th>Arrest Flag</th>\n",
       "      <th>Frisk Flag</th>\n",
       "      <th>Precinct</th>\n",
       "      <th>Sector</th>\n",
       "      <th>Beat</th>\n",
       "    </tr>\n",
       "  </thead>\n",
       "  <tbody>\n",
       "    <tr>\n",
       "      <th>0</th>\n",
       "      <td>-</td>\n",
       "      <td>-1</td>\n",
       "      <td>20140000120677</td>\n",
       "      <td>92317</td>\n",
       "      <td>Arrest</td>\n",
       "      <td>None</td>\n",
       "      <td>7500</td>\n",
       "      <td>1984</td>\n",
       "      <td>M</td>\n",
       "      <td>Black or African American</td>\n",
       "      <td>...</td>\n",
       "      <td>11:32:00</td>\n",
       "      <td>-</td>\n",
       "      <td>-</td>\n",
       "      <td>-</td>\n",
       "      <td>SOUTH PCT 1ST W - ROBERT</td>\n",
       "      <td>N</td>\n",
       "      <td>N</td>\n",
       "      <td>South</td>\n",
       "      <td>O</td>\n",
       "      <td>O2</td>\n",
       "    </tr>\n",
       "    <tr>\n",
       "      <th>1</th>\n",
       "      <td>-</td>\n",
       "      <td>-1</td>\n",
       "      <td>20150000001463</td>\n",
       "      <td>28806</td>\n",
       "      <td>Field Contact</td>\n",
       "      <td>None</td>\n",
       "      <td>5670</td>\n",
       "      <td>1965</td>\n",
       "      <td>M</td>\n",
       "      <td>White</td>\n",
       "      <td>...</td>\n",
       "      <td>07:59:00</td>\n",
       "      <td>-</td>\n",
       "      <td>-</td>\n",
       "      <td>-</td>\n",
       "      <td>NaN</td>\n",
       "      <td>N</td>\n",
       "      <td>N</td>\n",
       "      <td>-</td>\n",
       "      <td>-</td>\n",
       "      <td>-</td>\n",
       "    </tr>\n",
       "    <tr>\n",
       "      <th>2</th>\n",
       "      <td>-</td>\n",
       "      <td>-1</td>\n",
       "      <td>20150000001516</td>\n",
       "      <td>29599</td>\n",
       "      <td>Field Contact</td>\n",
       "      <td>None</td>\n",
       "      <td>4844</td>\n",
       "      <td>1961</td>\n",
       "      <td>M</td>\n",
       "      <td>White</td>\n",
       "      <td>...</td>\n",
       "      <td>19:12:00</td>\n",
       "      <td>-</td>\n",
       "      <td>-</td>\n",
       "      <td>-</td>\n",
       "      <td>NaN</td>\n",
       "      <td>N</td>\n",
       "      <td>-</td>\n",
       "      <td>-</td>\n",
       "      <td>-</td>\n",
       "      <td>-</td>\n",
       "    </tr>\n",
       "    <tr>\n",
       "      <th>3</th>\n",
       "      <td>-</td>\n",
       "      <td>-1</td>\n",
       "      <td>20150000001670</td>\n",
       "      <td>32260</td>\n",
       "      <td>Field Contact</td>\n",
       "      <td>None</td>\n",
       "      <td>7539</td>\n",
       "      <td>1963</td>\n",
       "      <td>M</td>\n",
       "      <td>White</td>\n",
       "      <td>...</td>\n",
       "      <td>04:55:00</td>\n",
       "      <td>-</td>\n",
       "      <td>-</td>\n",
       "      <td>-</td>\n",
       "      <td>NaN</td>\n",
       "      <td>N</td>\n",
       "      <td>N</td>\n",
       "      <td>-</td>\n",
       "      <td>-</td>\n",
       "      <td>-</td>\n",
       "    </tr>\n",
       "    <tr>\n",
       "      <th>4</th>\n",
       "      <td>-</td>\n",
       "      <td>-1</td>\n",
       "      <td>20150000001739</td>\n",
       "      <td>33155</td>\n",
       "      <td>Field Contact</td>\n",
       "      <td>None</td>\n",
       "      <td>6973</td>\n",
       "      <td>1977</td>\n",
       "      <td>M</td>\n",
       "      <td>White</td>\n",
       "      <td>...</td>\n",
       "      <td>00:41:00</td>\n",
       "      <td>-</td>\n",
       "      <td>-</td>\n",
       "      <td>-</td>\n",
       "      <td>NaN</td>\n",
       "      <td>N</td>\n",
       "      <td>N</td>\n",
       "      <td>-</td>\n",
       "      <td>-</td>\n",
       "      <td>-</td>\n",
       "    </tr>\n",
       "  </tbody>\n",
       "</table>\n",
       "<p>5 rows × 23 columns</p>\n",
       "</div>"
      ],
      "text/plain": [
       "  Subject Age Group  Subject ID     GO / SC Num  Terry Stop ID  \\\n",
       "0                 -          -1  20140000120677          92317   \n",
       "1                 -          -1  20150000001463          28806   \n",
       "2                 -          -1  20150000001516          29599   \n",
       "3                 -          -1  20150000001670          32260   \n",
       "4                 -          -1  20150000001739          33155   \n",
       "\n",
       "  Stop Resolution Weapon Type Officer ID  Officer YOB Officer Gender  \\\n",
       "0          Arrest        None     7500           1984              M   \n",
       "1   Field Contact        None     5670           1965              M   \n",
       "2   Field Contact        None     4844           1961              M   \n",
       "3   Field Contact        None     7539           1963              M   \n",
       "4   Field Contact        None     6973           1977              M   \n",
       "\n",
       "                Officer Race  ... Reported Time Initial Call Type  \\\n",
       "0  Black or African American  ...      11:32:00                 -   \n",
       "1                      White  ...      07:59:00                 -   \n",
       "2                      White  ...      19:12:00                 -   \n",
       "3                      White  ...      04:55:00                 -   \n",
       "4                      White  ...      00:41:00                 -   \n",
       "\n",
       "  Final Call Type Call Type             Officer Squad Arrest Flag Frisk Flag  \\\n",
       "0               -         -  SOUTH PCT 1ST W - ROBERT           N          N   \n",
       "1               -         -                       NaN           N          N   \n",
       "2               -         -                       NaN           N          -   \n",
       "3               -         -                       NaN           N          N   \n",
       "4               -         -                       NaN           N          N   \n",
       "\n",
       "  Precinct  Sector    Beat  \n",
       "0    South  O       O2      \n",
       "1        -       -       -  \n",
       "2        -       -       -  \n",
       "3        -       -       -  \n",
       "4        -       -       -  \n",
       "\n",
       "[5 rows x 23 columns]"
      ]
     },
     "execution_count": 214,
     "metadata": {},
     "output_type": "execute_result"
    }
   ],
   "source": [
    "df = pd.read_csv('Terry_Stops.csv')\n",
    "df.head()"
   ]
  },
  {
   "cell_type": "markdown",
   "metadata": {},
   "source": [
    "At first glance we can see that we have some missing data in the Subjet Age Group as well as Initial Call Type. Also some NaN values on Officer Squad. Let's dig in a little more to view what we hyave to work with."
   ]
  },
  {
   "cell_type": "code",
   "execution_count": 215,
   "metadata": {
    "scrolled": false
   },
   "outputs": [
    {
     "name": "stdout",
     "output_type": "stream",
     "text": [
      "Subject Age Group             0\n",
      "Subject ID                    0\n",
      "GO / SC Num                   0\n",
      "Terry Stop ID                 0\n",
      "Stop Resolution               0\n",
      "Weapon Type                   0\n",
      "Officer ID                    0\n",
      "Officer YOB                   0\n",
      "Officer Gender                0\n",
      "Officer Race                  0\n",
      "Subject Perceived Race        0\n",
      "Subject Perceived Gender      0\n",
      "Reported Date                 0\n",
      "Reported Time                 0\n",
      "Initial Call Type             0\n",
      "Final Call Type               0\n",
      "Call Type                     0\n",
      "Officer Squad               604\n",
      "Arrest Flag                   0\n",
      "Frisk Flag                    0\n",
      "Precinct                      0\n",
      "Sector                        0\n",
      "Beat                          0\n",
      "dtype: int64\n",
      "----------------------------------------------------------------------------\n",
      "<class 'pandas.core.frame.DataFrame'>\n",
      "RangeIndex: 47213 entries, 0 to 47212\n",
      "Data columns (total 23 columns):\n",
      " #   Column                    Non-Null Count  Dtype \n",
      "---  ------                    --------------  ----- \n",
      " 0   Subject Age Group         47213 non-null  object\n",
      " 1   Subject ID                47213 non-null  int64 \n",
      " 2   GO / SC Num               47213 non-null  int64 \n",
      " 3   Terry Stop ID             47213 non-null  int64 \n",
      " 4   Stop Resolution           47213 non-null  object\n",
      " 5   Weapon Type               47213 non-null  object\n",
      " 6   Officer ID                47213 non-null  object\n",
      " 7   Officer YOB               47213 non-null  int64 \n",
      " 8   Officer Gender            47213 non-null  object\n",
      " 9   Officer Race              47213 non-null  object\n",
      " 10  Subject Perceived Race    47213 non-null  object\n",
      " 11  Subject Perceived Gender  47213 non-null  object\n",
      " 12  Reported Date             47213 non-null  object\n",
      " 13  Reported Time             47213 non-null  object\n",
      " 14  Initial Call Type         47213 non-null  object\n",
      " 15  Final Call Type           47213 non-null  object\n",
      " 16  Call Type                 47213 non-null  object\n",
      " 17  Officer Squad             46609 non-null  object\n",
      " 18  Arrest Flag               47213 non-null  object\n",
      " 19  Frisk Flag                47213 non-null  object\n",
      " 20  Precinct                  47213 non-null  object\n",
      " 21  Sector                    47213 non-null  object\n",
      " 22  Beat                      47213 non-null  object\n",
      "dtypes: int64(4), object(19)\n",
      "memory usage: 8.3+ MB\n",
      "None\n"
     ]
    }
   ],
   "source": [
    "print(df.isna().sum())\n",
    "print('----------------------------------------------------------------------------')\n",
    "print(df.info())"
   ]
  },
  {
   "cell_type": "markdown",
   "metadata": {},
   "source": [
    "It appears as though we have a lot of information to work with and the only feature that has missing data is the `Officer Squad` feature."
   ]
  },
  {
   "cell_type": "markdown",
   "metadata": {},
   "source": [
    "Let's cleanup the names of the columns to make it easier to code."
   ]
  },
  {
   "cell_type": "code",
   "execution_count": 216,
   "metadata": {},
   "outputs": [
    {
     "data": {
      "text/plain": [
       "['Subject Age Group',\n",
       " 'Subject ID',\n",
       " 'GO / SC Num',\n",
       " 'Terry Stop ID',\n",
       " 'Stop Resolution',\n",
       " 'Weapon Type',\n",
       " 'Officer ID',\n",
       " 'Officer YOB',\n",
       " 'Officer Gender',\n",
       " 'Officer Race',\n",
       " 'Subject Perceived Race',\n",
       " 'Subject Perceived Gender',\n",
       " 'Reported Date',\n",
       " 'Reported Time',\n",
       " 'Initial Call Type',\n",
       " 'Final Call Type',\n",
       " 'Call Type',\n",
       " 'Officer Squad',\n",
       " 'Arrest Flag',\n",
       " 'Frisk Flag',\n",
       " 'Precinct',\n",
       " 'Sector',\n",
       " 'Beat']"
      ]
     },
     "execution_count": 216,
     "metadata": {},
     "output_type": "execute_result"
    }
   ],
   "source": [
    "list(df.columns)"
   ]
  },
  {
   "cell_type": "code",
   "execution_count": 217,
   "metadata": {},
   "outputs": [
    {
     "data": {
      "text/html": [
       "<div>\n",
       "<style scoped>\n",
       "    .dataframe tbody tr th:only-of-type {\n",
       "        vertical-align: middle;\n",
       "    }\n",
       "\n",
       "    .dataframe tbody tr th {\n",
       "        vertical-align: top;\n",
       "    }\n",
       "\n",
       "    .dataframe thead th {\n",
       "        text-align: right;\n",
       "    }\n",
       "</style>\n",
       "<table border=\"1\" class=\"dataframe\">\n",
       "  <thead>\n",
       "    <tr style=\"text-align: right;\">\n",
       "      <th></th>\n",
       "      <th>sub_age_group</th>\n",
       "      <th>sub_id</th>\n",
       "      <th>go_num_sc_num</th>\n",
       "      <th>terryS_id</th>\n",
       "      <th>stop_resolution</th>\n",
       "      <th>weapon_type</th>\n",
       "      <th>officer_id</th>\n",
       "      <th>officer_YOB</th>\n",
       "      <th>officer_gender</th>\n",
       "      <th>officer_race</th>\n",
       "      <th>...</th>\n",
       "      <th>reported_time</th>\n",
       "      <th>initial_calltype</th>\n",
       "      <th>final_calltype</th>\n",
       "      <th>call_type</th>\n",
       "      <th>officer_squad</th>\n",
       "      <th>arrest_flag</th>\n",
       "      <th>frisk_flag</th>\n",
       "      <th>precinct</th>\n",
       "      <th>sector</th>\n",
       "      <th>beat</th>\n",
       "    </tr>\n",
       "  </thead>\n",
       "  <tbody>\n",
       "    <tr>\n",
       "      <th>0</th>\n",
       "      <td>-</td>\n",
       "      <td>-1</td>\n",
       "      <td>20140000120677</td>\n",
       "      <td>92317</td>\n",
       "      <td>Arrest</td>\n",
       "      <td>None</td>\n",
       "      <td>7500</td>\n",
       "      <td>1984</td>\n",
       "      <td>M</td>\n",
       "      <td>Black or African American</td>\n",
       "      <td>...</td>\n",
       "      <td>11:32:00</td>\n",
       "      <td>-</td>\n",
       "      <td>-</td>\n",
       "      <td>-</td>\n",
       "      <td>SOUTH PCT 1ST W - ROBERT</td>\n",
       "      <td>N</td>\n",
       "      <td>N</td>\n",
       "      <td>South</td>\n",
       "      <td>O</td>\n",
       "      <td>O2</td>\n",
       "    </tr>\n",
       "    <tr>\n",
       "      <th>1</th>\n",
       "      <td>-</td>\n",
       "      <td>-1</td>\n",
       "      <td>20150000001463</td>\n",
       "      <td>28806</td>\n",
       "      <td>Field Contact</td>\n",
       "      <td>None</td>\n",
       "      <td>5670</td>\n",
       "      <td>1965</td>\n",
       "      <td>M</td>\n",
       "      <td>White</td>\n",
       "      <td>...</td>\n",
       "      <td>07:59:00</td>\n",
       "      <td>-</td>\n",
       "      <td>-</td>\n",
       "      <td>-</td>\n",
       "      <td>NaN</td>\n",
       "      <td>N</td>\n",
       "      <td>N</td>\n",
       "      <td>-</td>\n",
       "      <td>-</td>\n",
       "      <td>-</td>\n",
       "    </tr>\n",
       "    <tr>\n",
       "      <th>2</th>\n",
       "      <td>-</td>\n",
       "      <td>-1</td>\n",
       "      <td>20150000001516</td>\n",
       "      <td>29599</td>\n",
       "      <td>Field Contact</td>\n",
       "      <td>None</td>\n",
       "      <td>4844</td>\n",
       "      <td>1961</td>\n",
       "      <td>M</td>\n",
       "      <td>White</td>\n",
       "      <td>...</td>\n",
       "      <td>19:12:00</td>\n",
       "      <td>-</td>\n",
       "      <td>-</td>\n",
       "      <td>-</td>\n",
       "      <td>NaN</td>\n",
       "      <td>N</td>\n",
       "      <td>-</td>\n",
       "      <td>-</td>\n",
       "      <td>-</td>\n",
       "      <td>-</td>\n",
       "    </tr>\n",
       "    <tr>\n",
       "      <th>3</th>\n",
       "      <td>-</td>\n",
       "      <td>-1</td>\n",
       "      <td>20150000001670</td>\n",
       "      <td>32260</td>\n",
       "      <td>Field Contact</td>\n",
       "      <td>None</td>\n",
       "      <td>7539</td>\n",
       "      <td>1963</td>\n",
       "      <td>M</td>\n",
       "      <td>White</td>\n",
       "      <td>...</td>\n",
       "      <td>04:55:00</td>\n",
       "      <td>-</td>\n",
       "      <td>-</td>\n",
       "      <td>-</td>\n",
       "      <td>NaN</td>\n",
       "      <td>N</td>\n",
       "      <td>N</td>\n",
       "      <td>-</td>\n",
       "      <td>-</td>\n",
       "      <td>-</td>\n",
       "    </tr>\n",
       "    <tr>\n",
       "      <th>4</th>\n",
       "      <td>-</td>\n",
       "      <td>-1</td>\n",
       "      <td>20150000001739</td>\n",
       "      <td>33155</td>\n",
       "      <td>Field Contact</td>\n",
       "      <td>None</td>\n",
       "      <td>6973</td>\n",
       "      <td>1977</td>\n",
       "      <td>M</td>\n",
       "      <td>White</td>\n",
       "      <td>...</td>\n",
       "      <td>00:41:00</td>\n",
       "      <td>-</td>\n",
       "      <td>-</td>\n",
       "      <td>-</td>\n",
       "      <td>NaN</td>\n",
       "      <td>N</td>\n",
       "      <td>N</td>\n",
       "      <td>-</td>\n",
       "      <td>-</td>\n",
       "      <td>-</td>\n",
       "    </tr>\n",
       "  </tbody>\n",
       "</table>\n",
       "<p>5 rows × 23 columns</p>\n",
       "</div>"
      ],
      "text/plain": [
       "  sub_age_group  sub_id   go_num_sc_num  terryS_id stop_resolution  \\\n",
       "0             -      -1  20140000120677      92317          Arrest   \n",
       "1             -      -1  20150000001463      28806   Field Contact   \n",
       "2             -      -1  20150000001516      29599   Field Contact   \n",
       "3             -      -1  20150000001670      32260   Field Contact   \n",
       "4             -      -1  20150000001739      33155   Field Contact   \n",
       "\n",
       "  weapon_type officer_id  officer_YOB officer_gender  \\\n",
       "0        None     7500           1984              M   \n",
       "1        None     5670           1965              M   \n",
       "2        None     4844           1961              M   \n",
       "3        None     7539           1963              M   \n",
       "4        None     6973           1977              M   \n",
       "\n",
       "                officer_race  ... reported_time initial_calltype  \\\n",
       "0  Black or African American  ...      11:32:00                -   \n",
       "1                      White  ...      07:59:00                -   \n",
       "2                      White  ...      19:12:00                -   \n",
       "3                      White  ...      04:55:00                -   \n",
       "4                      White  ...      00:41:00                -   \n",
       "\n",
       "  final_calltype call_type             officer_squad arrest_flag frisk_flag  \\\n",
       "0              -         -  SOUTH PCT 1ST W - ROBERT           N          N   \n",
       "1              -         -                       NaN           N          N   \n",
       "2              -         -                       NaN           N          -   \n",
       "3              -         -                       NaN           N          N   \n",
       "4              -         -                       NaN           N          N   \n",
       "\n",
       "  precinct  sector    beat  \n",
       "0    South  O       O2      \n",
       "1        -       -       -  \n",
       "2        -       -       -  \n",
       "3        -       -       -  \n",
       "4        -       -       -  \n",
       "\n",
       "[5 rows x 23 columns]"
      ]
     },
     "execution_count": 217,
     "metadata": {},
     "output_type": "execute_result"
    }
   ],
   "source": [
    "update_col_names = {'Subject Age Group':'sub_age_group', 'Subject ID':'sub_id', \n",
    "                    'GO / SC Num':'go_num_sc_num','Terry Stop ID':'terryS_id', \n",
    "                    'Stop Resolution':'stop_resolution','Weapon Type':'weapon_type',\n",
    "                    'Officer ID':'officer_id','Officer YOB':'officer_YOB',\n",
    "                    'Officer Gender':'officer_gender','Officer Race':'officer_race',\n",
    "                    'Subject Perceived Race':'sub_perceived_race','Subject Perceived Gender':'sub_perceived_gender',\n",
    "                    'Reported Date':'reported_date','Reported Time':'reported_time',\n",
    "                    'Initial Call Type':'initial_calltype','Final Call Type':'final_calltype',\n",
    "                    'Call Type':'call_type','Officer Squad':'officer_squad',\n",
    "                    'Arrest Flag':'arrest_flag','Frisk Flag':'frisk_flag',\n",
    "                    'Precinct':'precinct','Sector':'sector','Beat':'beat'}\n",
    "df.rename(columns=update_col_names, inplace=True)\n",
    "df.head()"
   ]
  },
  {
   "cell_type": "markdown",
   "metadata": {},
   "source": [
    "Much better!"
   ]
  },
  {
   "cell_type": "markdown",
   "metadata": {},
   "source": [
    "## Creating Features from the Data ##"
   ]
  },
  {
   "cell_type": "markdown",
   "metadata": {},
   "source": [
    "Part of the data that the columns tell us is the officers year of birth, but it does not tell us the officer's age. It seems more reasonable to have an age feature for a cop to help with our prediction model. \n",
    "\n",
    "We will use the officer's year of birth and the date that the reported stop was made to figure out the age of the officer when he made the stop."
   ]
  },
  {
   "cell_type": "code",
   "execution_count": 218,
   "metadata": {},
   "outputs": [
    {
     "data": {
      "text/plain": [
       "27062    1900\n",
       "1058     1900\n",
       "25205    1900\n",
       "1080     1900\n",
       "46088    1900\n",
       "         ... \n",
       "43572    1998\n",
       "38661    1998\n",
       "36743    1998\n",
       "37464    1998\n",
       "27451    1998\n",
       "Name: officer_YOB, Length: 47213, dtype: int64"
      ]
     },
     "execution_count": 218,
     "metadata": {},
     "output_type": "execute_result"
    }
   ],
   "source": [
    "df.officer_YOB.sort_values(ascending=True)"
   ]
  },
  {
   "cell_type": "code",
   "execution_count": 219,
   "metadata": {},
   "outputs": [],
   "source": [
    "for x in range(len(df.reported_date)):\n",
    "    df.reported_date = df.reported_date[x][0:10]\n",
    "    df['year_reported'] = df.reported_date[x][0:4]"
   ]
  },
  {
   "cell_type": "code",
   "execution_count": 220,
   "metadata": {
    "scrolled": true
   },
   "outputs": [],
   "source": [
    "df['officer_age'] = df.year_reported.astype(int) - df.officer_YOB"
   ]
  },
  {
   "cell_type": "code",
   "execution_count": 221,
   "metadata": {
    "scrolled": true
   },
   "outputs": [
    {
     "data": {
      "text/plain": [
       "35978    115\n",
       "36308    115\n",
       "24902    115\n",
       "38084    115\n",
       "38025    115\n",
       "        ... \n",
       "11461     17\n",
       "27451     17\n",
       "37464     17\n",
       "12988     17\n",
       "12044     17\n",
       "Name: officer_age, Length: 47213, dtype: int64"
      ]
     },
     "execution_count": 221,
     "metadata": {},
     "output_type": "execute_result"
    }
   ],
   "source": [
    "df['officer_age'].sort_values(ascending=False)"
   ]
  },
  {
   "cell_type": "markdown",
   "metadata": {},
   "source": [
    "It is highly unlikely that there were 115 year old officers doing stops. We will filter out those along with officers that are around the 80 year old mark."
   ]
  },
  {
   "cell_type": "code",
   "execution_count": 222,
   "metadata": {},
   "outputs": [],
   "source": [
    "df = df[df.officer_age <= 80]"
   ]
  },
  {
   "cell_type": "code",
   "execution_count": 223,
   "metadata": {},
   "outputs": [
    {
     "data": {
      "text/plain": [
       "5328     69\n",
       "3869     69\n",
       "4541     67\n",
       "45062    67\n",
       "29523    67\n",
       "         ..\n",
       "46555    17\n",
       "38007    17\n",
       "38661    17\n",
       "44108    17\n",
       "43393    17\n",
       "Name: officer_age, Length: 47178, dtype: int64"
      ]
     },
     "execution_count": 223,
     "metadata": {},
     "output_type": "execute_result"
    }
   ],
   "source": [
    "df['officer_age'].sort_values(ascending=False)"
   ]
  },
  {
   "cell_type": "markdown",
   "metadata": {},
   "source": [
    "Much better and reasonable."
   ]
  },
  {
   "cell_type": "markdown",
   "metadata": {},
   "source": [
    "Now let's categorize the feature `weapon_type` by replacing no weapons found values as 0 and weapons found as 1."
   ]
  },
  {
   "cell_type": "code",
   "execution_count": 224,
   "metadata": {},
   "outputs": [
    {
     "data": {
      "text/plain": [
       "array(['None', 'Firearm Other', 'Lethal Cutting Instrument', 'Handgun',\n",
       "       '-', 'Club, Blackjack, Brass Knuckles',\n",
       "       'Knife/Cutting/Stabbing Instrument', 'Other Firearm', 'Rifle',\n",
       "       'Fire/Incendiary Device', 'Blunt Object/Striking Implement',\n",
       "       'Firearm (unk type)', 'Mace/Pepper Spray', 'None/Not Applicable',\n",
       "       'Club', 'Firearm', 'Taser/Stun Gun', 'Shotgun', 'Brass Knuckles',\n",
       "       'Automatic Handgun', 'Blackjack',\n",
       "       'Personal Weapons (hands, feet, etc.)'], dtype=object)"
      ]
     },
     "execution_count": 224,
     "metadata": {},
     "output_type": "execute_result"
    }
   ],
   "source": [
    "df.weapon_type = df.weapon_type.astype(str)\n",
    "df.weapon_type.unique()"
   ]
  },
  {
   "cell_type": "code",
   "execution_count": 225,
   "metadata": {},
   "outputs": [],
   "source": [
    "list_to_replace_weapons = ['1', '-', 'None', 'Knife/Cutting/Stabbing Instrument',\n",
    "       'Other Firearm', 'Rifle', 'Fire/Incendiary Device',\n",
    "       'Blunt Object/Striking Implement', 'Firearm Other',\n",
    "       'Lethal Cutting Instrument', 'Handgun', 'Firearm (unk type)',\n",
    "       'Mace/Pepper Spray', 'None/Not Applicable', 'Club',\n",
    "       'Club, Blackjack, Brass Knuckles', 'Firearm', 'Taser/Stun Gun',\n",
    "       'Shotgun', 'Brass Knuckles', 'Automatic Handgun', 'Blackjack',\n",
    "       'Personal Weapons (hands, feet, etc.)']\n",
    "\n",
    "df.weapon_type.replace(to_replace='None',value=0, inplace=True)\n",
    "df.weapon_type.replace(to_replace=list_to_replace_weapons, value=1,inplace=True)"
   ]
  },
  {
   "cell_type": "code",
   "execution_count": 226,
   "metadata": {},
   "outputs": [
    {
     "data": {
      "text/plain": [
       "0    0\n",
       "1    0\n",
       "2    0\n",
       "3    0\n",
       "4    0\n",
       "Name: weapon_type, dtype: int64"
      ]
     },
     "execution_count": 226,
     "metadata": {},
     "output_type": "execute_result"
    }
   ],
   "source": [
    "df.weapon_type.head()"
   ]
  },
  {
   "cell_type": "code",
   "execution_count": 227,
   "metadata": {},
   "outputs": [
    {
     "data": {
      "text/plain": [
       "0    32558\n",
       "1    14620\n",
       "Name: weapon_type, dtype: int64"
      ]
     },
     "execution_count": 227,
     "metadata": {},
     "output_type": "execute_result"
    }
   ],
   "source": [
    "df.weapon_type.value_counts()"
   ]
  },
  {
   "cell_type": "markdown",
   "metadata": {},
   "source": [
    "## Rest of the columns ##"
   ]
  },
  {
   "cell_type": "code",
   "execution_count": 228,
   "metadata": {},
   "outputs": [],
   "source": [
    "df.sub_age_group = df.sub_age_group.astype('category').cat.as_ordered()"
   ]
  },
  {
   "cell_type": "code",
   "execution_count": 229,
   "metadata": {},
   "outputs": [],
   "source": [
    "df.officer_gender = df.officer_gender.astype('category').cat.as_ordered()"
   ]
  },
  {
   "cell_type": "code",
   "execution_count": 230,
   "metadata": {},
   "outputs": [
    {
     "data": {
      "text/plain": [
       "M    41780\n",
       "F     5398\n",
       "Name: officer_gender, dtype: int64"
      ]
     },
     "execution_count": 230,
     "metadata": {},
     "output_type": "execute_result"
    }
   ],
   "source": [
    "df.officer_gender.value_counts()"
   ]
  },
  {
   "cell_type": "code",
   "execution_count": 231,
   "metadata": {},
   "outputs": [],
   "source": [
    "df.officer_race = df.officer_race.astype('category').cat.as_ordered()"
   ]
  },
  {
   "cell_type": "code",
   "execution_count": 232,
   "metadata": {},
   "outputs": [],
   "source": [
    "df.sub_perceived_race = df.sub_perceived_race.astype('category').cat.as_ordered()"
   ]
  },
  {
   "cell_type": "code",
   "execution_count": 233,
   "metadata": {},
   "outputs": [
    {
     "data": {
      "text/plain": [
       "White                                        23034\n",
       "Black or African American                    14043\n",
       "Unknown                                       2625\n",
       "-                                             1883\n",
       "Hispanic                                      1683\n",
       "Asian                                         1536\n",
       "American Indian or Alaska Native              1357\n",
       "Multi-Racial                                   809\n",
       "Other                                          152\n",
       "Native Hawaiian or Other Pacific Islander       56\n",
       "Name: sub_perceived_race, dtype: int64"
      ]
     },
     "execution_count": 233,
     "metadata": {},
     "output_type": "execute_result"
    }
   ],
   "source": [
    "df.sub_perceived_race.value_counts()"
   ]
  },
  {
   "cell_type": "code",
   "execution_count": 234,
   "metadata": {},
   "outputs": [],
   "source": [
    "df.sub_perceived_gender = df.sub_perceived_gender.astype('category').cat.as_ordered()"
   ]
  },
  {
   "cell_type": "code",
   "execution_count": 235,
   "metadata": {},
   "outputs": [
    {
     "data": {
      "text/plain": [
       "Male                                                         36972\n",
       "Female                                                        9572\n",
       "Unable to Determine                                            326\n",
       "-                                                              277\n",
       "Unknown                                                         25\n",
       "Gender Diverse (gender non-conforming and/or transgender)        6\n",
       "Name: sub_perceived_gender, dtype: int64"
      ]
     },
     "execution_count": 235,
     "metadata": {},
     "output_type": "execute_result"
    }
   ],
   "source": [
    "df.sub_perceived_gender.value_counts()"
   ]
  },
  {
   "cell_type": "code",
   "execution_count": 236,
   "metadata": {},
   "outputs": [],
   "source": [
    "df.frisk_flag = df.frisk_flag.astype('category').cat.as_ordered()"
   ]
  },
  {
   "cell_type": "code",
   "execution_count": 237,
   "metadata": {},
   "outputs": [
    {
     "data": {
      "text/plain": [
       "N    36118\n",
       "Y    10582\n",
       "-      478\n",
       "Name: frisk_flag, dtype: int64"
      ]
     },
     "execution_count": 237,
     "metadata": {},
     "output_type": "execute_result"
    }
   ],
   "source": [
    "df.frisk_flag.value_counts()"
   ]
  },
  {
   "cell_type": "code",
   "execution_count": 238,
   "metadata": {},
   "outputs": [],
   "source": [
    "df.call_type = df.call_type.astype('category').cat.as_ordered()"
   ]
  },
  {
   "cell_type": "code",
   "execution_count": 239,
   "metadata": {},
   "outputs": [
    {
     "data": {
      "text/plain": [
       "911                              21284\n",
       "-                                13128\n",
       "ONVIEW                            9110\n",
       "TELEPHONE OTHER, NOT 911          3308\n",
       "ALARM CALL (NOT POLICE ALARM)      340\n",
       "TEXT MESSAGE                         7\n",
       "SCHEDULED EVENT (RECURRING)          1\n",
       "Name: call_type, dtype: int64"
      ]
     },
     "execution_count": 239,
     "metadata": {},
     "output_type": "execute_result"
    }
   ],
   "source": [
    "df.call_type.value_counts()"
   ]
  },
  {
   "cell_type": "markdown",
   "metadata": {},
   "source": [
    "## Encoding target values ##"
   ]
  },
  {
   "cell_type": "code",
   "execution_count": 173,
   "metadata": {},
   "outputs": [
    {
     "data": {
      "text/plain": [
       "Field Contact               18966\n",
       "Offense Report              15642\n",
       "Arrest                      11663\n",
       "Referred for Prosecution      728\n",
       "Citation / Infraction         179\n",
       "Name: stop_resolution, dtype: int64"
      ]
     },
     "execution_count": 173,
     "metadata": {},
     "output_type": "execute_result"
    }
   ],
   "source": [
    "df.stop_resolution.value_counts()"
   ]
  },
  {
   "cell_type": "code",
   "execution_count": 174,
   "metadata": {},
   "outputs": [],
   "source": [
    "new_target_values = {'Arrest':1,\n",
    "                     'Field Contact':0,\n",
    "                     'Citation / Infraction':0,\n",
    "                     'Offense Report':0,\n",
    "                     'Referred for Prosecution':0}"
   ]
  },
  {
   "cell_type": "code",
   "execution_count": 175,
   "metadata": {},
   "outputs": [],
   "source": [
    "df['stop_resolution'].replace(new_target_values, inplace=True)"
   ]
  },
  {
   "cell_type": "markdown",
   "metadata": {},
   "source": [
    "## Splitting the data ##"
   ]
  },
  {
   "cell_type": "code",
   "execution_count": 176,
   "metadata": {},
   "outputs": [],
   "source": [
    "x_feats = ['sub_age_group','weapon_type','officer_gender','officer_race','sub_perceived_race',\n",
    "           'sub_perceived_gender','frisk_flag','call_type','officer_age']"
   ]
  },
  {
   "cell_type": "code",
   "execution_count": 177,
   "metadata": {},
   "outputs": [],
   "source": [
    "X = df[x_feats]\n",
    "y = df['stop_resolution']"
   ]
  },
  {
   "cell_type": "code",
   "execution_count": null,
   "metadata": {},
   "outputs": [],
   "source": []
  },
  {
   "cell_type": "code",
   "execution_count": 193,
   "metadata": {},
   "outputs": [],
   "source": [
    "X_train_all, X_test_all, y_train_all, y_test_all = train_test_split(X,y, random_state=42)\n",
    "X_train, X_test, y_train, y_test = train_test_split(X_train_all, y_train_all, random_state=42)"
   ]
  },
  {
   "cell_type": "code",
   "execution_count": 194,
   "metadata": {},
   "outputs": [],
   "source": [
    "ohe = OneHotEncoder()\n",
    "X_train = ohe.fit_transform(X_train)\n",
    "X_test = ohe.fit_transform(X_test)"
   ]
  },
  {
   "cell_type": "code",
   "execution_count": 195,
   "metadata": {},
   "outputs": [],
   "source": [
    "logreg = LogisticRegression()"
   ]
  },
  {
   "cell_type": "code",
   "execution_count": 196,
   "metadata": {
    "scrolled": true
   },
   "outputs": [
    {
     "name": "stderr",
     "output_type": "stream",
     "text": [
      "/Users/edgarbarron/opt/anaconda3/envs/learn-env/lib/python3.8/site-packages/sklearn/linear_model/_logistic.py:762: ConvergenceWarning: lbfgs failed to converge (status=1):\n",
      "STOP: TOTAL NO. of ITERATIONS REACHED LIMIT.\n",
      "\n",
      "Increase the number of iterations (max_iter) or scale the data as shown in:\n",
      "    https://scikit-learn.org/stable/modules/preprocessing.html\n",
      "Please also refer to the documentation for alternative solver options:\n",
      "    https://scikit-learn.org/stable/modules/linear_model.html#logistic-regression\n",
      "  n_iter_i = _check_optimize_result(\n"
     ]
    }
   ],
   "source": [
    "model_1 = logreg.fit(X_train, y_train)"
   ]
  },
  {
   "cell_type": "code",
   "execution_count": 197,
   "metadata": {},
   "outputs": [],
   "source": [
    "y_hat_train = logreg.predict(X_train)\n",
    "y_hat_test = logreg.predict(X_test)"
   ]
  },
  {
   "cell_type": "code",
   "execution_count": 198,
   "metadata": {},
   "outputs": [
    {
     "name": "stdout",
     "output_type": "stream",
     "text": [
      "F1 score for training data: 0.10407117821515234\n",
      "-------------------------------------------\n",
      "F1 score for testing data: 0.04033884630899556\n"
     ]
    }
   ],
   "source": [
    "print('F1 score for training data: {}'.format(f1_score(y_train, y_hat_train)))\n",
    "print('-------------------------------------------')\n",
    "print('F1 score for testing data: {}'.format(f1_score(y_test, y_hat_test)))"
   ]
  },
  {
   "cell_type": "markdown",
   "metadata": {},
   "source": [
    "F1 score appears to be at 10% which is not good.\n",
    "\n",
    "Let's visualize this with a confusion matrix."
   ]
  },
  {
   "cell_type": "code",
   "execution_count": 211,
   "metadata": {},
   "outputs": [
    {
     "data": {
      "image/png": "[encoded data removed]",
      "text/plain": [
       "<Figure size 720x432 with 4 Axes>"
      ]
     },
     "metadata": {
      "needs_background": "light"
     },
     "output_type": "display_data"
    }
   ],
   "source": [
    "fig, (ax1,ax2) = plt.subplots(ncols=2, figsize=(10,6))\n",
    "plot_confusion_matrix(logreg, X_train, y_train, cmap=plt.cm.magma, ax=ax1)\n",
    "plot_confusion_matrix(logreg, X_test, y_test, cmap=plt.cm.magma, ax=ax2)\n",
    "ax1.set_title('Training Data', size=20)\n",
    "ax2.set_title('Testing Data', size=20)\n",
    "plt.show()"
   ]
  },
  {
   "cell_type": "code",
   "execution_count": 205,
   "metadata": {},
   "outputs": [],
   "source": [
    "smote = SMOTE()\n",
    "X_train_resampled, y_train_resampled  = smote.fit_sample(X_train, y_train)\n",
    "X_test_resampled, y_test_resampled = smote.fit_sample(X_test,y_test)"
   ]
  },
  {
   "cell_type": "code",
   "execution_count": 206,
   "metadata": {
    "scrolled": true
   },
   "outputs": [
    {
     "name": "stdout",
     "output_type": "stream",
     "text": [
      "1    19907\n",
      "0    19907\n",
      "Name: stop_resolution, dtype: int64\n",
      "-------------------------------------\n",
      "1    6649\n",
      "0    6649\n",
      "Name: stop_resolution, dtype: int64\n"
     ]
    }
   ],
   "source": [
    "print(pd.Series(y_train_resampled).value_counts())\n",
    "print('-------------------------------------')\n",
    "print(pd.Series(y_test_resampled).value_counts())"
   ]
  },
  {
   "cell_type": "code",
   "execution_count": 207,
   "metadata": {},
   "outputs": [
    {
     "name": "stderr",
     "output_type": "stream",
     "text": [
      "/Users/edgarbarron/opt/anaconda3/envs/learn-env/lib/python3.8/site-packages/sklearn/linear_model/_logistic.py:762: ConvergenceWarning: lbfgs failed to converge (status=1):\n",
      "STOP: TOTAL NO. of ITERATIONS REACHED LIMIT.\n",
      "\n",
      "Increase the number of iterations (max_iter) or scale the data as shown in:\n",
      "    https://scikit-learn.org/stable/modules/preprocessing.html\n",
      "Please also refer to the documentation for alternative solver options:\n",
      "    https://scikit-learn.org/stable/modules/linear_model.html#logistic-regression\n",
      "  n_iter_i = _check_optimize_result(\n"
     ]
    }
   ],
   "source": [
    "model_2 = logreg.fit(X_train_resampled, y_train_resampled)"
   ]
  },
  {
   "cell_type": "code",
   "execution_count": 208,
   "metadata": {},
   "outputs": [],
   "source": [
    "y_hat_train2 = logreg.predict(X_train_resampled)\n",
    "y_hat_test2 = logreg.predict(X_test_resampled)"
   ]
  },
  {
   "cell_type": "code",
   "execution_count": 210,
   "metadata": {},
   "outputs": [
    {
     "name": "stdout",
     "output_type": "stream",
     "text": [
      "F1 score for training data: 0.7262364886996397\n",
      "-------------------------------------------\n",
      "F1 score for testing data: 0.21759736245621264\n"
     ]
    }
   ],
   "source": [
    "print('F1 score for training data: {}'.format(f1_score(y_train_resampled, y_hat_train2)))\n",
    "print('-------------------------------------------')\n",
    "print('F1 score for testing data: {}'.format(f1_score(y_test_resampled, y_hat_test2)))"
   ]
  },
  {
   "cell_type": "markdown",
   "metadata": {},
   "source": [
    "We see that the training data has a way higher score than the testing score which may mean we are overfitting the data a bit. We will perform some regularization to prevent this."
   ]
  },
  {
   "cell_type": "code",
   "execution_count": null,
   "metadata": {},
   "outputs": [],
   "source": []
  },
  {
   "cell_type": "code",
   "execution_count": null,
   "metadata": {},
   "outputs": [],
   "source": []
  },
  {
   "cell_type": "code",
   "execution_count": null,
   "metadata": {},
   "outputs": [],
   "source": []
  },
  {
   "cell_type": "code",
   "execution_count": null,
   "metadata": {},
   "outputs": [],
   "source": []
  },
  {
   "cell_type": "code",
   "execution_count": null,
   "metadata": {},
   "outputs": [],
   "source": []
  },
  {
   "cell_type": "code",
   "execution_count": null,
   "metadata": {},
   "outputs": [],
   "source": []
  },
  {
   "cell_type": "code",
   "execution_count": null,
   "metadata": {},
   "outputs": [],
   "source": []
  },
  {
   "cell_type": "code",
   "execution_count": null,
   "metadata": {},
   "outputs": [],
   "source": []
  },
  {
   "cell_type": "code",
   "execution_count": null,
   "metadata": {},
   "outputs": [],
   "source": []
  },
  {
   "cell_type": "code",
   "execution_count": null,
   "metadata": {},
   "outputs": [],
   "source": []
  },
  {
   "cell_type": "code",
   "execution_count": null,
   "metadata": {},
   "outputs": [],
   "source": []
  },
  {
   "cell_type": "code",
   "execution_count": null,
   "metadata": {},
   "outputs": [],
   "source": []
  },
  {
   "cell_type": "code",
   "execution_count": null,
   "metadata": {},
   "outputs": [],
   "source": []
  },
  {
   "cell_type": "code",
   "execution_count": null,
   "metadata": {},
   "outputs": [],
   "source": []
  },
  {
   "cell_type": "code",
   "execution_count": null,
   "metadata": {},
   "outputs": [],
   "source": []
  },
  {
   "cell_type": "code",
   "execution_count": null,
   "metadata": {},
   "outputs": [],
   "source": []
  },
  {
   "cell_type": "code",
   "execution_count": null,
   "metadata": {},
   "outputs": [],
   "source": []
  },
  {
   "cell_type": "code",
   "execution_count": null,
   "metadata": {},
   "outputs": [],
   "source": []
  },
  {
   "cell_type": "code",
   "execution_count": 49,
   "metadata": {},
   "outputs": [],
   "source": [
    "scale = MinMaxScaler()\n",
    "X_train_transformed = scale.fit_transform(X_train_resampled)\n",
    "X_test_transformed = scale.transform(X_test)"
   ]
  },
  {
   "cell_type": "code",
   "execution_count": 50,
   "metadata": {},
   "outputs": [
    {
     "data": {
      "text/plain": [
       "LinearRegression()"
      ]
     },
     "execution_count": 50,
     "metadata": {},
     "output_type": "execute_result"
    }
   ],
   "source": [
    "ridge = Ridge(alpha=0.5)\n",
    "ridge.fit(X_train_transformed, y_train_resampled)\n",
    "\n",
    "lasso = Lasso(alpha=0.5)\n",
    "lasso.fit(X_train_transformed, y_train_resampled)\n",
    "\n",
    "lin = LinearRegression()\n",
    "lin.fit(X_train_transformed, y_train_resampled)"
   ]
  },
  {
   "cell_type": "code",
   "execution_count": 51,
   "metadata": {},
   "outputs": [],
   "source": [
    "y_h_ridge_train = ridge.predict(X_train_transformed)\n",
    "y_h_ridge_test = ridge.predict(X_test_transformed)\n",
    "\n",
    "y_h_lasso_train = lasso.predict(X_train_transformed)\n",
    "y_h_lasso_test = lasso.predict(X_test_transformed)\n",
    "\n",
    "y_h_lin_train = lin.predict(X_train_transformed)\n",
    "y_h_lin_test = lin.predict(X_test_transformed)"
   ]
  },
  {
   "cell_type": "code",
   "execution_count": 54,
   "metadata": {},
   "outputs": [
    {
     "data": {
      "text/plain": [
       "0        1.0\n",
       "1        0.0\n",
       "2        0.0\n",
       "3        0.0\n",
       "4        1.0\n",
       "        ... \n",
       "39867    1.0\n",
       "39868    1.0\n",
       "39869    1.0\n",
       "39870    1.0\n",
       "39871    1.0\n",
       "Name: stop_resolution, Length: 39872, dtype: float64"
      ]
     },
     "execution_count": 54,
     "metadata": {},
     "output_type": "execute_result"
    }
   ],
   "source": [
    "y_train_resampled"
   ]
  },
  {
   "cell_type": "code",
   "execution_count": 52,
   "metadata": {},
   "outputs": [
    {
     "name": "stdout",
     "output_type": "stream",
     "text": [
      "Train Error Ridge Model 8194.495704372943\n",
      "Test Error Ridge Model 1944.3285642812364\n",
      "\n",
      "\n",
      "Train Error Lasso Model 9968.0\n",
      "Test Error Lasso Model 2211.5\n",
      "\n",
      "\n",
      "Train Error Unpenalized Linear Model 8194.393766114665\n",
      "Test Error Unpenalized Linear Model 1944.5698692303708\n"
     ]
    }
   ],
   "source": [
    "# Generate preditions for training and test sets\n",
    "print('Train Error Ridge Model', np.sum((y_train_resampled - y_h_ridge_train)**2))\n",
    "print('Test Error Ridge Model', np.sum((y_test - y_h_ridge_test)**2))\n",
    "print('\\n')\n",
    "\n",
    "print('Train Error Lasso Model', np.sum((y_train_resampled - y_h_lasso_train)**2))\n",
    "print('Test Error Lasso Model', np.sum((y_test - y_h_lasso_test)**2))\n",
    "print('\\n')\n",
    "\n",
    "print('Train Error Unpenalized Linear Model', np.sum((y_train_resampled - lin.predict(X_train_transformed))**2))\n",
    "print('Test Error Unpenalized Linear Model', np.sum((y_test - lin.predict(X_test_transformed))**2))"
   ]
  },
  {
   "cell_type": "code",
   "execution_count": 53,
   "metadata": {},
   "outputs": [
    {
     "name": "stdout",
     "output_type": "stream",
     "text": [
      "Ridge parameter coefficients: [-0.03431172  0.05527785  0.12991867  0.15211727  0.14181769  0.1191826\n",
      "  0.08130374  0.08228333 -0.10910781 -0.12779754 -0.07461949 -0.16139769\n",
      " -0.08734983 -0.04109543 -0.01587842  0.28774552  0.27910043  0.30010039\n",
      "  0.27293466  0.22205971  0.24114304  0.2693132   0.23657506  0.28326524\n",
      " -0.2606062  -0.51324245 -0.25486011 -0.12705319 -0.52070531 -0.05184996\n",
      "  0.08121381 -0.05835194 -0.13330565 -0.13449168 -0.39048054  0.\n",
      " -0.15424141 -0.1652162  -0.09282825 -0.11856117 -0.17419516 -0.1372087\n",
      " -0.14549671 -0.13974152 -0.13097248 -0.11705605 -0.14766037 -0.17351278\n",
      " -0.0621378  -0.14704785 -0.1431922  -0.15560482 -0.15938387 -0.12549707\n",
      " -0.14739285 -0.13663524 -0.15686652 -0.11008539 -0.14008634  0.42611673\n",
      "  0.25812105  0.42113009  0.          0.38058083  0.77885409]\n",
      "Lasso parameter coefficients: [ 0. -0. -0.  0.  0. -0. -0.  0. -0. -0. -0. -0. -0. -0.  0.  0.  0.  0.\n",
      " -0. -0.  0. -0. -0. -0. -0. -0.  0. -0. -0. -0.  0. -0. -0. -0. -0.  0.\n",
      " -0. -0.  0.  0. -0. -0. -0. -0. -0. -0. -0. -0.  0. -0. -0. -0. -0.  0.\n",
      " -0. -0. -0.  0. -0.  0. -0.  0.  0.  0.  0.]\n",
      "Linear model parameter coefficients: [-3.42060740e-02  5.64287180e-02  1.31055761e-01  1.53246446e-01\n",
      "  1.42935911e-01  1.20292605e-01  8.24885077e-02  8.22470703e-02\n",
      " -1.10779464e-01 -1.29389849e-01 -7.62948194e-02 -1.63194625e-01\n",
      " -8.90394418e-02 -4.27295626e-02 -1.75024409e-02  2.89664361e-01\n",
      "  2.81022731e-01  3.01870187e-01  2.74876310e-01  2.24069077e-01\n",
      "  2.46188719e-01  2.72412509e-01  2.38607615e-01  2.85059155e-01\n",
      " -2.67880469e-01 -7.77588393e-01 -2.62138399e-01 -1.33285435e-01\n",
      " -5.44747653e-01 -5.15004148e-02  8.14972256e-02 -5.83527689e-02\n",
      " -1.33309036e-01 -1.34586881e-01 -3.93536941e-01  8.88178420e-16\n",
      " -1.55057415e-01 -1.65987188e-01 -9.36088096e-02 -1.19338807e-01\n",
      " -1.75036389e-01 -1.37852231e-01 -1.46301211e-01 -1.40493769e-01\n",
      " -1.31739812e-01 -1.17789610e-01 -1.48396633e-01 -1.74259763e-01\n",
      " -6.29305037e-02 -1.47792886e-01 -1.43909145e-01 -1.56376058e-01\n",
      " -1.60182407e-01 -1.26325984e-01 -1.48210224e-01 -1.37522219e-01\n",
      " -1.57693401e-01 -1.10878060e-01 -1.40852862e-01  4.26273114e-01\n",
      "  2.58837685e-01  4.21323606e-01  6.93889390e-18  3.80803005e-01\n",
      "  8.29688099e-01]\n"
     ]
    }
   ],
   "source": [
    "print('Ridge parameter coefficients:', ridge.coef_)\n",
    "print('Lasso parameter coefficients:', lasso.coef_)\n",
    "print('Linear model parameter coefficients:', lin.coef_)"
   ]
  },
  {
   "cell_type": "code",
   "execution_count": null,
   "metadata": {
    "scrolled": true
   },
   "outputs": [],
   "source": [
    "lasso = LassoCV(max_iter=100, cv=5)\n",
    "lasso.fit(X_train_transformed, y_h_lasso_train)\n",
    "run_model(lasso, X_train_transformed, X_test_transformed, y_h_lasso_train, y_h_lasso_test)\n",
    "print('The optimal alpha for the Lasso Regression is: ', lasso.alpha_)"
   ]
  },
  {
   "cell_type": "code",
   "execution_count": null,
   "metadata": {},
   "outputs": [],
   "source": [
    "lasso_penalized = Lasso(alpha=3.6588363303797415e-05)\n",
    "lasso_penalized.fit(X_train_transformed, y_train)"
   ]
  },
  {
   "cell_type": "code",
   "execution_count": null,
   "metadata": {},
   "outputs": [],
   "source": [
    "y_train_preds_lasso_pen = lasso_penalized.predict(X_train_transformed)\n",
    "y_test_preds_lasso_pen = lasso_penalized.predict(X_test_transformed)"
   ]
  },
  {
   "cell_type": "code",
   "execution_count": null,
   "metadata": {},
   "outputs": [],
   "source": [
    "print('F1 score for training data: {}'.format(f1_score(y_train, y_train_preds_lasso_pen)))\n",
    "print('-------------------------------------------')\n",
    "print('F1 score for testing data: {}'.format(f1_score(y_test, y_test_preds_lasso_pen)))"
   ]
  },
  {
   "cell_type": "code",
   "execution_count": null,
   "metadata": {},
   "outputs": [],
   "source": []
  },
  {
   "cell_type": "code",
   "execution_count": null,
   "metadata": {},
   "outputs": [],
   "source": []
  },
  {
   "cell_type": "code",
   "execution_count": null,
   "metadata": {},
   "outputs": [],
   "source": []
  },
  {
   "cell_type": "code",
   "execution_count": null,
   "metadata": {},
   "outputs": [],
   "source": []
  },
  {
   "cell_type": "code",
   "execution_count": null,
   "metadata": {},
   "outputs": [],
   "source": []
  }
 ],
 "metadata": {
  "kernelspec": {
   "display_name": "Python 3",
   "language": "python",
   "name": "python3"
  },
  "language_info": {
   "codemirror_mode": {
    "name": "ipython",
    "version": 3
   },
   "file_extension": ".py",
   "mimetype": "text/x-python",
   "name": "python",
   "nbconvert_exporter": "python",
   "pygments_lexer": "ipython3",
   "version": "3.8.5"
  }
 },
 "nbformat": 4,
 "nbformat_minor": 5
}
