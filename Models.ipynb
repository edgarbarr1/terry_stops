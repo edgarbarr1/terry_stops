{
 "cells": [
  {
   "cell_type": "markdown",
   "metadata": {},
   "source": [
    "# Terry Stops #"
   ]
  },
  {
   "cell_type": "markdown",
   "metadata": {},
   "source": [
    "Let's import all the necessary libraries to analyze the data. The necessary libraries and other functions can be found in the file named `functions.py`."
   ]
  },
  {
   "cell_type": "code",
   "execution_count": 128,
   "metadata": {},
   "outputs": [
    {
     "name": "stdout",
     "output_type": "stream",
     "text": [
      "The autoreload extension is already loaded. To reload it, use:\n",
      "  %reload_ext autoreload\n"
     ]
    }
   ],
   "source": [
    "%load_ext autoreload\n",
    "%autoreload 2"
   ]
  },
  {
   "cell_type": "code",
   "execution_count": 129,
   "metadata": {},
   "outputs": [],
   "source": [
    "from functions import *\n",
    "%matplotlib inline"
   ]
  },
  {
   "cell_type": "markdown",
   "metadata": {},
   "source": [
    "Read the data and look at the first rows of data."
   ]
  },
  {
   "cell_type": "code",
   "execution_count": 66,
   "metadata": {},
   "outputs": [
    {
     "data": {
      "text/html": [
       "<div>\n",
       "<style scoped>\n",
       "    .dataframe tbody tr th:only-of-type {\n",
       "        vertical-align: middle;\n",
       "    }\n",
       "\n",
       "    .dataframe tbody tr th {\n",
       "        vertical-align: top;\n",
       "    }\n",
       "\n",
       "    .dataframe thead th {\n",
       "        text-align: right;\n",
       "    }\n",
       "</style>\n",
       "<table border=\"1\" class=\"dataframe\">\n",
       "  <thead>\n",
       "    <tr style=\"text-align: right;\">\n",
       "      <th></th>\n",
       "      <th>Subject Age Group</th>\n",
       "      <th>Subject ID</th>\n",
       "      <th>GO / SC Num</th>\n",
       "      <th>Terry Stop ID</th>\n",
       "      <th>Stop Resolution</th>\n",
       "      <th>Weapon Type</th>\n",
       "      <th>Officer ID</th>\n",
       "      <th>Officer YOB</th>\n",
       "      <th>Officer Gender</th>\n",
       "      <th>Officer Race</th>\n",
       "      <th>...</th>\n",
       "      <th>Reported Time</th>\n",
       "      <th>Initial Call Type</th>\n",
       "      <th>Final Call Type</th>\n",
       "      <th>Call Type</th>\n",
       "      <th>Officer Squad</th>\n",
       "      <th>Arrest Flag</th>\n",
       "      <th>Frisk Flag</th>\n",
       "      <th>Precinct</th>\n",
       "      <th>Sector</th>\n",
       "      <th>Beat</th>\n",
       "    </tr>\n",
       "  </thead>\n",
       "  <tbody>\n",
       "    <tr>\n",
       "      <th>0</th>\n",
       "      <td>-</td>\n",
       "      <td>-1</td>\n",
       "      <td>20140000120677</td>\n",
       "      <td>92317</td>\n",
       "      <td>Arrest</td>\n",
       "      <td>None</td>\n",
       "      <td>7500</td>\n",
       "      <td>1984</td>\n",
       "      <td>M</td>\n",
       "      <td>Black or African American</td>\n",
       "      <td>...</td>\n",
       "      <td>11:32:00</td>\n",
       "      <td>-</td>\n",
       "      <td>-</td>\n",
       "      <td>-</td>\n",
       "      <td>SOUTH PCT 1ST W - ROBERT</td>\n",
       "      <td>N</td>\n",
       "      <td>N</td>\n",
       "      <td>South</td>\n",
       "      <td>O</td>\n",
       "      <td>O2</td>\n",
       "    </tr>\n",
       "    <tr>\n",
       "      <th>1</th>\n",
       "      <td>-</td>\n",
       "      <td>-1</td>\n",
       "      <td>20150000001463</td>\n",
       "      <td>28806</td>\n",
       "      <td>Field Contact</td>\n",
       "      <td>None</td>\n",
       "      <td>5670</td>\n",
       "      <td>1965</td>\n",
       "      <td>M</td>\n",
       "      <td>White</td>\n",
       "      <td>...</td>\n",
       "      <td>07:59:00</td>\n",
       "      <td>-</td>\n",
       "      <td>-</td>\n",
       "      <td>-</td>\n",
       "      <td>NaN</td>\n",
       "      <td>N</td>\n",
       "      <td>N</td>\n",
       "      <td>-</td>\n",
       "      <td>-</td>\n",
       "      <td>-</td>\n",
       "    </tr>\n",
       "    <tr>\n",
       "      <th>2</th>\n",
       "      <td>-</td>\n",
       "      <td>-1</td>\n",
       "      <td>20150000001516</td>\n",
       "      <td>29599</td>\n",
       "      <td>Field Contact</td>\n",
       "      <td>None</td>\n",
       "      <td>4844</td>\n",
       "      <td>1961</td>\n",
       "      <td>M</td>\n",
       "      <td>White</td>\n",
       "      <td>...</td>\n",
       "      <td>19:12:00</td>\n",
       "      <td>-</td>\n",
       "      <td>-</td>\n",
       "      <td>-</td>\n",
       "      <td>NaN</td>\n",
       "      <td>N</td>\n",
       "      <td>-</td>\n",
       "      <td>-</td>\n",
       "      <td>-</td>\n",
       "      <td>-</td>\n",
       "    </tr>\n",
       "    <tr>\n",
       "      <th>3</th>\n",
       "      <td>-</td>\n",
       "      <td>-1</td>\n",
       "      <td>20150000001670</td>\n",
       "      <td>32260</td>\n",
       "      <td>Field Contact</td>\n",
       "      <td>None</td>\n",
       "      <td>7539</td>\n",
       "      <td>1963</td>\n",
       "      <td>M</td>\n",
       "      <td>White</td>\n",
       "      <td>...</td>\n",
       "      <td>04:55:00</td>\n",
       "      <td>-</td>\n",
       "      <td>-</td>\n",
       "      <td>-</td>\n",
       "      <td>NaN</td>\n",
       "      <td>N</td>\n",
       "      <td>N</td>\n",
       "      <td>-</td>\n",
       "      <td>-</td>\n",
       "      <td>-</td>\n",
       "    </tr>\n",
       "    <tr>\n",
       "      <th>4</th>\n",
       "      <td>-</td>\n",
       "      <td>-1</td>\n",
       "      <td>20150000001739</td>\n",
       "      <td>33155</td>\n",
       "      <td>Field Contact</td>\n",
       "      <td>None</td>\n",
       "      <td>6973</td>\n",
       "      <td>1977</td>\n",
       "      <td>M</td>\n",
       "      <td>White</td>\n",
       "      <td>...</td>\n",
       "      <td>00:41:00</td>\n",
       "      <td>-</td>\n",
       "      <td>-</td>\n",
       "      <td>-</td>\n",
       "      <td>NaN</td>\n",
       "      <td>N</td>\n",
       "      <td>N</td>\n",
       "      <td>-</td>\n",
       "      <td>-</td>\n",
       "      <td>-</td>\n",
       "    </tr>\n",
       "  </tbody>\n",
       "</table>\n",
       "<p>5 rows × 23 columns</p>\n",
       "</div>"
      ],
      "text/plain": [
       "  Subject Age Group  Subject ID     GO / SC Num  Terry Stop ID  \\\n",
       "0                 -          -1  20140000120677          92317   \n",
       "1                 -          -1  20150000001463          28806   \n",
       "2                 -          -1  20150000001516          29599   \n",
       "3                 -          -1  20150000001670          32260   \n",
       "4                 -          -1  20150000001739          33155   \n",
       "\n",
       "  Stop Resolution Weapon Type Officer ID  Officer YOB Officer Gender  \\\n",
       "0          Arrest        None     7500           1984              M   \n",
       "1   Field Contact        None     5670           1965              M   \n",
       "2   Field Contact        None     4844           1961              M   \n",
       "3   Field Contact        None     7539           1963              M   \n",
       "4   Field Contact        None     6973           1977              M   \n",
       "\n",
       "                Officer Race  ... Reported Time Initial Call Type  \\\n",
       "0  Black or African American  ...      11:32:00                 -   \n",
       "1                      White  ...      07:59:00                 -   \n",
       "2                      White  ...      19:12:00                 -   \n",
       "3                      White  ...      04:55:00                 -   \n",
       "4                      White  ...      00:41:00                 -   \n",
       "\n",
       "  Final Call Type Call Type             Officer Squad Arrest Flag Frisk Flag  \\\n",
       "0               -         -  SOUTH PCT 1ST W - ROBERT           N          N   \n",
       "1               -         -                       NaN           N          N   \n",
       "2               -         -                       NaN           N          -   \n",
       "3               -         -                       NaN           N          N   \n",
       "4               -         -                       NaN           N          N   \n",
       "\n",
       "  Precinct  Sector    Beat  \n",
       "0    South  O       O2      \n",
       "1        -       -       -  \n",
       "2        -       -       -  \n",
       "3        -       -       -  \n",
       "4        -       -       -  \n",
       "\n",
       "[5 rows x 23 columns]"
      ]
     },
     "execution_count": 66,
     "metadata": {},
     "output_type": "execute_result"
    }
   ],
   "source": [
    "df = pd.read_csv('Terry_Stops.csv')\n",
    "df.head()"
   ]
  },
  {
   "cell_type": "markdown",
   "metadata": {},
   "source": [
    "At first glance we can see that we have some missing data in the Subjet Age Group as well as Initial Call Type. Also some NaN values on Officer Squad. Let's dig in a little more to view what we hyave to work with."
   ]
  },
  {
   "cell_type": "code",
   "execution_count": 67,
   "metadata": {
    "scrolled": true
   },
   "outputs": [
    {
     "name": "stdout",
     "output_type": "stream",
     "text": [
      "Subject Age Group             0\n",
      "Subject ID                    0\n",
      "GO / SC Num                   0\n",
      "Terry Stop ID                 0\n",
      "Stop Resolution               0\n",
      "Weapon Type                   0\n",
      "Officer ID                    0\n",
      "Officer YOB                   0\n",
      "Officer Gender                0\n",
      "Officer Race                  0\n",
      "Subject Perceived Race        0\n",
      "Subject Perceived Gender      0\n",
      "Reported Date                 0\n",
      "Reported Time                 0\n",
      "Initial Call Type             0\n",
      "Final Call Type               0\n",
      "Call Type                     0\n",
      "Officer Squad               604\n",
      "Arrest Flag                   0\n",
      "Frisk Flag                    0\n",
      "Precinct                      0\n",
      "Sector                        0\n",
      "Beat                          0\n",
      "dtype: int64\n",
      "----------------------------------------------------------------------------\n",
      "<class 'pandas.core.frame.DataFrame'>\n",
      "RangeIndex: 47213 entries, 0 to 47212\n",
      "Data columns (total 23 columns):\n",
      " #   Column                    Non-Null Count  Dtype \n",
      "---  ------                    --------------  ----- \n",
      " 0   Subject Age Group         47213 non-null  object\n",
      " 1   Subject ID                47213 non-null  int64 \n",
      " 2   GO / SC Num               47213 non-null  int64 \n",
      " 3   Terry Stop ID             47213 non-null  int64 \n",
      " 4   Stop Resolution           47213 non-null  object\n",
      " 5   Weapon Type               47213 non-null  object\n",
      " 6   Officer ID                47213 non-null  object\n",
      " 7   Officer YOB               47213 non-null  int64 \n",
      " 8   Officer Gender            47213 non-null  object\n",
      " 9   Officer Race              47213 non-null  object\n",
      " 10  Subject Perceived Race    47213 non-null  object\n",
      " 11  Subject Perceived Gender  47213 non-null  object\n",
      " 12  Reported Date             47213 non-null  object\n",
      " 13  Reported Time             47213 non-null  object\n",
      " 14  Initial Call Type         47213 non-null  object\n",
      " 15  Final Call Type           47213 non-null  object\n",
      " 16  Call Type                 47213 non-null  object\n",
      " 17  Officer Squad             46609 non-null  object\n",
      " 18  Arrest Flag               47213 non-null  object\n",
      " 19  Frisk Flag                47213 non-null  object\n",
      " 20  Precinct                  47213 non-null  object\n",
      " 21  Sector                    47213 non-null  object\n",
      " 22  Beat                      47213 non-null  object\n",
      "dtypes: int64(4), object(19)\n",
      "memory usage: 8.3+ MB\n",
      "None\n"
     ]
    }
   ],
   "source": [
    "print(df.isna().sum())\n",
    "print('----------------------------------------------------------------------------')\n",
    "print(df.info())"
   ]
  },
  {
   "cell_type": "markdown",
   "metadata": {},
   "source": [
    "It appears as though we have a lot of information to work with and the only feature that has missing data is the `Officer Squad` feature."
   ]
  },
  {
   "cell_type": "markdown",
   "metadata": {},
   "source": [
    "Let's cleanup the names of the columns to make it easier to code."
   ]
  },
  {
   "cell_type": "code",
   "execution_count": 68,
   "metadata": {},
   "outputs": [
    {
     "data": {
      "text/plain": [
       "['Subject Age Group',\n",
       " 'Subject ID',\n",
       " 'GO / SC Num',\n",
       " 'Terry Stop ID',\n",
       " 'Stop Resolution',\n",
       " 'Weapon Type',\n",
       " 'Officer ID',\n",
       " 'Officer YOB',\n",
       " 'Officer Gender',\n",
       " 'Officer Race',\n",
       " 'Subject Perceived Race',\n",
       " 'Subject Perceived Gender',\n",
       " 'Reported Date',\n",
       " 'Reported Time',\n",
       " 'Initial Call Type',\n",
       " 'Final Call Type',\n",
       " 'Call Type',\n",
       " 'Officer Squad',\n",
       " 'Arrest Flag',\n",
       " 'Frisk Flag',\n",
       " 'Precinct',\n",
       " 'Sector',\n",
       " 'Beat']"
      ]
     },
     "execution_count": 68,
     "metadata": {},
     "output_type": "execute_result"
    }
   ],
   "source": [
    "list(df.columns)"
   ]
  },
  {
   "cell_type": "code",
   "execution_count": 69,
   "metadata": {},
   "outputs": [
    {
     "data": {
      "text/html": [
       "<div>\n",
       "<style scoped>\n",
       "    .dataframe tbody tr th:only-of-type {\n",
       "        vertical-align: middle;\n",
       "    }\n",
       "\n",
       "    .dataframe tbody tr th {\n",
       "        vertical-align: top;\n",
       "    }\n",
       "\n",
       "    .dataframe thead th {\n",
       "        text-align: right;\n",
       "    }\n",
       "</style>\n",
       "<table border=\"1\" class=\"dataframe\">\n",
       "  <thead>\n",
       "    <tr style=\"text-align: right;\">\n",
       "      <th></th>\n",
       "      <th>sub_age_group</th>\n",
       "      <th>sub_id</th>\n",
       "      <th>go_num_sc_num</th>\n",
       "      <th>terryS_id</th>\n",
       "      <th>stop_resolution</th>\n",
       "      <th>weapon_type</th>\n",
       "      <th>officer_id</th>\n",
       "      <th>officer_YOB</th>\n",
       "      <th>officer_gender</th>\n",
       "      <th>officer_race</th>\n",
       "      <th>...</th>\n",
       "      <th>reported_time</th>\n",
       "      <th>initial_calltype</th>\n",
       "      <th>final_calltype</th>\n",
       "      <th>call_type</th>\n",
       "      <th>officer_squad</th>\n",
       "      <th>arrest_flag</th>\n",
       "      <th>frisk_flag</th>\n",
       "      <th>precinct</th>\n",
       "      <th>sector</th>\n",
       "      <th>beat</th>\n",
       "    </tr>\n",
       "  </thead>\n",
       "  <tbody>\n",
       "    <tr>\n",
       "      <th>0</th>\n",
       "      <td>-</td>\n",
       "      <td>-1</td>\n",
       "      <td>20140000120677</td>\n",
       "      <td>92317</td>\n",
       "      <td>Arrest</td>\n",
       "      <td>None</td>\n",
       "      <td>7500</td>\n",
       "      <td>1984</td>\n",
       "      <td>M</td>\n",
       "      <td>Black or African American</td>\n",
       "      <td>...</td>\n",
       "      <td>11:32:00</td>\n",
       "      <td>-</td>\n",
       "      <td>-</td>\n",
       "      <td>-</td>\n",
       "      <td>SOUTH PCT 1ST W - ROBERT</td>\n",
       "      <td>N</td>\n",
       "      <td>N</td>\n",
       "      <td>South</td>\n",
       "      <td>O</td>\n",
       "      <td>O2</td>\n",
       "    </tr>\n",
       "    <tr>\n",
       "      <th>1</th>\n",
       "      <td>-</td>\n",
       "      <td>-1</td>\n",
       "      <td>20150000001463</td>\n",
       "      <td>28806</td>\n",
       "      <td>Field Contact</td>\n",
       "      <td>None</td>\n",
       "      <td>5670</td>\n",
       "      <td>1965</td>\n",
       "      <td>M</td>\n",
       "      <td>White</td>\n",
       "      <td>...</td>\n",
       "      <td>07:59:00</td>\n",
       "      <td>-</td>\n",
       "      <td>-</td>\n",
       "      <td>-</td>\n",
       "      <td>NaN</td>\n",
       "      <td>N</td>\n",
       "      <td>N</td>\n",
       "      <td>-</td>\n",
       "      <td>-</td>\n",
       "      <td>-</td>\n",
       "    </tr>\n",
       "    <tr>\n",
       "      <th>2</th>\n",
       "      <td>-</td>\n",
       "      <td>-1</td>\n",
       "      <td>20150000001516</td>\n",
       "      <td>29599</td>\n",
       "      <td>Field Contact</td>\n",
       "      <td>None</td>\n",
       "      <td>4844</td>\n",
       "      <td>1961</td>\n",
       "      <td>M</td>\n",
       "      <td>White</td>\n",
       "      <td>...</td>\n",
       "      <td>19:12:00</td>\n",
       "      <td>-</td>\n",
       "      <td>-</td>\n",
       "      <td>-</td>\n",
       "      <td>NaN</td>\n",
       "      <td>N</td>\n",
       "      <td>-</td>\n",
       "      <td>-</td>\n",
       "      <td>-</td>\n",
       "      <td>-</td>\n",
       "    </tr>\n",
       "    <tr>\n",
       "      <th>3</th>\n",
       "      <td>-</td>\n",
       "      <td>-1</td>\n",
       "      <td>20150000001670</td>\n",
       "      <td>32260</td>\n",
       "      <td>Field Contact</td>\n",
       "      <td>None</td>\n",
       "      <td>7539</td>\n",
       "      <td>1963</td>\n",
       "      <td>M</td>\n",
       "      <td>White</td>\n",
       "      <td>...</td>\n",
       "      <td>04:55:00</td>\n",
       "      <td>-</td>\n",
       "      <td>-</td>\n",
       "      <td>-</td>\n",
       "      <td>NaN</td>\n",
       "      <td>N</td>\n",
       "      <td>N</td>\n",
       "      <td>-</td>\n",
       "      <td>-</td>\n",
       "      <td>-</td>\n",
       "    </tr>\n",
       "    <tr>\n",
       "      <th>4</th>\n",
       "      <td>-</td>\n",
       "      <td>-1</td>\n",
       "      <td>20150000001739</td>\n",
       "      <td>33155</td>\n",
       "      <td>Field Contact</td>\n",
       "      <td>None</td>\n",
       "      <td>6973</td>\n",
       "      <td>1977</td>\n",
       "      <td>M</td>\n",
       "      <td>White</td>\n",
       "      <td>...</td>\n",
       "      <td>00:41:00</td>\n",
       "      <td>-</td>\n",
       "      <td>-</td>\n",
       "      <td>-</td>\n",
       "      <td>NaN</td>\n",
       "      <td>N</td>\n",
       "      <td>N</td>\n",
       "      <td>-</td>\n",
       "      <td>-</td>\n",
       "      <td>-</td>\n",
       "    </tr>\n",
       "  </tbody>\n",
       "</table>\n",
       "<p>5 rows × 23 columns</p>\n",
       "</div>"
      ],
      "text/plain": [
       "  sub_age_group  sub_id   go_num_sc_num  terryS_id stop_resolution  \\\n",
       "0             -      -1  20140000120677      92317          Arrest   \n",
       "1             -      -1  20150000001463      28806   Field Contact   \n",
       "2             -      -1  20150000001516      29599   Field Contact   \n",
       "3             -      -1  20150000001670      32260   Field Contact   \n",
       "4             -      -1  20150000001739      33155   Field Contact   \n",
       "\n",
       "  weapon_type officer_id  officer_YOB officer_gender  \\\n",
       "0        None     7500           1984              M   \n",
       "1        None     5670           1965              M   \n",
       "2        None     4844           1961              M   \n",
       "3        None     7539           1963              M   \n",
       "4        None     6973           1977              M   \n",
       "\n",
       "                officer_race  ... reported_time initial_calltype  \\\n",
       "0  Black or African American  ...      11:32:00                -   \n",
       "1                      White  ...      07:59:00                -   \n",
       "2                      White  ...      19:12:00                -   \n",
       "3                      White  ...      04:55:00                -   \n",
       "4                      White  ...      00:41:00                -   \n",
       "\n",
       "  final_calltype call_type             officer_squad arrest_flag frisk_flag  \\\n",
       "0              -         -  SOUTH PCT 1ST W - ROBERT           N          N   \n",
       "1              -         -                       NaN           N          N   \n",
       "2              -         -                       NaN           N          -   \n",
       "3              -         -                       NaN           N          N   \n",
       "4              -         -                       NaN           N          N   \n",
       "\n",
       "  precinct  sector    beat  \n",
       "0    South  O       O2      \n",
       "1        -       -       -  \n",
       "2        -       -       -  \n",
       "3        -       -       -  \n",
       "4        -       -       -  \n",
       "\n",
       "[5 rows x 23 columns]"
      ]
     },
     "execution_count": 69,
     "metadata": {},
     "output_type": "execute_result"
    }
   ],
   "source": [
    "update_col_names = {'Subject Age Group':'sub_age_group', 'Subject ID':'sub_id', \n",
    "                    'GO / SC Num':'go_num_sc_num','Terry Stop ID':'terryS_id', \n",
    "                    'Stop Resolution':'stop_resolution','Weapon Type':'weapon_type',\n",
    "                    'Officer ID':'officer_id','Officer YOB':'officer_YOB',\n",
    "                    'Officer Gender':'officer_gender','Officer Race':'officer_race',\n",
    "                    'Subject Perceived Race':'sub_perceived_race','Subject Perceived Gender':'sub_perceived_gender',\n",
    "                    'Reported Date':'reported_date','Reported Time':'reported_time',\n",
    "                    'Initial Call Type':'initial_calltype','Final Call Type':'final_calltype',\n",
    "                    'Call Type':'call_type','Officer Squad':'officer_squad',\n",
    "                    'Arrest Flag':'arrest_flag','Frisk Flag':'frisk_flag',\n",
    "                    'Precinct':'precinct','Sector':'sector','Beat':'beat'}\n",
    "df.rename(columns=update_col_names, inplace=True)\n",
    "df.head()"
   ]
  },
  {
   "cell_type": "markdown",
   "metadata": {},
   "source": [
    "Much better!"
   ]
  },
  {
   "cell_type": "markdown",
   "metadata": {},
   "source": [
    "## Creating Features from the Data ##"
   ]
  },
  {
   "cell_type": "markdown",
   "metadata": {},
   "source": [
    "Part of the data that the columns tell us is the officers year of birth, but it does not tell us the officer's age. It seems more reasonable to have an age feature for a cop to help with our prediction model. \n",
    "\n",
    "We will use the officer's year of birth and the date that the reported stop was made to figure out the age of the officer when he made the stop."
   ]
  },
  {
   "cell_type": "code",
   "execution_count": 70,
   "metadata": {},
   "outputs": [
    {
     "data": {
      "text/plain": [
       "27062    1900\n",
       "1058     1900\n",
       "25205    1900\n",
       "1080     1900\n",
       "46088    1900\n",
       "         ... \n",
       "43572    1998\n",
       "38661    1998\n",
       "36743    1998\n",
       "37464    1998\n",
       "27451    1998\n",
       "Name: officer_YOB, Length: 47213, dtype: int64"
      ]
     },
     "execution_count": 70,
     "metadata": {},
     "output_type": "execute_result"
    }
   ],
   "source": [
    "df.officer_YOB.sort_values(ascending=True)"
   ]
  },
  {
   "cell_type": "code",
   "execution_count": 71,
   "metadata": {},
   "outputs": [],
   "source": [
    "for x in range(len(df.reported_date)):\n",
    "    df.reported_date = df.reported_date[x][0:10]\n",
    "    df['year_reported'] = df.reported_date[x][0:4]"
   ]
  },
  {
   "cell_type": "code",
   "execution_count": 72,
   "metadata": {
    "scrolled": true
   },
   "outputs": [],
   "source": [
    "df['officer_age'] = df.year_reported.astype(int) - df.officer_YOB"
   ]
  },
  {
   "cell_type": "code",
   "execution_count": 73,
   "metadata": {
    "scrolled": true
   },
   "outputs": [
    {
     "data": {
      "text/plain": [
       "35978    115\n",
       "36308    115\n",
       "24902    115\n",
       "38084    115\n",
       "38025    115\n",
       "        ... \n",
       "11461     17\n",
       "27451     17\n",
       "37464     17\n",
       "12988     17\n",
       "12044     17\n",
       "Name: officer_age, Length: 47213, dtype: int64"
      ]
     },
     "execution_count": 73,
     "metadata": {},
     "output_type": "execute_result"
    }
   ],
   "source": [
    "df['officer_age'].sort_values(ascending=False)"
   ]
  },
  {
   "cell_type": "markdown",
   "metadata": {},
   "source": [
    "It is highly unlikely that there were 115 year old officers doing stops. Or have officers younger than 21 years. We will filter out those along with officers that are around the 80 year old mark."
   ]
  },
  {
   "cell_type": "code",
   "execution_count": 74,
   "metadata": {},
   "outputs": [],
   "source": [
    "df = df[df.officer_age >= 21]"
   ]
  },
  {
   "cell_type": "code",
   "execution_count": 75,
   "metadata": {},
   "outputs": [],
   "source": [
    "df = df[df.officer_age <= 80]"
   ]
  },
  {
   "cell_type": "code",
   "execution_count": 76,
   "metadata": {},
   "outputs": [
    {
     "data": {
      "text/plain": [
       "5328     69\n",
       "3869     69\n",
       "182      67\n",
       "39288    67\n",
       "39353    67\n",
       "         ..\n",
       "27709    21\n",
       "45996    21\n",
       "37710    21\n",
       "9224     21\n",
       "24642    21\n",
       "Name: officer_age, Length: 44907, dtype: int64"
      ]
     },
     "execution_count": 76,
     "metadata": {},
     "output_type": "execute_result"
    }
   ],
   "source": [
    "df['officer_age'].sort_values(ascending=False)"
   ]
  },
  {
   "cell_type": "markdown",
   "metadata": {},
   "source": [
    "Much better and reasonable."
   ]
  },
  {
   "cell_type": "markdown",
   "metadata": {},
   "source": [
    "Now let's categorize the feature `weapon_type` by replacing no weapons found values as 0 and weapons found as 1."
   ]
  },
  {
   "cell_type": "code",
   "execution_count": 77,
   "metadata": {},
   "outputs": [
    {
     "data": {
      "text/plain": [
       "array(['None', 'Firearm Other', 'Lethal Cutting Instrument', 'Handgun',\n",
       "       '-', 'Club, Blackjack, Brass Knuckles',\n",
       "       'Knife/Cutting/Stabbing Instrument', 'Other Firearm', 'Rifle',\n",
       "       'Fire/Incendiary Device', 'Blunt Object/Striking Implement',\n",
       "       'Firearm (unk type)', 'Mace/Pepper Spray', 'None/Not Applicable',\n",
       "       'Club', 'Firearm', 'Taser/Stun Gun', 'Shotgun', 'Brass Knuckles',\n",
       "       'Automatic Handgun', 'Blackjack',\n",
       "       'Personal Weapons (hands, feet, etc.)'], dtype=object)"
      ]
     },
     "execution_count": 77,
     "metadata": {},
     "output_type": "execute_result"
    }
   ],
   "source": [
    "df.weapon_type = df.weapon_type.astype(str)\n",
    "df.weapon_type.unique()"
   ]
  },
  {
   "cell_type": "code",
   "execution_count": 78,
   "metadata": {},
   "outputs": [],
   "source": [
    "list_to_replace_weapons = ['1', '-', 'None', 'Knife/Cutting/Stabbing Instrument',\n",
    "       'Other Firearm', 'Rifle', 'Fire/Incendiary Device',\n",
    "       'Blunt Object/Striking Implement', 'Firearm Other',\n",
    "       'Lethal Cutting Instrument', 'Handgun', 'Firearm (unk type)',\n",
    "       'Mace/Pepper Spray', 'None/Not Applicable', 'Club',\n",
    "       'Club, Blackjack, Brass Knuckles', 'Firearm', 'Taser/Stun Gun',\n",
    "       'Shotgun', 'Brass Knuckles', 'Automatic Handgun', 'Blackjack',\n",
    "       'Personal Weapons (hands, feet, etc.)']\n",
    "\n",
    "df.weapon_type.replace(to_replace='None',value=0, inplace=True)\n",
    "df.weapon_type.replace(to_replace=list_to_replace_weapons, value=1,inplace=True)"
   ]
  },
  {
   "cell_type": "code",
   "execution_count": 79,
   "metadata": {},
   "outputs": [
    {
     "data": {
      "text/plain": [
       "0    0\n",
       "1    0\n",
       "2    0\n",
       "3    0\n",
       "4    0\n",
       "Name: weapon_type, dtype: int64"
      ]
     },
     "execution_count": 79,
     "metadata": {},
     "output_type": "execute_result"
    }
   ],
   "source": [
    "df.weapon_type.head()"
   ]
  },
  {
   "cell_type": "code",
   "execution_count": 80,
   "metadata": {},
   "outputs": [
    {
     "data": {
      "text/plain": [
       "0    32051\n",
       "1    12856\n",
       "Name: weapon_type, dtype: int64"
      ]
     },
     "execution_count": 80,
     "metadata": {},
     "output_type": "execute_result"
    }
   ],
   "source": [
    "df.weapon_type.value_counts()"
   ]
  },
  {
   "cell_type": "markdown",
   "metadata": {},
   "source": [
    "## Rest of the columns ##"
   ]
  },
  {
   "cell_type": "markdown",
   "metadata": {},
   "source": [
    "Because most of the features that we are going to be using for our model are categorical, we are going to set the `datatype` as `category`."
   ]
  },
  {
   "cell_type": "code",
   "execution_count": 81,
   "metadata": {},
   "outputs": [],
   "source": [
    "category_features = ['sub_age_group','officer_gender','officer_race','sub_perceived_race','sub_perceived_gender',\n",
    "                     'frisk_flag','call_type']"
   ]
  },
  {
   "cell_type": "code",
   "execution_count": 82,
   "metadata": {},
   "outputs": [],
   "source": [
    "for x in category_features:\n",
    "    df[x] = df[x].astype('category').cat.as_ordered()"
   ]
  },
  {
   "cell_type": "code",
   "execution_count": 83,
   "metadata": {},
   "outputs": [
    {
     "data": {
      "text/plain": [
       "sub_age_group           category\n",
       "officer_gender          category\n",
       "officer_race            category\n",
       "sub_perceived_race      category\n",
       "sub_perceived_gender    category\n",
       "frisk_flag              category\n",
       "call_type               category\n",
       "dtype: object"
      ]
     },
     "execution_count": 83,
     "metadata": {},
     "output_type": "execute_result"
    }
   ],
   "source": [
    "df[category_features].dtypes"
   ]
  },
  {
   "cell_type": "markdown",
   "metadata": {},
   "source": [
    "Great! Now let's get the target column with the proper values."
   ]
  },
  {
   "cell_type": "markdown",
   "metadata": {},
   "source": [
    "## Encoding target column ##"
   ]
  },
  {
   "cell_type": "code",
   "execution_count": 84,
   "metadata": {},
   "outputs": [
    {
     "data": {
      "text/plain": [
       "Field Contact               17808\n",
       "Offense Report              15151\n",
       "Arrest                      11059\n",
       "Referred for Prosecution      717\n",
       "Citation / Infraction         172\n",
       "Name: stop_resolution, dtype: int64"
      ]
     },
     "execution_count": 84,
     "metadata": {},
     "output_type": "execute_result"
    }
   ],
   "source": [
    "df.stop_resolution.value_counts()"
   ]
  },
  {
   "cell_type": "code",
   "execution_count": 85,
   "metadata": {},
   "outputs": [],
   "source": [
    "new_target_values = {'Arrest':1,\n",
    "                     'Field Contact':0,\n",
    "                     'Citation / Infraction':0,\n",
    "                     'Offense Report':0,\n",
    "                     'Referred for Prosecution':0}"
   ]
  },
  {
   "cell_type": "code",
   "execution_count": 86,
   "metadata": {},
   "outputs": [],
   "source": [
    "df['stop_resolution'].replace(new_target_values, inplace=True)"
   ]
  },
  {
   "cell_type": "markdown",
   "metadata": {},
   "source": [
    "## Splitting the data ##"
   ]
  },
  {
   "cell_type": "markdown",
   "metadata": {},
   "source": [
    "It's time to split the data! We set a variable named `x_feats` as the `X` variable and the `stop_resolution` column as our target column. Since we have set the values of our target to bool -meaning 1 if an arrest was made and 0 if there was not an arrest made- this makes our problem/model follow a binary classification process."
   ]
  },
  {
   "cell_type": "code",
   "execution_count": 87,
   "metadata": {},
   "outputs": [],
   "source": [
    "x_feats = ['sub_age_group','weapon_type','officer_gender','officer_race','sub_perceived_race',\n",
    "           'sub_perceived_gender','frisk_flag','call_type','officer_age']"
   ]
  },
  {
   "cell_type": "code",
   "execution_count": 88,
   "metadata": {},
   "outputs": [],
   "source": [
    "X = df[x_feats]\n",
    "y = df['stop_resolution']"
   ]
  },
  {
   "cell_type": "markdown",
   "metadata": {},
   "source": [
    "We do 2 train splits in order to have a piece of the data that we don't touch at all. In the mean time we will be concentrating our learning models on the X_train, X_test, y_train, y_test"
   ]
  },
  {
   "cell_type": "code",
   "execution_count": 89,
   "metadata": {},
   "outputs": [],
   "source": [
    "X_train_all, X_test_all, y_train_all, y_test_all = train_test_split(X,y, random_state=42)\n",
    "X_train, X_test, y_train, y_test = train_test_split(X_train_all, y_train_all, random_state=42)"
   ]
  },
  {
   "cell_type": "markdown",
   "metadata": {},
   "source": [
    "In order for our models to be read by the algorithms it is necessarily to properly process the data. For this our X_train and X_test will be processed with `OneHotEncoder`."
   ]
  },
  {
   "cell_type": "code",
   "execution_count": 90,
   "metadata": {},
   "outputs": [],
   "source": [
    "ohe = OneHotEncoder(handle_unknown='ignore')\n",
    "X_train_ohe = ohe.fit_transform(X_train)\n",
    "X_test_ohe = ohe.transform(X_test)"
   ]
  },
  {
   "cell_type": "markdown",
   "metadata": {},
   "source": [
    "We want to see how the model performs at its base and without any changes to hyperparameters or regularisation."
   ]
  },
  {
   "cell_type": "code",
   "execution_count": 91,
   "metadata": {},
   "outputs": [],
   "source": [
    "logreg = LogisticRegression()"
   ]
  },
  {
   "cell_type": "code",
   "execution_count": 92,
   "metadata": {
    "scrolled": true
   },
   "outputs": [
    {
     "name": "stderr",
     "output_type": "stream",
     "text": [
      "/Users/edgarbarron/opt/anaconda3/envs/learn-env/lib/python3.8/site-packages/sklearn/linear_model/_logistic.py:762: ConvergenceWarning: lbfgs failed to converge (status=1):\n",
      "STOP: TOTAL NO. of ITERATIONS REACHED LIMIT.\n",
      "\n",
      "Increase the number of iterations (max_iter) or scale the data as shown in:\n",
      "    https://scikit-learn.org/stable/modules/preprocessing.html\n",
      "Please also refer to the documentation for alternative solver options:\n",
      "    https://scikit-learn.org/stable/modules/linear_model.html#logistic-regression\n",
      "  n_iter_i = _check_optimize_result(\n"
     ]
    }
   ],
   "source": [
    "model_1 = logreg.fit(X_train_ohe, y_train)"
   ]
  },
  {
   "cell_type": "code",
   "execution_count": 93,
   "metadata": {},
   "outputs": [],
   "source": [
    "y_hat_train = logreg.predict(X_train_ohe)\n",
    "y_hat_test = logreg.predict(X_test_ohe)"
   ]
  },
  {
   "cell_type": "code",
   "execution_count": 94,
   "metadata": {},
   "outputs": [
    {
     "name": "stdout",
     "output_type": "stream",
     "text": [
      "F1 score for training data: 0.11530187867488885\n",
      "-------------------------------------------\n",
      "F1 score for testing data: 0.09739427595044853\n"
     ]
    }
   ],
   "source": [
    "print('F1 score for training data: {}'.format(f1_score(y_train, y_hat_train)))\n",
    "print('-------------------------------------------')\n",
    "print('F1 score for testing data: {}'.format(f1_score(y_test, y_hat_test)))"
   ]
  },
  {
   "cell_type": "markdown",
   "metadata": {},
   "source": [
    "F1 score appears to be at 9% which is not good.\n",
    "\n",
    "Let's visualize this with a confusion matrix."
   ]
  },
  {
   "cell_type": "code",
   "execution_count": 95,
   "metadata": {},
   "outputs": [
    {
     "data": {
      "image/png": "[encoded data removed]",
      "text/plain": [
       "<Figure size 720x432 with 4 Axes>"
      ]
     },
     "metadata": {
      "needs_background": "light"
     },
     "output_type": "display_data"
    }
   ],
   "source": [
    "plot_cf(logreg,X_train_ohe,y_train,X_test_ohe,y_test)"
   ]
  },
  {
   "cell_type": "markdown",
   "metadata": {},
   "source": [
    "## Model 2 - Adding Synthetic Data ##"
   ]
  },
  {
   "cell_type": "code",
   "execution_count": 96,
   "metadata": {},
   "outputs": [],
   "source": [
    "smote = SMOTE()\n",
    "X_train_resampled, y_train_resampled  = smote.fit_sample(X_train_ohe, y_train)"
   ]
  },
  {
   "cell_type": "code",
   "execution_count": 97,
   "metadata": {
    "scrolled": true
   },
   "outputs": [
    {
     "name": "stdout",
     "output_type": "stream",
     "text": [
      "1    19085\n",
      "0    19085\n",
      "Name: stop_resolution, dtype: int64\n",
      "-------------------------------------\n",
      "1    6356\n",
      "0    6356\n",
      "Name: stop_resolution, dtype: int64\n"
     ]
    }
   ],
   "source": [
    "print(pd.Series(y_train_resampled).value_counts())\n",
    "print('-------------------------------------')\n",
    "print(pd.Series(y_test_resampled).value_counts())"
   ]
  },
  {
   "cell_type": "code",
   "execution_count": 98,
   "metadata": {},
   "outputs": [
    {
     "name": "stderr",
     "output_type": "stream",
     "text": [
      "/Users/edgarbarron/opt/anaconda3/envs/learn-env/lib/python3.8/site-packages/sklearn/linear_model/_logistic.py:762: ConvergenceWarning: lbfgs failed to converge (status=1):\n",
      "STOP: TOTAL NO. of ITERATIONS REACHED LIMIT.\n",
      "\n",
      "Increase the number of iterations (max_iter) or scale the data as shown in:\n",
      "    https://scikit-learn.org/stable/modules/preprocessing.html\n",
      "Please also refer to the documentation for alternative solver options:\n",
      "    https://scikit-learn.org/stable/modules/linear_model.html#logistic-regression\n",
      "  n_iter_i = _check_optimize_result(\n"
     ]
    }
   ],
   "source": [
    "model_2 = logreg.fit(X_train_resampled, y_train_resampled)"
   ]
  },
  {
   "cell_type": "code",
   "execution_count": 99,
   "metadata": {},
   "outputs": [],
   "source": [
    "y_hat_train2 = model_2.predict(X_train_resampled)\n",
    "y_hat_test2 = model_2.predict(X_test_resampled)"
   ]
  },
  {
   "cell_type": "code",
   "execution_count": 100,
   "metadata": {},
   "outputs": [
    {
     "name": "stdout",
     "output_type": "stream",
     "text": [
      "F1 score for training data: 0.7236691010977906\n",
      "-------------------------------------------\n",
      "F1 score for testing data: 0.7199118700082621\n"
     ]
    }
   ],
   "source": [
    "print('F1 score for training data: {}'.format(f1_score(y_train_resampled, y_hat_train2)))\n",
    "print('-------------------------------------------')\n",
    "print('F1 score for testing data: {}'.format(f1_score(y_test_resampled, y_hat_test2)))"
   ]
  },
  {
   "cell_type": "markdown",
   "metadata": {},
   "source": [
    "We have much better results when adding the synthetic data. Let's see if we can tweak some other parameters to increase our model's performance.\n",
    "\n",
    "Let's see our errors using the confusion matrix."
   ]
  },
  {
   "cell_type": "code",
   "execution_count": 101,
   "metadata": {},
   "outputs": [
    {
     "data": {
      "image/png": "[encoded data removed]",
      "text/plain": [
       "<Figure size 720x432 with 4 Axes>"
      ]
     },
     "metadata": {
      "needs_background": "light"
     },
     "output_type": "display_data"
    }
   ],
   "source": [
    "plot_cf(logreg,X_train_resampled,y_train_resampled,X_test_resampled,y_test_resampled)"
   ]
  },
  {
   "cell_type": "markdown",
   "metadata": {},
   "source": [
    "It appears as though even though our model is doing better f1 score wise, our model still has a lot of False Positives  and a few False Negatives."
   ]
  },
  {
   "cell_type": "markdown",
   "metadata": {},
   "source": [
    "## Model 3 - L1 penalty ##"
   ]
  },
  {
   "cell_type": "markdown",
   "metadata": {},
   "source": [
    "By default, the object LogisticRegression has the penalty enabled to `l2`, this time we will change it to `l1`."
   ]
  },
  {
   "cell_type": "code",
   "execution_count": 102,
   "metadata": {},
   "outputs": [],
   "source": [
    "logreg_l1 = LogisticRegression(penalty='l1', solver='liblinear')"
   ]
  },
  {
   "cell_type": "code",
   "execution_count": 103,
   "metadata": {},
   "outputs": [],
   "source": [
    "model_3 = logreg_l1.fit(X_train_resampled, y_train_resampled)"
   ]
  },
  {
   "cell_type": "code",
   "execution_count": 104,
   "metadata": {},
   "outputs": [],
   "source": [
    "y_hat_train3 = model_3.predict(X_train_resampled)\n",
    "y_hat_test3 = model_3.predict(X_test_resampled)"
   ]
  },
  {
   "cell_type": "code",
   "execution_count": 105,
   "metadata": {},
   "outputs": [
    {
     "name": "stdout",
     "output_type": "stream",
     "text": [
      "F1 score for training data: 0.7240516786378135\n",
      "-------------------------------------------\n",
      "F1 score for testing data: 0.7193284249638754\n"
     ]
    }
   ],
   "source": [
    "print('F1 score for training data: {}'.format(f1_score(y_train_resampled, y_hat_train3)))\n",
    "print('-------------------------------------------')\n",
    "print('F1 score for testing data: {}'.format(f1_score(y_test_resampled, y_hat_test3)))"
   ]
  },
  {
   "cell_type": "markdown",
   "metadata": {},
   "source": [
    "Marginally better."
   ]
  },
  {
   "cell_type": "code",
   "execution_count": 106,
   "metadata": {},
   "outputs": [
    {
     "data": {
      "image/png": "[encoded data removed]",
      "text/plain": [
       "<Figure size 720x432 with 4 Axes>"
      ]
     },
     "metadata": {
      "needs_background": "light"
     },
     "output_type": "display_data"
    }
   ],
   "source": [
    "plot_cf(logreg_l1, X_train_resampled, y_train_resampled,X_test_resampled,y_test_resampled)"
   ]
  },
  {
   "cell_type": "markdown",
   "metadata": {},
   "source": [
    "## Model 4 - C regularization ##"
   ]
  },
  {
   "cell_type": "markdown",
   "metadata": {},
   "source": [
    "Let's create a list with values that are smaller than one that we can loop over to see if it can improve the performatnce of our model."
   ]
  },
  {
   "cell_type": "code",
   "execution_count": 107,
   "metadata": {},
   "outputs": [],
   "source": [
    "c_values = [1e-1,1e-2,1e-4,1e-5,1e-6,1e-7,1e-8,1e-9,1e-10]"
   ]
  },
  {
   "cell_type": "code",
   "execution_count": 108,
   "metadata": {},
   "outputs": [
    {
     "name": "stderr",
     "output_type": "stream",
     "text": [
      "/Users/edgarbarron/opt/anaconda3/envs/learn-env/lib/python3.8/site-packages/sklearn/linear_model/_logistic.py:762: ConvergenceWarning: lbfgs failed to converge (status=1):\n",
      "STOP: TOTAL NO. of ITERATIONS REACHED LIMIT.\n",
      "\n",
      "Increase the number of iterations (max_iter) or scale the data as shown in:\n",
      "    https://scikit-learn.org/stable/modules/preprocessing.html\n",
      "Please also refer to the documentation for alternative solver options:\n",
      "    https://scikit-learn.org/stable/modules/linear_model.html#logistic-regression\n",
      "  n_iter_i = _check_optimize_result(\n"
     ]
    },
    {
     "name": "stdout",
     "output_type": "stream",
     "text": [
      "C_value: 0.1\n",
      "F1 score for training data: 0.7239669421487603\n",
      "F1 score for testing data: 0.7217373376400247\n",
      "-------------------------------------------\n",
      "C_value: 0.01\n",
      "F1 score for training data: 0.7242893880430579\n",
      "F1 score for testing data: 0.7247164300753922\n",
      "-------------------------------------------\n",
      "C_value: 0.0001\n",
      "F1 score for training data: 0.664246911206192\n",
      "F1 score for testing data: 0.6584659913169321\n",
      "-------------------------------------------\n",
      "C_value: 1e-05\n",
      "F1 score for training data: 0.6535359953081473\n",
      "F1 score for testing data: 0.6407251824010612\n",
      "-------------------------------------------\n",
      "C_value: 1e-06\n",
      "F1 score for training data: 0.6870099786172488\n",
      "F1 score for testing data: 0.6818700114025086\n",
      "-------------------------------------------\n",
      "C_value: 1e-07\n",
      "F1 score for training data: 0.6889096075297461\n",
      "F1 score for testing data: 0.682356087450692\n",
      "-------------------------------------------\n",
      "C_value: 1e-08\n",
      "F1 score for training data: 0.688951036533937\n",
      "F1 score for testing data: 0.6825715049452018\n",
      "-------------------------------------------\n",
      "C_value: 1e-09\n",
      "F1 score for training data: 0.688951036533937\n",
      "F1 score for testing data: 0.6825715049452018\n",
      "-------------------------------------------\n",
      "C_value: 1e-10\n",
      "F1 score for training data: 0.688951036533937\n",
      "F1 score for testing data: 0.6825715049452018\n",
      "-------------------------------------------\n"
     ]
    }
   ],
   "source": [
    "for x in c_values:\n",
    "    logreg_c = LogisticRegression(C = x)\n",
    "    model_4 = logreg_c.fit(X_train_resampled,y_train_resampled)\n",
    "    y_hat_train4 = model_4.predict(X_train_resampled)\n",
    "    y_hat_test4 = model_4.predict(X_test_resampled)\n",
    "    \n",
    "    print('C_value: {}'.format(x))\n",
    "    print('F1 score for training data: {}'.format(f1_score(y_train_resampled, y_hat_train4)))\n",
    "    print('F1 score for testing data: {}'.format(f1_score(y_test_resampled, y_hat_test4)))\n",
    "    print('-------------------------------------------')"
   ]
  },
  {
   "cell_type": "markdown",
   "metadata": {},
   "source": [
    "It seems that changing the value of c does not improve the f1 score. We have found our optimal C value being 1e-2."
   ]
  },
  {
   "cell_type": "code",
   "execution_count": null,
   "metadata": {},
   "outputs": [],
   "source": []
  },
  {
   "cell_type": "markdown",
   "metadata": {},
   "source": [
    "Now let's move on to class weights to check on how it affects our model."
   ]
  },
  {
   "cell_type": "code",
   "execution_count": 109,
   "metadata": {
    "scrolled": false
   },
   "outputs": [
    {
     "name": "stdout",
     "output_type": "stream",
     "text": [
      "LogisticRegression(C=0.01, fit_intercept=False)\n",
      "AUC for None: 0.7263866126900604\n",
      "-------------------------------------------------------------------------------------\n",
      "LogisticRegression(C=0.01, class_weight='balanced', fit_intercept=False)\n",
      "AUC for Balanced: 0.7263866126900604\n",
      "-------------------------------------------------------------------------------------\n",
      "LogisticRegression(C=0.01, class_weight={0: 1, 1: 2}, fit_intercept=False)\n",
      "AUC for 2 to 1: 0.7263940386649721\n",
      "-------------------------------------------------------------------------------------\n",
      "LogisticRegression(C=0.01, class_weight={0: 1, 1: 10}, fit_intercept=False)\n",
      "AUC for 10 to 1: 0.724489065697501\n",
      "-------------------------------------------------------------------------------------\n",
      "LogisticRegression(C=0.01, class_weight={0: 1, 1: 100}, fit_intercept=False)\n",
      "AUC for 100 to 1: 0.7215322033837891\n",
      "-------------------------------------------------------------------------------------\n",
      "LogisticRegression(C=0.01, class_weight={0: 1, 1: 1000}, fit_intercept=False)\n",
      "AUC for 1000 to 1: 0.7208016112187272\n",
      "-------------------------------------------------------------------------------------\n"
     ]
    },
    {
     "data": {
      "image/png": "[encoded data removed]",
      "text/plain": [
       "<Figure size 720x576 with 1 Axes>"
      ]
     },
     "metadata": {},
     "output_type": "display_data"
    }
   ],
   "source": [
    "sns.set_style('darkgrid')\n",
    "# Now let's compare a few different regularization performances on the dataset:\n",
    "weights = [None, 'balanced', {1:2, 0:1}, {1:10, 0:1}, {1:100, 0:1}, {1:1000, 0:1}]\n",
    "names = ['None', 'Balanced', '2 to 1', '10 to 1', '100 to 1', '1000 to 1']\n",
    "colors = sns.color_palette('Set2')\n",
    "\n",
    "plt.figure(figsize=(10,8))\n",
    "\n",
    "for n, weight in enumerate(weights):\n",
    "    # Fit a model\n",
    "    logreg = LogisticRegression(fit_intercept=False, C=1e-2, class_weight=weight, solver='lbfgs')\n",
    "    model_log = logreg.fit(X_train_resampled, y_train_resampled)\n",
    "    print(model_log)\n",
    "\n",
    "    # Predict\n",
    "    y_hat_test5 = logreg.predict(X_test_resampled)\n",
    "\n",
    "    y_score = logreg.fit(X_train_resampled, y_train_resampled).decision_function(X_test_resampled)\n",
    "\n",
    "    fpr, tpr, thresholds = roc_curve(y_test_resampled, y_score)\n",
    "    \n",
    "    print('AUC for {}: {}'.format(names[n], auc(fpr, tpr)))\n",
    "    print('-------------------------------------------------------------------------------------')\n",
    "    lw = 2\n",
    "    plt.plot(fpr, tpr, color=colors[n],\n",
    "             lw=lw, label='ROC curve {}'.format(names[n]))\n",
    "\n",
    "plt.plot([0, 1], [0, 1], color='navy', lw=lw, linestyle='--')\n",
    "plt.xlim([0.0, 1.0])\n",
    "plt.ylim([0.0, 1.05])\n",
    "\n",
    "plt.yticks([i/20.0 for i in range(21)])\n",
    "plt.xticks([i/20.0 for i in range(21)])\n",
    "plt.xlabel('False Positive Rate')\n",
    "plt.ylabel('True Positive Rate')\n",
    "plt.title('Receiver operating characteristic (ROC) Curve')\n",
    "plt.legend(loc='lower right')\n",
    "plt.show()"
   ]
  },
  {
   "cell_type": "code",
   "execution_count": 110,
   "metadata": {},
   "outputs": [],
   "source": [
    "#X_train_all ???? Log model"
   ]
  },
  {
   "cell_type": "markdown",
   "metadata": {},
   "source": [
    "## KNN Model ##"
   ]
  },
  {
   "cell_type": "code",
   "execution_count": 111,
   "metadata": {},
   "outputs": [
    {
     "name": "stderr",
     "output_type": "stream",
     "text": [
      "/Users/edgarbarron/opt/anaconda3/envs/learn-env/lib/python3.8/site-packages/pandas/core/generic.py:5168: SettingWithCopyWarning: \n",
      "A value is trying to be set on a copy of a slice from a DataFrame.\n",
      "Try using .loc[row_indexer,col_indexer] = value instead\n",
      "\n",
      "See the caveats in the documentation: https://pandas.pydata.org/pandas-docs/stable/user_guide/indexing.html#returning-a-view-versus-a-copy\n",
      "  self[name] = value\n"
     ]
    }
   ],
   "source": [
    "X.weapon_type = X.weapon_type.astype(bool)"
   ]
  },
  {
   "cell_type": "code",
   "execution_count": 112,
   "metadata": {},
   "outputs": [
    {
     "data": {
      "text/plain": [
       "sub_age_group           category\n",
       "weapon_type                 bool\n",
       "officer_gender          category\n",
       "officer_race            category\n",
       "sub_perceived_race      category\n",
       "sub_perceived_gender    category\n",
       "frisk_flag              category\n",
       "call_type               category\n",
       "officer_age                int64\n",
       "dtype: object"
      ]
     },
     "execution_count": 112,
     "metadata": {},
     "output_type": "execute_result"
    }
   ],
   "source": [
    "X.dtypes"
   ]
  },
  {
   "cell_type": "code",
   "execution_count": 113,
   "metadata": {},
   "outputs": [],
   "source": [
    "int_selector = make_column_selector(dtype_include='int64', dtype_exclude=['category','bool'])\n",
    "rest_selector = make_column_selector(dtype_include=['category','bool'], dtype_exclude='int64')\n",
    "all_selector = make_column_selector(dtype_include=['category','bool','int64'])"
   ]
  },
  {
   "cell_type": "code",
   "execution_count": 114,
   "metadata": {},
   "outputs": [],
   "source": [
    "knn_preprocessing = make_column_transformer((StandardScaler(), int_selector),\n",
    "                                  (OneHotEncoder(handle_unknown='ignore'), rest_selector))"
   ]
  },
  {
   "cell_type": "code",
   "execution_count": 115,
   "metadata": {},
   "outputs": [],
   "source": [
    "X_train_processed = knn_preprocessing.fit_transform(X_train)\n",
    "X_test_processed = knn_preprocessing.transform(X_test)"
   ]
  },
  {
   "cell_type": "code",
   "execution_count": 116,
   "metadata": {},
   "outputs": [],
   "source": [
    "knn_pipe1 = make_pipeline(KNeighborsClassifier())"
   ]
  },
  {
   "cell_type": "code",
   "execution_count": 117,
   "metadata": {},
   "outputs": [],
   "source": [
    "model_5 = knn_pipe1.fit(X_train_processed,y_train)"
   ]
  },
  {
   "cell_type": "code",
   "execution_count": 118,
   "metadata": {},
   "outputs": [],
   "source": [
    "y_hat_train6 = model_5.predict(X_train_processed)\n",
    "y_hat_test6 = model_5.predict(X_test_processed)"
   ]
  },
  {
   "cell_type": "code",
   "execution_count": 119,
   "metadata": {},
   "outputs": [
    {
     "name": "stdout",
     "output_type": "stream",
     "text": [
      "F1 score for training data: 0.4995060264769808\n",
      "-------------------------------------------\n",
      "F1 score for testing data: 0.30751104565537557\n"
     ]
    }
   ],
   "source": [
    "print('F1 score for training data: {}'.format(f1_score(y_train, y_hat_train6)))\n",
    "print('-------------------------------------------')\n",
    "print('F1 score for testing data: {}'.format(f1_score(y_test, y_hat_test6)))"
   ]
  },
  {
   "cell_type": "code",
   "execution_count": 120,
   "metadata": {},
   "outputs": [
    {
     "data": {
      "image/png": "[encoded data removed]",
      "text/plain": [
       "<Figure size 720x432 with 4 Axes>"
      ]
     },
     "metadata": {},
     "output_type": "display_data"
    }
   ],
   "source": [
    "plot_cf(model_5,X_train_processed,y_train,X_test_processed,y_test)"
   ]
  },
  {
   "cell_type": "markdown",
   "metadata": {},
   "source": [
    "This is our base model for the data. Way better than the first base LogisticRegression model! Let's add synthetic data to see how our model performs."
   ]
  },
  {
   "cell_type": "code",
   "execution_count": 121,
   "metadata": {},
   "outputs": [],
   "source": [
    "X_train_smote, y_train_smote = smote.fit_sample(X_train_processed,y_train)"
   ]
  },
  {
   "cell_type": "code",
   "execution_count": 122,
   "metadata": {},
   "outputs": [],
   "source": [
    "model_6 = knn_pipe1.fit(X_train_smote,y_train_smote)"
   ]
  },
  {
   "cell_type": "code",
   "execution_count": 124,
   "metadata": {},
   "outputs": [],
   "source": [
    "y_hat_train7 = model_6.predict(X_train_smote)\n",
    "y_hat_test7 = model_6.predict(X_test_processed)"
   ]
  },
  {
   "cell_type": "code",
   "execution_count": 125,
   "metadata": {},
   "outputs": [
    {
     "name": "stdout",
     "output_type": "stream",
     "text": [
      "F1 score for training data: 0.8125359545784249\n",
      "-------------------------------------------\n",
      "F1 score for testing data: 0.43887961417176774\n"
     ]
    }
   ],
   "source": [
    "print('F1 score for training data: {}'.format(f1_score(y_train_smote, y_hat_train7)))\n",
    "print('-------------------------------------------')\n",
    "print('F1 score for testing data: {}'.format(f1_score(y_test, y_hat_test7)))"
   ]
  },
  {
   "cell_type": "markdown",
   "metadata": {},
   "source": [
    "It appears as though our data is overfitting a bit on the training data."
   ]
  },
  {
   "cell_type": "code",
   "execution_count": 127,
   "metadata": {},
   "outputs": [
    {
     "data": {
      "image/png": "[encoded data removed]",
      "text/plain": [
       "<Figure size 720x432 with 4 Axes>"
      ]
     },
     "metadata": {},
     "output_type": "display_data"
    }
   ],
   "source": [
    "plot_cf(model_6, X_train_smote, y_train_smote, X_test_processed,y_test)"
   ]
  },
  {
   "cell_type": "code",
   "execution_count": 130,
   "metadata": {},
   "outputs": [
    {
     "name": "stdout",
     "output_type": "stream",
     "text": [
      "Best value for k: 23\n",
      "F1 Score: 0.48758893280632415\n"
     ]
    }
   ],
   "source": [
    "find_best_k(X_train_smote, y_train_smote,X_test_processed,y_test, min_k=1, max_k=25)"
   ]
  },
  {
   "cell_type": "code",
   "execution_count": 131,
   "metadata": {},
   "outputs": [],
   "source": [
    "# implement this k do a GridSearch()"
   ]
  },
  {
   "cell_type": "code",
   "execution_count": 132,
   "metadata": {},
   "outputs": [],
   "source": [
    "#DecisionTrees and #Esemble Methods"
   ]
  },
  {
   "cell_type": "code",
   "execution_count": null,
   "metadata": {},
   "outputs": [],
   "source": []
  }
 ],
 "metadata": {
  "kernelspec": {
   "display_name": "Python 3",
   "language": "python",
   "name": "python3"
  },
  "language_info": {
   "codemirror_mode": {
    "name": "ipython",
    "version": 3
   },
   "file_extension": ".py",
   "mimetype": "text/x-python",
   "name": "python",
   "nbconvert_exporter": "python",
   "pygments_lexer": "ipython3",
   "version": "3.8.5"
  }
 },
 "nbformat": 4,
 "nbformat_minor": 5
}
