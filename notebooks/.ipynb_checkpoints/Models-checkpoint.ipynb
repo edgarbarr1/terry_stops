{
 "cells": [
  {
   "cell_type": "markdown",
   "metadata": {},
   "source": [
    "# Terry Stops #"
   ]
  },
  {
   "cell_type": "markdown",
   "metadata": {},
   "source": [
    "Let's import all the necessary libraries to analyze the data. The necessary libraries and other functions can be found in the file named `functions.py`."
   ]
  },
  {
   "cell_type": "code",
   "execution_count": 5,
   "metadata": {},
   "outputs": [
    {
     "name": "stdout",
     "output_type": "stream",
     "text": [
      "The autoreload extension is already loaded. To reload it, use:\n",
      "  %reload_ext autoreload\n"
     ]
    }
   ],
   "source": [
    "%load_ext autoreload\n",
    "%autoreload 2"
   ]
  },
  {
   "cell_type": "code",
   "execution_count": 6,
   "metadata": {},
   "outputs": [],
   "source": [
    "import sys\n",
    "import os\n",
    "path_to_src = os.path.join('../', 'references')\n",
    "sys.path.insert(0, path_to_src)\n",
    "from functions import *\n",
    "%matplotlib inline"
   ]
  },
  {
   "cell_type": "markdown",
   "metadata": {},
   "source": [
    "Read the data and look at the first rows of data."
   ]
  },
  {
   "cell_type": "code",
   "execution_count": 7,
   "metadata": {},
   "outputs": [
    {
     "data": {
      "text/html": [
       "<div>\n",
       "<style scoped>\n",
       "    .dataframe tbody tr th:only-of-type {\n",
       "        vertical-align: middle;\n",
       "    }\n",
       "\n",
       "    .dataframe tbody tr th {\n",
       "        vertical-align: top;\n",
       "    }\n",
       "\n",
       "    .dataframe thead th {\n",
       "        text-align: right;\n",
       "    }\n",
       "</style>\n",
       "<table border=\"1\" class=\"dataframe\">\n",
       "  <thead>\n",
       "    <tr style=\"text-align: right;\">\n",
       "      <th></th>\n",
       "      <th>Subject Age Group</th>\n",
       "      <th>Subject ID</th>\n",
       "      <th>GO / SC Num</th>\n",
       "      <th>Terry Stop ID</th>\n",
       "      <th>Stop Resolution</th>\n",
       "      <th>Weapon Type</th>\n",
       "      <th>Officer ID</th>\n",
       "      <th>Officer YOB</th>\n",
       "      <th>Officer Gender</th>\n",
       "      <th>Officer Race</th>\n",
       "      <th>...</th>\n",
       "      <th>Reported Time</th>\n",
       "      <th>Initial Call Type</th>\n",
       "      <th>Final Call Type</th>\n",
       "      <th>Call Type</th>\n",
       "      <th>Officer Squad</th>\n",
       "      <th>Arrest Flag</th>\n",
       "      <th>Frisk Flag</th>\n",
       "      <th>Precinct</th>\n",
       "      <th>Sector</th>\n",
       "      <th>Beat</th>\n",
       "    </tr>\n",
       "  </thead>\n",
       "  <tbody>\n",
       "    <tr>\n",
       "      <th>0</th>\n",
       "      <td>-</td>\n",
       "      <td>-1</td>\n",
       "      <td>20140000120677</td>\n",
       "      <td>92317</td>\n",
       "      <td>Arrest</td>\n",
       "      <td>None</td>\n",
       "      <td>7500</td>\n",
       "      <td>1984</td>\n",
       "      <td>M</td>\n",
       "      <td>Black or African American</td>\n",
       "      <td>...</td>\n",
       "      <td>11:32:00</td>\n",
       "      <td>-</td>\n",
       "      <td>-</td>\n",
       "      <td>-</td>\n",
       "      <td>SOUTH PCT 1ST W - ROBERT</td>\n",
       "      <td>N</td>\n",
       "      <td>N</td>\n",
       "      <td>South</td>\n",
       "      <td>O</td>\n",
       "      <td>O2</td>\n",
       "    </tr>\n",
       "    <tr>\n",
       "      <th>1</th>\n",
       "      <td>-</td>\n",
       "      <td>-1</td>\n",
       "      <td>20150000001463</td>\n",
       "      <td>28806</td>\n",
       "      <td>Field Contact</td>\n",
       "      <td>None</td>\n",
       "      <td>5670</td>\n",
       "      <td>1965</td>\n",
       "      <td>M</td>\n",
       "      <td>White</td>\n",
       "      <td>...</td>\n",
       "      <td>07:59:00</td>\n",
       "      <td>-</td>\n",
       "      <td>-</td>\n",
       "      <td>-</td>\n",
       "      <td>NaN</td>\n",
       "      <td>N</td>\n",
       "      <td>N</td>\n",
       "      <td>-</td>\n",
       "      <td>-</td>\n",
       "      <td>-</td>\n",
       "    </tr>\n",
       "    <tr>\n",
       "      <th>2</th>\n",
       "      <td>-</td>\n",
       "      <td>-1</td>\n",
       "      <td>20150000001516</td>\n",
       "      <td>29599</td>\n",
       "      <td>Field Contact</td>\n",
       "      <td>None</td>\n",
       "      <td>4844</td>\n",
       "      <td>1961</td>\n",
       "      <td>M</td>\n",
       "      <td>White</td>\n",
       "      <td>...</td>\n",
       "      <td>19:12:00</td>\n",
       "      <td>-</td>\n",
       "      <td>-</td>\n",
       "      <td>-</td>\n",
       "      <td>NaN</td>\n",
       "      <td>N</td>\n",
       "      <td>-</td>\n",
       "      <td>-</td>\n",
       "      <td>-</td>\n",
       "      <td>-</td>\n",
       "    </tr>\n",
       "    <tr>\n",
       "      <th>3</th>\n",
       "      <td>-</td>\n",
       "      <td>-1</td>\n",
       "      <td>20150000001670</td>\n",
       "      <td>32260</td>\n",
       "      <td>Field Contact</td>\n",
       "      <td>None</td>\n",
       "      <td>7539</td>\n",
       "      <td>1963</td>\n",
       "      <td>M</td>\n",
       "      <td>White</td>\n",
       "      <td>...</td>\n",
       "      <td>04:55:00</td>\n",
       "      <td>-</td>\n",
       "      <td>-</td>\n",
       "      <td>-</td>\n",
       "      <td>NaN</td>\n",
       "      <td>N</td>\n",
       "      <td>N</td>\n",
       "      <td>-</td>\n",
       "      <td>-</td>\n",
       "      <td>-</td>\n",
       "    </tr>\n",
       "    <tr>\n",
       "      <th>4</th>\n",
       "      <td>-</td>\n",
       "      <td>-1</td>\n",
       "      <td>20150000001739</td>\n",
       "      <td>33155</td>\n",
       "      <td>Field Contact</td>\n",
       "      <td>None</td>\n",
       "      <td>6973</td>\n",
       "      <td>1977</td>\n",
       "      <td>M</td>\n",
       "      <td>White</td>\n",
       "      <td>...</td>\n",
       "      <td>00:41:00</td>\n",
       "      <td>-</td>\n",
       "      <td>-</td>\n",
       "      <td>-</td>\n",
       "      <td>NaN</td>\n",
       "      <td>N</td>\n",
       "      <td>N</td>\n",
       "      <td>-</td>\n",
       "      <td>-</td>\n",
       "      <td>-</td>\n",
       "    </tr>\n",
       "  </tbody>\n",
       "</table>\n",
       "<p>5 rows × 23 columns</p>\n",
       "</div>"
      ],
      "text/plain": [
       "  Subject Age Group  Subject ID     GO / SC Num  Terry Stop ID  \\\n",
       "0                 -          -1  20140000120677          92317   \n",
       "1                 -          -1  20150000001463          28806   \n",
       "2                 -          -1  20150000001516          29599   \n",
       "3                 -          -1  20150000001670          32260   \n",
       "4                 -          -1  20150000001739          33155   \n",
       "\n",
       "  Stop Resolution Weapon Type Officer ID  Officer YOB Officer Gender  \\\n",
       "0          Arrest        None     7500           1984              M   \n",
       "1   Field Contact        None     5670           1965              M   \n",
       "2   Field Contact        None     4844           1961              M   \n",
       "3   Field Contact        None     7539           1963              M   \n",
       "4   Field Contact        None     6973           1977              M   \n",
       "\n",
       "                Officer Race  ... Reported Time Initial Call Type  \\\n",
       "0  Black or African American  ...      11:32:00                 -   \n",
       "1                      White  ...      07:59:00                 -   \n",
       "2                      White  ...      19:12:00                 -   \n",
       "3                      White  ...      04:55:00                 -   \n",
       "4                      White  ...      00:41:00                 -   \n",
       "\n",
       "  Final Call Type Call Type             Officer Squad Arrest Flag Frisk Flag  \\\n",
       "0               -         -  SOUTH PCT 1ST W - ROBERT           N          N   \n",
       "1               -         -                       NaN           N          N   \n",
       "2               -         -                       NaN           N          -   \n",
       "3               -         -                       NaN           N          N   \n",
       "4               -         -                       NaN           N          N   \n",
       "\n",
       "  Precinct  Sector    Beat  \n",
       "0    South  O       O2      \n",
       "1        -       -       -  \n",
       "2        -       -       -  \n",
       "3        -       -       -  \n",
       "4        -       -       -  \n",
       "\n",
       "[5 rows x 23 columns]"
      ]
     },
     "execution_count": 7,
     "metadata": {},
     "output_type": "execute_result"
    }
   ],
   "source": [
    "df = pd.read_csv('../data/Terry_Stops.csv')\n",
    "df.head()"
   ]
  },
  {
   "cell_type": "markdown",
   "metadata": {},
   "source": [
    "At first glance we can see that we have some missing data in the Subjet Age Group as well as Initial Call Type. Also some NaN values on Officer Squad. Let's dig in a little more to view what we hyave to work with."
   ]
  },
  {
   "cell_type": "code",
   "execution_count": 8,
   "metadata": {
    "scrolled": true
   },
   "outputs": [
    {
     "name": "stdout",
     "output_type": "stream",
     "text": [
      "Subject Age Group             0\n",
      "Subject ID                    0\n",
      "GO / SC Num                   0\n",
      "Terry Stop ID                 0\n",
      "Stop Resolution               0\n",
      "Weapon Type                   0\n",
      "Officer ID                    0\n",
      "Officer YOB                   0\n",
      "Officer Gender                0\n",
      "Officer Race                  0\n",
      "Subject Perceived Race        0\n",
      "Subject Perceived Gender      0\n",
      "Reported Date                 0\n",
      "Reported Time                 0\n",
      "Initial Call Type             0\n",
      "Final Call Type               0\n",
      "Call Type                     0\n",
      "Officer Squad               604\n",
      "Arrest Flag                   0\n",
      "Frisk Flag                    0\n",
      "Precinct                      0\n",
      "Sector                        0\n",
      "Beat                          0\n",
      "dtype: int64\n",
      "----------------------------------------------------------------------------\n",
      "<class 'pandas.core.frame.DataFrame'>\n",
      "RangeIndex: 47213 entries, 0 to 47212\n",
      "Data columns (total 23 columns):\n",
      " #   Column                    Non-Null Count  Dtype \n",
      "---  ------                    --------------  ----- \n",
      " 0   Subject Age Group         47213 non-null  object\n",
      " 1   Subject ID                47213 non-null  int64 \n",
      " 2   GO / SC Num               47213 non-null  int64 \n",
      " 3   Terry Stop ID             47213 non-null  int64 \n",
      " 4   Stop Resolution           47213 non-null  object\n",
      " 5   Weapon Type               47213 non-null  object\n",
      " 6   Officer ID                47213 non-null  object\n",
      " 7   Officer YOB               47213 non-null  int64 \n",
      " 8   Officer Gender            47213 non-null  object\n",
      " 9   Officer Race              47213 non-null  object\n",
      " 10  Subject Perceived Race    47213 non-null  object\n",
      " 11  Subject Perceived Gender  47213 non-null  object\n",
      " 12  Reported Date             47213 non-null  object\n",
      " 13  Reported Time             47213 non-null  object\n",
      " 14  Initial Call Type         47213 non-null  object\n",
      " 15  Final Call Type           47213 non-null  object\n",
      " 16  Call Type                 47213 non-null  object\n",
      " 17  Officer Squad             46609 non-null  object\n",
      " 18  Arrest Flag               47213 non-null  object\n",
      " 19  Frisk Flag                47213 non-null  object\n",
      " 20  Precinct                  47213 non-null  object\n",
      " 21  Sector                    47213 non-null  object\n",
      " 22  Beat                      47213 non-null  object\n",
      "dtypes: int64(4), object(19)\n",
      "memory usage: 8.3+ MB\n",
      "None\n"
     ]
    }
   ],
   "source": [
    "print(df.isna().sum())\n",
    "print('----------------------------------------------------------------------------')\n",
    "print(df.info())"
   ]
  },
  {
   "cell_type": "markdown",
   "metadata": {},
   "source": [
    "It appears as though we have a lot of information to work with and the only feature that has missing data is the `Officer Squad` feature."
   ]
  },
  {
   "cell_type": "markdown",
   "metadata": {},
   "source": [
    "Let's cleanup the names of the columns to make it easier to code."
   ]
  },
  {
   "cell_type": "code",
   "execution_count": 6,
   "metadata": {},
   "outputs": [
    {
     "data": {
      "text/plain": [
       "['Subject Age Group',\n",
       " 'Subject ID',\n",
       " 'GO / SC Num',\n",
       " 'Terry Stop ID',\n",
       " 'Stop Resolution',\n",
       " 'Weapon Type',\n",
       " 'Officer ID',\n",
       " 'Officer YOB',\n",
       " 'Officer Gender',\n",
       " 'Officer Race',\n",
       " 'Subject Perceived Race',\n",
       " 'Subject Perceived Gender',\n",
       " 'Reported Date',\n",
       " 'Reported Time',\n",
       " 'Initial Call Type',\n",
       " 'Final Call Type',\n",
       " 'Call Type',\n",
       " 'Officer Squad',\n",
       " 'Arrest Flag',\n",
       " 'Frisk Flag',\n",
       " 'Precinct',\n",
       " 'Sector',\n",
       " 'Beat']"
      ]
     },
     "execution_count": 6,
     "metadata": {},
     "output_type": "execute_result"
    }
   ],
   "source": [
    "list(df.columns)"
   ]
  },
  {
   "cell_type": "code",
   "execution_count": 7,
   "metadata": {},
   "outputs": [
    {
     "data": {
      "text/html": [
       "<div>\n",
       "<style scoped>\n",
       "    .dataframe tbody tr th:only-of-type {\n",
       "        vertical-align: middle;\n",
       "    }\n",
       "\n",
       "    .dataframe tbody tr th {\n",
       "        vertical-align: top;\n",
       "    }\n",
       "\n",
       "    .dataframe thead th {\n",
       "        text-align: right;\n",
       "    }\n",
       "</style>\n",
       "<table border=\"1\" class=\"dataframe\">\n",
       "  <thead>\n",
       "    <tr style=\"text-align: right;\">\n",
       "      <th></th>\n",
       "      <th>sub_age_group</th>\n",
       "      <th>sub_id</th>\n",
       "      <th>go_num_sc_num</th>\n",
       "      <th>terryS_id</th>\n",
       "      <th>stop_resolution</th>\n",
       "      <th>weapon_type</th>\n",
       "      <th>officer_id</th>\n",
       "      <th>officer_YOB</th>\n",
       "      <th>officer_gender</th>\n",
       "      <th>officer_race</th>\n",
       "      <th>...</th>\n",
       "      <th>reported_time</th>\n",
       "      <th>initial_calltype</th>\n",
       "      <th>final_calltype</th>\n",
       "      <th>call_type</th>\n",
       "      <th>officer_squad</th>\n",
       "      <th>arrest_flag</th>\n",
       "      <th>frisk_flag</th>\n",
       "      <th>precinct</th>\n",
       "      <th>sector</th>\n",
       "      <th>beat</th>\n",
       "    </tr>\n",
       "  </thead>\n",
       "  <tbody>\n",
       "    <tr>\n",
       "      <th>0</th>\n",
       "      <td>-</td>\n",
       "      <td>-1</td>\n",
       "      <td>20140000120677</td>\n",
       "      <td>92317</td>\n",
       "      <td>Arrest</td>\n",
       "      <td>None</td>\n",
       "      <td>7500</td>\n",
       "      <td>1984</td>\n",
       "      <td>M</td>\n",
       "      <td>Black or African American</td>\n",
       "      <td>...</td>\n",
       "      <td>11:32:00</td>\n",
       "      <td>-</td>\n",
       "      <td>-</td>\n",
       "      <td>-</td>\n",
       "      <td>SOUTH PCT 1ST W - ROBERT</td>\n",
       "      <td>N</td>\n",
       "      <td>N</td>\n",
       "      <td>South</td>\n",
       "      <td>O</td>\n",
       "      <td>O2</td>\n",
       "    </tr>\n",
       "    <tr>\n",
       "      <th>1</th>\n",
       "      <td>-</td>\n",
       "      <td>-1</td>\n",
       "      <td>20150000001463</td>\n",
       "      <td>28806</td>\n",
       "      <td>Field Contact</td>\n",
       "      <td>None</td>\n",
       "      <td>5670</td>\n",
       "      <td>1965</td>\n",
       "      <td>M</td>\n",
       "      <td>White</td>\n",
       "      <td>...</td>\n",
       "      <td>07:59:00</td>\n",
       "      <td>-</td>\n",
       "      <td>-</td>\n",
       "      <td>-</td>\n",
       "      <td>NaN</td>\n",
       "      <td>N</td>\n",
       "      <td>N</td>\n",
       "      <td>-</td>\n",
       "      <td>-</td>\n",
       "      <td>-</td>\n",
       "    </tr>\n",
       "    <tr>\n",
       "      <th>2</th>\n",
       "      <td>-</td>\n",
       "      <td>-1</td>\n",
       "      <td>20150000001516</td>\n",
       "      <td>29599</td>\n",
       "      <td>Field Contact</td>\n",
       "      <td>None</td>\n",
       "      <td>4844</td>\n",
       "      <td>1961</td>\n",
       "      <td>M</td>\n",
       "      <td>White</td>\n",
       "      <td>...</td>\n",
       "      <td>19:12:00</td>\n",
       "      <td>-</td>\n",
       "      <td>-</td>\n",
       "      <td>-</td>\n",
       "      <td>NaN</td>\n",
       "      <td>N</td>\n",
       "      <td>-</td>\n",
       "      <td>-</td>\n",
       "      <td>-</td>\n",
       "      <td>-</td>\n",
       "    </tr>\n",
       "    <tr>\n",
       "      <th>3</th>\n",
       "      <td>-</td>\n",
       "      <td>-1</td>\n",
       "      <td>20150000001670</td>\n",
       "      <td>32260</td>\n",
       "      <td>Field Contact</td>\n",
       "      <td>None</td>\n",
       "      <td>7539</td>\n",
       "      <td>1963</td>\n",
       "      <td>M</td>\n",
       "      <td>White</td>\n",
       "      <td>...</td>\n",
       "      <td>04:55:00</td>\n",
       "      <td>-</td>\n",
       "      <td>-</td>\n",
       "      <td>-</td>\n",
       "      <td>NaN</td>\n",
       "      <td>N</td>\n",
       "      <td>N</td>\n",
       "      <td>-</td>\n",
       "      <td>-</td>\n",
       "      <td>-</td>\n",
       "    </tr>\n",
       "    <tr>\n",
       "      <th>4</th>\n",
       "      <td>-</td>\n",
       "      <td>-1</td>\n",
       "      <td>20150000001739</td>\n",
       "      <td>33155</td>\n",
       "      <td>Field Contact</td>\n",
       "      <td>None</td>\n",
       "      <td>6973</td>\n",
       "      <td>1977</td>\n",
       "      <td>M</td>\n",
       "      <td>White</td>\n",
       "      <td>...</td>\n",
       "      <td>00:41:00</td>\n",
       "      <td>-</td>\n",
       "      <td>-</td>\n",
       "      <td>-</td>\n",
       "      <td>NaN</td>\n",
       "      <td>N</td>\n",
       "      <td>N</td>\n",
       "      <td>-</td>\n",
       "      <td>-</td>\n",
       "      <td>-</td>\n",
       "    </tr>\n",
       "  </tbody>\n",
       "</table>\n",
       "<p>5 rows × 23 columns</p>\n",
       "</div>"
      ],
      "text/plain": [
       "  sub_age_group  sub_id   go_num_sc_num  terryS_id stop_resolution  \\\n",
       "0             -      -1  20140000120677      92317          Arrest   \n",
       "1             -      -1  20150000001463      28806   Field Contact   \n",
       "2             -      -1  20150000001516      29599   Field Contact   \n",
       "3             -      -1  20150000001670      32260   Field Contact   \n",
       "4             -      -1  20150000001739      33155   Field Contact   \n",
       "\n",
       "  weapon_type officer_id  officer_YOB officer_gender  \\\n",
       "0        None     7500           1984              M   \n",
       "1        None     5670           1965              M   \n",
       "2        None     4844           1961              M   \n",
       "3        None     7539           1963              M   \n",
       "4        None     6973           1977              M   \n",
       "\n",
       "                officer_race  ... reported_time initial_calltype  \\\n",
       "0  Black or African American  ...      11:32:00                -   \n",
       "1                      White  ...      07:59:00                -   \n",
       "2                      White  ...      19:12:00                -   \n",
       "3                      White  ...      04:55:00                -   \n",
       "4                      White  ...      00:41:00                -   \n",
       "\n",
       "  final_calltype call_type             officer_squad arrest_flag frisk_flag  \\\n",
       "0              -         -  SOUTH PCT 1ST W - ROBERT           N          N   \n",
       "1              -         -                       NaN           N          N   \n",
       "2              -         -                       NaN           N          -   \n",
       "3              -         -                       NaN           N          N   \n",
       "4              -         -                       NaN           N          N   \n",
       "\n",
       "  precinct  sector    beat  \n",
       "0    South  O       O2      \n",
       "1        -       -       -  \n",
       "2        -       -       -  \n",
       "3        -       -       -  \n",
       "4        -       -       -  \n",
       "\n",
       "[5 rows x 23 columns]"
      ]
     },
     "execution_count": 7,
     "metadata": {},
     "output_type": "execute_result"
    }
   ],
   "source": [
    "update_col_names = {'Subject Age Group':'sub_age_group', 'Subject ID':'sub_id', \n",
    "                    'GO / SC Num':'go_num_sc_num','Terry Stop ID':'terryS_id', \n",
    "                    'Stop Resolution':'stop_resolution','Weapon Type':'weapon_type',\n",
    "                    'Officer ID':'officer_id','Officer YOB':'officer_YOB',\n",
    "                    'Officer Gender':'officer_gender','Officer Race':'officer_race',\n",
    "                    'Subject Perceived Race':'sub_perceived_race','Subject Perceived Gender':'sub_perceived_gender',\n",
    "                    'Reported Date':'reported_date','Reported Time':'reported_time',\n",
    "                    'Initial Call Type':'initial_calltype','Final Call Type':'final_calltype',\n",
    "                    'Call Type':'call_type','Officer Squad':'officer_squad',\n",
    "                    'Arrest Flag':'arrest_flag','Frisk Flag':'frisk_flag',\n",
    "                    'Precinct':'precinct','Sector':'sector','Beat':'beat'}\n",
    "df.rename(columns=update_col_names, inplace=True)\n",
    "df.head()"
   ]
  },
  {
   "cell_type": "markdown",
   "metadata": {},
   "source": [
    "Much better!"
   ]
  },
  {
   "cell_type": "markdown",
   "metadata": {},
   "source": [
    "## Creating Features from the Data ##"
   ]
  },
  {
   "cell_type": "markdown",
   "metadata": {},
   "source": [
    "Part of the data that the columns tell us is the officers year of birth, but it does not tell us the officer's age. It seems more reasonable to have an age feature for a cop to help with our prediction model. \n",
    "\n",
    "We will use the officer's year of birth and the date that the reported stop was made to figure out the age of the officer when he made the stop."
   ]
  },
  {
   "cell_type": "code",
   "execution_count": 8,
   "metadata": {},
   "outputs": [
    {
     "data": {
      "text/plain": [
       "27062    1900\n",
       "1058     1900\n",
       "25205    1900\n",
       "1080     1900\n",
       "46088    1900\n",
       "         ... \n",
       "43572    1998\n",
       "38661    1998\n",
       "36743    1998\n",
       "37464    1998\n",
       "27451    1998\n",
       "Name: officer_YOB, Length: 47213, dtype: int64"
      ]
     },
     "execution_count": 8,
     "metadata": {},
     "output_type": "execute_result"
    }
   ],
   "source": [
    "df.officer_YOB.sort_values(ascending=True)"
   ]
  },
  {
   "cell_type": "code",
   "execution_count": 9,
   "metadata": {},
   "outputs": [],
   "source": [
    "for x in range(len(df.reported_date)):\n",
    "    df.reported_date = df.reported_date[x][0:10]\n",
    "    df['year_reported'] = df.reported_date[x][0:4]"
   ]
  },
  {
   "cell_type": "code",
   "execution_count": 10,
   "metadata": {
    "scrolled": true
   },
   "outputs": [],
   "source": [
    "df['officer_age'] = df.year_reported.astype(int) - df.officer_YOB"
   ]
  },
  {
   "cell_type": "code",
   "execution_count": 11,
   "metadata": {
    "scrolled": true
   },
   "outputs": [
    {
     "data": {
      "text/plain": [
       "35978    115\n",
       "36308    115\n",
       "24902    115\n",
       "38084    115\n",
       "38025    115\n",
       "        ... \n",
       "11461     17\n",
       "27451     17\n",
       "37464     17\n",
       "12988     17\n",
       "12044     17\n",
       "Name: officer_age, Length: 47213, dtype: int64"
      ]
     },
     "execution_count": 11,
     "metadata": {},
     "output_type": "execute_result"
    }
   ],
   "source": [
    "df['officer_age'].sort_values(ascending=False)"
   ]
  },
  {
   "cell_type": "markdown",
   "metadata": {},
   "source": [
    "It is highly unlikely that there were 115 year old officers doing stops. Or have officers younger than 21 years. We will filter out those along with officers that are around the 80 year old mark."
   ]
  },
  {
   "cell_type": "code",
   "execution_count": 12,
   "metadata": {},
   "outputs": [],
   "source": [
    "df = df[df.officer_age >= 21]"
   ]
  },
  {
   "cell_type": "code",
   "execution_count": 13,
   "metadata": {},
   "outputs": [],
   "source": [
    "df = df[df.officer_age <= 80]"
   ]
  },
  {
   "cell_type": "code",
   "execution_count": 14,
   "metadata": {},
   "outputs": [
    {
     "data": {
      "text/plain": [
       "5328     69\n",
       "3869     69\n",
       "182      67\n",
       "39288    67\n",
       "39353    67\n",
       "         ..\n",
       "27709    21\n",
       "45996    21\n",
       "37710    21\n",
       "9224     21\n",
       "24642    21\n",
       "Name: officer_age, Length: 44907, dtype: int64"
      ]
     },
     "execution_count": 14,
     "metadata": {},
     "output_type": "execute_result"
    }
   ],
   "source": [
    "df['officer_age'].sort_values(ascending=False)"
   ]
  },
  {
   "cell_type": "markdown",
   "metadata": {},
   "source": [
    "Much better and reasonable."
   ]
  },
  {
   "cell_type": "markdown",
   "metadata": {},
   "source": [
    "Now let's categorize the feature `weapon_type` by replacing no weapons found values as 0 and weapons found as 1."
   ]
  },
  {
   "cell_type": "code",
   "execution_count": 15,
   "metadata": {},
   "outputs": [
    {
     "data": {
      "text/plain": [
       "array(['None', 'Firearm Other', 'Lethal Cutting Instrument', 'Handgun',\n",
       "       '-', 'Club, Blackjack, Brass Knuckles',\n",
       "       'Knife/Cutting/Stabbing Instrument', 'Other Firearm', 'Rifle',\n",
       "       'Fire/Incendiary Device', 'Blunt Object/Striking Implement',\n",
       "       'Firearm (unk type)', 'Mace/Pepper Spray', 'None/Not Applicable',\n",
       "       'Club', 'Firearm', 'Taser/Stun Gun', 'Shotgun', 'Brass Knuckles',\n",
       "       'Automatic Handgun', 'Blackjack',\n",
       "       'Personal Weapons (hands, feet, etc.)'], dtype=object)"
      ]
     },
     "execution_count": 15,
     "metadata": {},
     "output_type": "execute_result"
    }
   ],
   "source": [
    "df.weapon_type = df.weapon_type.astype(str)\n",
    "df.weapon_type.unique()"
   ]
  },
  {
   "cell_type": "code",
   "execution_count": 16,
   "metadata": {},
   "outputs": [],
   "source": [
    "list_to_replace_weapons = ['1', '-', 'None', 'Knife/Cutting/Stabbing Instrument',\n",
    "       'Other Firearm', 'Rifle', 'Fire/Incendiary Device',\n",
    "       'Blunt Object/Striking Implement', 'Firearm Other',\n",
    "       'Lethal Cutting Instrument', 'Handgun', 'Firearm (unk type)',\n",
    "       'Mace/Pepper Spray', 'None/Not Applicable', 'Club',\n",
    "       'Club, Blackjack, Brass Knuckles', 'Firearm', 'Taser/Stun Gun',\n",
    "       'Shotgun', 'Brass Knuckles', 'Automatic Handgun', 'Blackjack',\n",
    "       'Personal Weapons (hands, feet, etc.)']\n",
    "\n",
    "df.weapon_type.replace(to_replace='None',value=0, inplace=True)\n",
    "df.weapon_type.replace(to_replace=list_to_replace_weapons, value=1,inplace=True)"
   ]
  },
  {
   "cell_type": "code",
   "execution_count": 17,
   "metadata": {},
   "outputs": [
    {
     "data": {
      "text/plain": [
       "0    0\n",
       "1    0\n",
       "2    0\n",
       "3    0\n",
       "4    0\n",
       "Name: weapon_type, dtype: int64"
      ]
     },
     "execution_count": 17,
     "metadata": {},
     "output_type": "execute_result"
    }
   ],
   "source": [
    "df.weapon_type.head()"
   ]
  },
  {
   "cell_type": "code",
   "execution_count": 18,
   "metadata": {},
   "outputs": [
    {
     "data": {
      "text/plain": [
       "0    32051\n",
       "1    12856\n",
       "Name: weapon_type, dtype: int64"
      ]
     },
     "execution_count": 18,
     "metadata": {},
     "output_type": "execute_result"
    }
   ],
   "source": [
    "df.weapon_type.value_counts()"
   ]
  },
  {
   "cell_type": "markdown",
   "metadata": {},
   "source": [
    "## Rest of the columns ##"
   ]
  },
  {
   "cell_type": "markdown",
   "metadata": {},
   "source": [
    "Because most of the features that we are going to be using for our model are categorical, we are going to set the `datatype` as `category`."
   ]
  },
  {
   "cell_type": "code",
   "execution_count": 19,
   "metadata": {},
   "outputs": [],
   "source": [
    "category_features = ['sub_age_group','officer_gender','officer_race','sub_perceived_race','sub_perceived_gender',\n",
    "                     'frisk_flag','call_type']"
   ]
  },
  {
   "cell_type": "code",
   "execution_count": 20,
   "metadata": {},
   "outputs": [],
   "source": [
    "for x in category_features:\n",
    "    df[x] = df[x].astype('category').cat.as_ordered()"
   ]
  },
  {
   "cell_type": "code",
   "execution_count": 21,
   "metadata": {},
   "outputs": [
    {
     "data": {
      "text/plain": [
       "sub_age_group           category\n",
       "officer_gender          category\n",
       "officer_race            category\n",
       "sub_perceived_race      category\n",
       "sub_perceived_gender    category\n",
       "frisk_flag              category\n",
       "call_type               category\n",
       "dtype: object"
      ]
     },
     "execution_count": 21,
     "metadata": {},
     "output_type": "execute_result"
    }
   ],
   "source": [
    "df[category_features].dtypes"
   ]
  },
  {
   "cell_type": "markdown",
   "metadata": {},
   "source": [
    "Great! Now let's get the target column with the proper values."
   ]
  },
  {
   "cell_type": "markdown",
   "metadata": {},
   "source": [
    "## Encoding target column ##"
   ]
  },
  {
   "cell_type": "markdown",
   "metadata": {},
   "source": [
    "Since the `stop_resolution` is our target column, we will encode it to determine whether a major consequence or arrest was made by binning said values to 1 and the rest of the values as 0."
   ]
  },
  {
   "cell_type": "code",
   "execution_count": 22,
   "metadata": {},
   "outputs": [
    {
     "data": {
      "text/plain": [
       "Field Contact               17808\n",
       "Offense Report              15151\n",
       "Arrest                      11059\n",
       "Referred for Prosecution      717\n",
       "Citation / Infraction         172\n",
       "Name: stop_resolution, dtype: int64"
      ]
     },
     "execution_count": 22,
     "metadata": {},
     "output_type": "execute_result"
    }
   ],
   "source": [
    "df.stop_resolution.value_counts()"
   ]
  },
  {
   "cell_type": "code",
   "execution_count": 23,
   "metadata": {},
   "outputs": [],
   "source": [
    "new_target_values = {'Arrest':1,\n",
    "                     'Field Contact':0,\n",
    "                     'Citation / Infraction':0,\n",
    "                     'Offense Report':1,\n",
    "                     'Referred for Prosecution':1}"
   ]
  },
  {
   "cell_type": "code",
   "execution_count": 24,
   "metadata": {},
   "outputs": [],
   "source": [
    "df['stop_resolution'].replace(new_target_values, inplace=True)"
   ]
  },
  {
   "cell_type": "markdown",
   "metadata": {},
   "source": [
    "## Splitting the data ##"
   ]
  },
  {
   "cell_type": "markdown",
   "metadata": {},
   "source": [
    "It's time to split the data! We set a variable named `x_feats` as the `X` variable and the `stop_resolution` column as our target column. Since we have set the values of our target to bool -meaning 1 if an arrest was made and 0 if there was not an arrest made- this makes our problem/model follow a binary classification process."
   ]
  },
  {
   "cell_type": "code",
   "execution_count": 25,
   "metadata": {},
   "outputs": [],
   "source": [
    "x_feats = ['sub_age_group','weapon_type','officer_gender','officer_race','sub_perceived_race',\n",
    "           'sub_perceived_gender','frisk_flag','call_type','officer_age']"
   ]
  },
  {
   "cell_type": "code",
   "execution_count": 26,
   "metadata": {},
   "outputs": [],
   "source": [
    "X = df[x_feats]\n",
    "y = df['stop_resolution']"
   ]
  },
  {
   "cell_type": "code",
   "execution_count": 27,
   "metadata": {},
   "outputs": [
    {
     "name": "stderr",
     "output_type": "stream",
     "text": [
      "/Users/edgarbarron/opt/anaconda3/envs/learn-env/lib/python3.8/site-packages/pandas/core/generic.py:5168: SettingWithCopyWarning: \n",
      "A value is trying to be set on a copy of a slice from a DataFrame.\n",
      "Try using .loc[row_indexer,col_indexer] = value instead\n",
      "\n",
      "See the caveats in the documentation: https://pandas.pydata.org/pandas-docs/stable/user_guide/indexing.html#returning-a-view-versus-a-copy\n",
      "  self[name] = value\n"
     ]
    }
   ],
   "source": [
    "X.weapon_type = X.weapon_type.astype(bool)"
   ]
  },
  {
   "cell_type": "markdown",
   "metadata": {},
   "source": [
    "We do 2 train splits in order to have a piece of the data that we don't touch at all. In the mean time we will be concentrating our learning models on the X_train, X_test, y_train, y_test"
   ]
  },
  {
   "cell_type": "code",
   "execution_count": 28,
   "metadata": {},
   "outputs": [],
   "source": [
    "X_train_all, X_test_all, y_train_all, y_test_all = train_test_split(X,y, random_state=42)\n",
    "X_train, X_test, y_train, y_test = train_test_split(X_train_all, y_train_all, random_state=42)"
   ]
  },
  {
   "cell_type": "markdown",
   "metadata": {},
   "source": [
    "In order for our models to be read by the algorithms it is necessarily to properly process the data. For this our X_train and X_test will be processed with `OneHotEncoder`."
   ]
  },
  {
   "cell_type": "code",
   "execution_count": 29,
   "metadata": {},
   "outputs": [],
   "source": [
    "ohe = OneHotEncoder(handle_unknown='ignore')\n",
    "X_train_ohe = ohe.fit_transform(X_train)\n",
    "X_test_ohe = ohe.transform(X_test)"
   ]
  },
  {
   "cell_type": "markdown",
   "metadata": {},
   "source": [
    "We want to see how the model performs at its base and without any changes to hyperparameters or regularisation."
   ]
  },
  {
   "cell_type": "code",
   "execution_count": 30,
   "metadata": {},
   "outputs": [],
   "source": [
    "logreg = LogisticRegression()"
   ]
  },
  {
   "cell_type": "code",
   "execution_count": 31,
   "metadata": {
    "scrolled": true
   },
   "outputs": [
    {
     "name": "stderr",
     "output_type": "stream",
     "text": [
      "/Users/edgarbarron/opt/anaconda3/envs/learn-env/lib/python3.8/site-packages/sklearn/linear_model/_logistic.py:762: ConvergenceWarning: lbfgs failed to converge (status=1):\n",
      "STOP: TOTAL NO. of ITERATIONS REACHED LIMIT.\n",
      "\n",
      "Increase the number of iterations (max_iter) or scale the data as shown in:\n",
      "    https://scikit-learn.org/stable/modules/preprocessing.html\n",
      "Please also refer to the documentation for alternative solver options:\n",
      "    https://scikit-learn.org/stable/modules/linear_model.html#logistic-regression\n",
      "  n_iter_i = _check_optimize_result(\n"
     ]
    }
   ],
   "source": [
    "model_1 = logreg.fit(X_train_ohe, y_train)"
   ]
  },
  {
   "cell_type": "code",
   "execution_count": 32,
   "metadata": {},
   "outputs": [],
   "source": [
    "y_hat_train = logreg.predict(X_train_ohe)\n",
    "y_hat_test = logreg.predict(X_test_ohe)"
   ]
  },
  {
   "cell_type": "code",
   "execution_count": 33,
   "metadata": {},
   "outputs": [
    {
     "name": "stdout",
     "output_type": "stream",
     "text": [
      "F1 score for training data: 0.8802693777115845\n",
      "-------------------------------------------\n",
      "F1 score for testing data: 0.8781435090785512\n",
      "-------------------------------------------\n",
      "Recall score for training data: 0.9016980631467233\n",
      "-------------------------------------------\n",
      "Recall score for testing data: 0.8972222222222223\n",
      "-------------------------------------------\n",
      "Precision score for training data: 0.8598355471220747\n",
      "-------------------------------------------\n",
      "Precision score for testing data: 0.8598592888381822\n"
     ]
    }
   ],
   "source": [
    "scores(y_train, y_hat_train,y_test,y_hat_test)"
   ]
  },
  {
   "cell_type": "markdown",
   "metadata": {},
   "source": [
    "Great results from our first model. Our F1 metric shows the average metric between recall and precision, with a score of .87. Because of the combined score, it is helpful to see how our recall and precision score does overall."
   ]
  },
  {
   "cell_type": "markdown",
   "metadata": {},
   "source": [
    "Both our recall and precision are high with our precision being the one score that is slightly lower. Since our objective is to look at how accurately we can predict an arrest, recall score is our best indicator. Though, for the sake of this project, we will focus on the F1 score because it gives us the overall score of the model."
   ]
  },
  {
   "cell_type": "markdown",
   "metadata": {},
   "source": [
    "Now, let's visualize the errors with a confusion matrix."
   ]
  },
  {
   "cell_type": "code",
   "execution_count": 34,
   "metadata": {
    "scrolled": true
   },
   "outputs": [
    {
     "data": {
      "image/png": "[encoded data removed]",
      "text/plain": [
       "<Figure size 720x432 with 4 Axes>"
      ]
     },
     "metadata": {
      "needs_background": "light"
     },
     "output_type": "display_data"
    }
   ],
   "source": [
    "plot_cf(logreg,X_train_ohe,y_train,X_test_ohe,y_test)"
   ]
  },
  {
   "cell_type": "markdown",
   "metadata": {},
   "source": [
    "We can illustrate it even further by looking at the true positive rate against the false positive rate. We do this by getting our ROC and AUC score and we can go even further by illustriting it."
   ]
  },
  {
   "cell_type": "code",
   "execution_count": 35,
   "metadata": {},
   "outputs": [
    {
     "name": "stderr",
     "output_type": "stream",
     "text": [
      "/Users/edgarbarron/opt/anaconda3/envs/learn-env/lib/python3.8/site-packages/sklearn/linear_model/_logistic.py:762: ConvergenceWarning: lbfgs failed to converge (status=1):\n",
      "STOP: TOTAL NO. of ITERATIONS REACHED LIMIT.\n",
      "\n",
      "Increase the number of iterations (max_iter) or scale the data as shown in:\n",
      "    https://scikit-learn.org/stable/modules/preprocessing.html\n",
      "Please also refer to the documentation for alternative solver options:\n",
      "    https://scikit-learn.org/stable/modules/linear_model.html#logistic-regression\n",
      "  n_iter_i = _check_optimize_result(\n"
     ]
    },
    {
     "name": "stdout",
     "output_type": "stream",
     "text": [
      "AUC: 0.9014156863435709\n"
     ]
    },
    {
     "data": {
      "image/png": "[encoded data removed]",
      "text/plain": [
       "<Figure size 720x576 with 1 Axes>"
      ]
     },
     "metadata": {},
     "output_type": "display_data"
    }
   ],
   "source": [
    "roc_auc_plot(X_train_ohe, y_train, X_test_ohe, y_test, logreg)"
   ]
  },
  {
   "cell_type": "markdown",
   "metadata": {},
   "source": [
    "We can see that we get a very solid score on the AUC/ROC curve test. With 90% of our data being predicted correctly."
   ]
  },
  {
   "cell_type": "markdown",
   "metadata": {},
   "source": [
    "## Model 2 - Adding Synthetic Data ##"
   ]
  },
  {
   "cell_type": "markdown",
   "metadata": {},
   "source": [
    "Let's see if adding synthetic data to the model will give us a better score overall than what we already have."
   ]
  },
  {
   "cell_type": "code",
   "execution_count": 36,
   "metadata": {},
   "outputs": [],
   "source": [
    "smote = SMOTE()\n",
    "X_train_resampled, y_train_resampled  = smote.fit_sample(X_train_ohe, y_train)"
   ]
  },
  {
   "cell_type": "code",
   "execution_count": 37,
   "metadata": {
    "scrolled": true
   },
   "outputs": [
    {
     "name": "stdout",
     "output_type": "stream",
     "text": [
      "1    15076\n",
      "0    15076\n",
      "Name: stop_resolution, dtype: int64\n"
     ]
    }
   ],
   "source": [
    "print(pd.Series(y_train_resampled).value_counts())"
   ]
  },
  {
   "cell_type": "markdown",
   "metadata": {},
   "source": [
    "Now let's fit our model."
   ]
  },
  {
   "cell_type": "code",
   "execution_count": 38,
   "metadata": {
    "scrolled": true
   },
   "outputs": [
    {
     "name": "stderr",
     "output_type": "stream",
     "text": [
      "/Users/edgarbarron/opt/anaconda3/envs/learn-env/lib/python3.8/site-packages/sklearn/linear_model/_logistic.py:762: ConvergenceWarning: lbfgs failed to converge (status=1):\n",
      "STOP: TOTAL NO. of ITERATIONS REACHED LIMIT.\n",
      "\n",
      "Increase the number of iterations (max_iter) or scale the data as shown in:\n",
      "    https://scikit-learn.org/stable/modules/preprocessing.html\n",
      "Please also refer to the documentation for alternative solver options:\n",
      "    https://scikit-learn.org/stable/modules/linear_model.html#logistic-regression\n",
      "  n_iter_i = _check_optimize_result(\n"
     ]
    }
   ],
   "source": [
    "model_2 = logreg.fit(X_train_resampled, y_train_resampled)"
   ]
  },
  {
   "cell_type": "markdown",
   "metadata": {},
   "source": [
    "Let's get our predictions based on the model."
   ]
  },
  {
   "cell_type": "code",
   "execution_count": 39,
   "metadata": {},
   "outputs": [],
   "source": [
    "y_hat_train2 = model_2.predict(X_train_resampled)\n",
    "y_hat_test2 = model_2.predict(X_test_ohe)"
   ]
  },
  {
   "cell_type": "code",
   "execution_count": 40,
   "metadata": {},
   "outputs": [
    {
     "name": "stdout",
     "output_type": "stream",
     "text": [
      "F1 score for training data: 0.8487630874921558\n",
      "-------------------------------------------\n",
      "F1 score for testing data: 0.8647225597407858\n",
      "-------------------------------------------\n",
      "Recall score for training data: 0.8522817723534094\n",
      "-------------------------------------------\n",
      "Recall score for testing data: 0.8472222222222222\n",
      "-------------------------------------------\n",
      "Precision score for training data: 0.8452733372804421\n",
      "-------------------------------------------\n",
      "Precision score for testing data: 0.8829611248966087\n"
     ]
    }
   ],
   "source": [
    "scores(y_train_resampled, y_hat_train2, y_test,y_hat_test2)"
   ]
  },
  {
   "cell_type": "markdown",
   "metadata": {},
   "source": [
    "We have slightly worse perfoming model with the synthetic data. All of the scores, especially our target -F1 Score- suffered.\n",
    "\n",
    "Let's see our errors using the confusion matrix."
   ]
  },
  {
   "cell_type": "code",
   "execution_count": 41,
   "metadata": {},
   "outputs": [
    {
     "data": {
      "image/png": "[encoded data removed]",
      "text/plain": [
       "<Figure size 720x432 with 4 Axes>"
      ]
     },
     "metadata": {},
     "output_type": "display_data"
    }
   ],
   "source": [
    "plot_cf(logreg,X_train_resampled,y_train_resampled,X_test_ohe,y_test)"
   ]
  },
  {
   "cell_type": "markdown",
   "metadata": {},
   "source": [
    "Let's visualize and calculate the AUC/ROC."
   ]
  },
  {
   "cell_type": "code",
   "execution_count": 42,
   "metadata": {},
   "outputs": [
    {
     "name": "stderr",
     "output_type": "stream",
     "text": [
      "/Users/edgarbarron/opt/anaconda3/envs/learn-env/lib/python3.8/site-packages/sklearn/linear_model/_logistic.py:762: ConvergenceWarning: lbfgs failed to converge (status=1):\n",
      "STOP: TOTAL NO. of ITERATIONS REACHED LIMIT.\n",
      "\n",
      "Increase the number of iterations (max_iter) or scale the data as shown in:\n",
      "    https://scikit-learn.org/stable/modules/preprocessing.html\n",
      "Please also refer to the documentation for alternative solver options:\n",
      "    https://scikit-learn.org/stable/modules/linear_model.html#logistic-regression\n",
      "  n_iter_i = _check_optimize_result(\n"
     ]
    },
    {
     "name": "stdout",
     "output_type": "stream",
     "text": [
      "AUC: 0.9014809042453272\n"
     ]
    },
    {
     "data": {
      "image/png": "[encoded data removed]",
      "text/plain": [
       "<Figure size 720x576 with 1 Axes>"
      ]
     },
     "metadata": {},
     "output_type": "display_data"
    }
   ],
   "source": [
    "roc_auc_plot(X_train_resampled, y_train_resampled,X_test_ohe,y_test, model_2)"
   ]
  },
  {
   "cell_type": "markdown",
   "metadata": {},
   "source": [
    "Our model still predicts 90% of our targets correctly. However, as we saw with the scores. Our model still is suffering in precision and recall."
   ]
  },
  {
   "cell_type": "markdown",
   "metadata": {},
   "source": [
    "## Model 3 - L1 penalty ##"
   ]
  },
  {
   "cell_type": "markdown",
   "metadata": {},
   "source": [
    "By default, the object LogisticRegression has the penalty enabled to `l2`, this time we will change it to `l1`, to see if we can improve our model performance compared to our previous -synthetically injected- model."
   ]
  },
  {
   "cell_type": "code",
   "execution_count": 43,
   "metadata": {},
   "outputs": [],
   "source": [
    "logreg_l1 = LogisticRegression(penalty='l1', solver='liblinear')"
   ]
  },
  {
   "cell_type": "code",
   "execution_count": 44,
   "metadata": {},
   "outputs": [],
   "source": [
    "model_3 = logreg_l1.fit(X_train_resampled, y_train_resampled)"
   ]
  },
  {
   "cell_type": "code",
   "execution_count": 45,
   "metadata": {},
   "outputs": [],
   "source": [
    "y_hat_train3 = model_3.predict(X_train_resampled)\n",
    "y_hat_test3 = model_3.predict(X_test_ohe)"
   ]
  },
  {
   "cell_type": "code",
   "execution_count": 46,
   "metadata": {},
   "outputs": [
    {
     "name": "stdout",
     "output_type": "stream",
     "text": [
      "F1 score for training data: 0.8492210192764722\n",
      "-------------------------------------------\n",
      "F1 score for testing data: 0.8644325199959502\n",
      "-------------------------------------------\n",
      "Recall score for training data: 0.8532767312284426\n",
      "-------------------------------------------\n",
      "Recall score for testing data: 0.8470238095238095\n",
      "-------------------------------------------\n",
      "Precision score for training data: 0.845203679369251\n",
      "-------------------------------------------\n",
      "Precision score for testing data: 0.8825718420508579\n"
     ]
    }
   ],
   "source": [
    "scores(y_train_resampled,y_hat_train3,y_test,y_hat_test3)"
   ]
  },
  {
   "cell_type": "markdown",
   "metadata": {},
   "source": [
    "Overall, a negligible change in the scores of our evaluators. Our F1 Score did not improve whatsoever nor the rest of the evaluation metrics."
   ]
  },
  {
   "cell_type": "code",
   "execution_count": 47,
   "metadata": {
    "scrolled": true
   },
   "outputs": [
    {
     "data": {
      "image/png": "[encoded data removed]",
      "text/plain": [
       "<Figure size 720x432 with 4 Axes>"
      ]
     },
     "metadata": {},
     "output_type": "display_data"
    }
   ],
   "source": [
    "plot_cf(logreg_l1, X_train_resampled, y_train_resampled,X_test_ohe,y_test)"
   ]
  },
  {
   "cell_type": "markdown",
   "metadata": {},
   "source": [
    "Visualizing with ROC/AUC."
   ]
  },
  {
   "cell_type": "code",
   "execution_count": 48,
   "metadata": {},
   "outputs": [
    {
     "name": "stdout",
     "output_type": "stream",
     "text": [
      "AUC: 0.9014672853855547\n"
     ]
    },
    {
     "data": {
      "image/png": "[encoded data removed]",
      "text/plain": [
       "<Figure size 720x576 with 1 Axes>"
      ]
     },
     "metadata": {},
     "output_type": "display_data"
    }
   ],
   "source": [
    "roc_auc_plot(X_train_resampled, y_train_resampled, X_test_ohe, y_test, model_3)"
   ]
  },
  {
   "cell_type": "markdown",
   "metadata": {},
   "source": [
    "Again, no change."
   ]
  },
  {
   "cell_type": "markdown",
   "metadata": {},
   "source": [
    "## Model 4 - C regularization ##"
   ]
  },
  {
   "cell_type": "markdown",
   "metadata": {},
   "source": [
    "Let's create a list with values that are smaller than one that we can loop over to see if it can improve the performatnce of our model."
   ]
  },
  {
   "cell_type": "code",
   "execution_count": 49,
   "metadata": {},
   "outputs": [],
   "source": [
    "c_values = [1e-1,1e-2,1e-4,1e-5,1e-6,1e-7,1e-8,1e-9,1e-10]"
   ]
  },
  {
   "cell_type": "code",
   "execution_count": 50,
   "metadata": {
    "scrolled": false
   },
   "outputs": [
    {
     "name": "stdout",
     "output_type": "stream",
     "text": [
      "C-value: 0.1\n",
      "____________\n",
      "F1 score for training data: 0.8488828751526353\n",
      "-------------------------------------------\n",
      "F1 score for testing data: 0.864574898785425\n",
      "-------------------------------------------\n",
      "Recall score for training data: 0.8530777394534359\n",
      "-------------------------------------------\n",
      "Recall score for testing data: 0.8474206349206349\n",
      "-------------------------------------------\n",
      "Precision score for training data: 0.8447290640394088\n",
      "-------------------------------------------\n",
      "Precision score for testing data: 0.8824380165289256\n",
      "∆∆∆∆∆∆∆∆∆∆∆∆∆∆∆∆∆∆∆∆∆∆∆∆∆∆∆∆∆∆∆∆∆∆∆∆∆∆∆∆∆∆∆∆∆∆∆∆\n",
      "C-value: 0.01\n",
      "____________\n",
      "F1 score for training data: 0.848973174805935\n",
      "-------------------------------------------\n",
      "F1 score for testing data: 0.8669623059866961\n",
      "-------------------------------------------\n",
      "Recall score for training data: 0.8596444680286548\n",
      "-------------------------------------------\n",
      "Recall score for testing data: 0.8533730158730158\n",
      "-------------------------------------------\n",
      "Precision score for training data: 0.8385635716596571\n",
      "-------------------------------------------\n",
      "Precision score for testing data: 0.8809913969684555\n",
      "∆∆∆∆∆∆∆∆∆∆∆∆∆∆∆∆∆∆∆∆∆∆∆∆∆∆∆∆∆∆∆∆∆∆∆∆∆∆∆∆∆∆∆∆∆∆∆∆\n",
      "C-value: 0.0001\n",
      "____________\n",
      "F1 score for training data: 0.8449931412894376\n",
      "-------------------------------------------\n",
      "F1 score for testing data: 0.8727272727272728\n",
      "-------------------------------------------\n",
      "Recall score for training data: 0.8989121782966304\n",
      "-------------------------------------------\n",
      "Recall score for testing data: 0.8952380952380953\n",
      "-------------------------------------------\n",
      "Precision score for training data: 0.7971764705882353\n",
      "-------------------------------------------\n",
      "Precision score for testing data: 0.8513207547169811\n",
      "∆∆∆∆∆∆∆∆∆∆∆∆∆∆∆∆∆∆∆∆∆∆∆∆∆∆∆∆∆∆∆∆∆∆∆∆∆∆∆∆∆∆∆∆∆∆∆∆\n",
      "C-value: 1e-05\n",
      "____________\n",
      "F1 score for training data: 0.842765724988294\n",
      "-------------------------------------------\n",
      "F1 score for testing data: 0.8719488570321582\n",
      "-------------------------------------------\n",
      "Recall score for training data: 0.8953966569381799\n",
      "-------------------------------------------\n",
      "Recall score for testing data: 0.8930555555555556\n",
      "-------------------------------------------\n",
      "Precision score for training data: 0.7959785364703108\n",
      "-------------------------------------------\n",
      "Precision score for testing data: 0.8518168054504164\n",
      "∆∆∆∆∆∆∆∆∆∆∆∆∆∆∆∆∆∆∆∆∆∆∆∆∆∆∆∆∆∆∆∆∆∆∆∆∆∆∆∆∆∆∆∆∆∆∆∆\n",
      "C-value: 1e-06\n",
      "____________\n",
      "F1 score for training data: 0.8402956096949958\n",
      "-------------------------------------------\n",
      "F1 score for testing data: 0.8699115904012434\n",
      "-------------------------------------------\n",
      "Recall score for training data: 0.8899575484213319\n",
      "-------------------------------------------\n",
      "Recall score for testing data: 0.8882936507936507\n",
      "-------------------------------------------\n",
      "Precision score for training data: 0.7958832601732115\n",
      "-------------------------------------------\n",
      "Precision score for testing data: 0.8522748905387397\n",
      "∆∆∆∆∆∆∆∆∆∆∆∆∆∆∆∆∆∆∆∆∆∆∆∆∆∆∆∆∆∆∆∆∆∆∆∆∆∆∆∆∆∆∆∆∆∆∆∆\n",
      "C-value: 1e-07\n",
      "____________\n",
      "F1 score for training data: 0.8401766419242694\n",
      "-------------------------------------------\n",
      "F1 score for testing data: 0.86977648202138\n",
      "-------------------------------------------\n",
      "Recall score for training data: 0.8896922260546564\n",
      "-------------------------------------------\n",
      "Recall score for testing data: 0.8878968253968254\n",
      "-------------------------------------------\n",
      "Precision score for training data: 0.7958820388061473\n",
      "-------------------------------------------\n",
      "Precision score for testing data: 0.8523809523809524\n",
      "∆∆∆∆∆∆∆∆∆∆∆∆∆∆∆∆∆∆∆∆∆∆∆∆∆∆∆∆∆∆∆∆∆∆∆∆∆∆∆∆∆∆∆∆∆∆∆∆\n",
      "C-value: 1e-08\n",
      "____________\n",
      "F1 score for training data: 0.8401039872208476\n",
      "-------------------------------------------\n",
      "F1 score for testing data: 0.86977648202138\n",
      "-------------------------------------------\n",
      "Recall score for training data: 0.8895595648713186\n",
      "-------------------------------------------\n",
      "Recall score for testing data: 0.8878968253968254\n",
      "-------------------------------------------\n",
      "Precision score for training data: 0.7958578125927245\n",
      "-------------------------------------------\n",
      "Precision score for testing data: 0.8523809523809524\n",
      "∆∆∆∆∆∆∆∆∆∆∆∆∆∆∆∆∆∆∆∆∆∆∆∆∆∆∆∆∆∆∆∆∆∆∆∆∆∆∆∆∆∆∆∆∆∆∆∆\n",
      "C-value: 1e-09\n",
      "____________\n",
      "F1 score for training data: 0.8401039872208476\n",
      "-------------------------------------------\n",
      "F1 score for testing data: 0.86977648202138\n",
      "-------------------------------------------\n",
      "Recall score for training data: 0.8895595648713186\n",
      "-------------------------------------------\n",
      "Recall score for testing data: 0.8878968253968254\n",
      "-------------------------------------------\n",
      "Precision score for training data: 0.7958578125927245\n",
      "-------------------------------------------\n",
      "Precision score for testing data: 0.8523809523809524\n",
      "∆∆∆∆∆∆∆∆∆∆∆∆∆∆∆∆∆∆∆∆∆∆∆∆∆∆∆∆∆∆∆∆∆∆∆∆∆∆∆∆∆∆∆∆∆∆∆∆\n",
      "C-value: 1e-10\n",
      "____________\n",
      "F1 score for training data: 0.8401039872208476\n",
      "-------------------------------------------\n",
      "F1 score for testing data: 0.86977648202138\n",
      "-------------------------------------------\n",
      "Recall score for training data: 0.8895595648713186\n",
      "-------------------------------------------\n",
      "Recall score for testing data: 0.8878968253968254\n",
      "-------------------------------------------\n",
      "Precision score for training data: 0.7958578125927245\n",
      "-------------------------------------------\n",
      "Precision score for testing data: 0.8523809523809524\n",
      "∆∆∆∆∆∆∆∆∆∆∆∆∆∆∆∆∆∆∆∆∆∆∆∆∆∆∆∆∆∆∆∆∆∆∆∆∆∆∆∆∆∆∆∆∆∆∆∆\n"
     ]
    }
   ],
   "source": [
    "for x in c_values:\n",
    "    logreg_c = LogisticRegression(C = x)\n",
    "    model_4 = logreg_c.fit(X_train_resampled,y_train_resampled)\n",
    "    y_hat_train4 = model_4.predict(X_train_resampled)\n",
    "    y_hat_test4 = model_4.predict(X_test_ohe)\n",
    "    print('C-value: {}'.format(x))\n",
    "    print('____________')\n",
    "    scores(y_train_resampled, y_hat_train4, y_test, y_hat_test4)\n",
    "    \n",
    "    print('∆∆∆∆∆∆∆∆∆∆∆∆∆∆∆∆∆∆∆∆∆∆∆∆∆∆∆∆∆∆∆∆∆∆∆∆∆∆∆∆∆∆∆∆∆∆∆∆')"
   ]
  },
  {
   "cell_type": "markdown",
   "metadata": {},
   "source": [
    "It seems that changing the value of C to 1e-2 does marginally improve the F1 score without deviating as much from the training data."
   ]
  },
  {
   "cell_type": "markdown",
   "metadata": {},
   "source": [
    "Now let's move on to class weights to check on how it affects our model."
   ]
  },
  {
   "cell_type": "code",
   "execution_count": 51,
   "metadata": {
    "scrolled": false
   },
   "outputs": [
    {
     "name": "stdout",
     "output_type": "stream",
     "text": [
      "LogisticRegression(C=0.01, fit_intercept=False)\n",
      "AUC for None: 0.901606819996243\n",
      "-------------------------------------------------------------------------------------\n",
      "LogisticRegression(C=0.01, class_weight='balanced', fit_intercept=False)\n",
      "AUC for Balanced: 0.901606819996243\n",
      "-------------------------------------------------------------------------------------\n",
      "LogisticRegression(C=0.01, class_weight={0: 1, 1: 2}, fit_intercept=False)\n",
      "AUC for 2 to 1: 0.9017123074574998\n",
      "-------------------------------------------------------------------------------------\n",
      "LogisticRegression(C=0.01, class_weight={0: 1, 1: 10}, fit_intercept=False)\n",
      "AUC for 10 to 1: 0.8991202040480887\n",
      "-------------------------------------------------------------------------------------\n",
      "LogisticRegression(C=0.01, class_weight={0: 1, 1: 100}, fit_intercept=False)\n",
      "AUC for 100 to 1: 0.8856428747534516\n",
      "-------------------------------------------------------------------------------------\n",
      "LogisticRegression(C=0.01, class_weight={0: 1, 1: 1000}, fit_intercept=False)\n",
      "AUC for 1000 to 1: 0.8817680743401897\n",
      "-------------------------------------------------------------------------------------\n"
     ]
    },
    {
     "data": {
      "image/png": "[encoded data removed]",
      "text/plain": [
       "<Figure size 720x576 with 1 Axes>"
      ]
     },
     "metadata": {},
     "output_type": "display_data"
    }
   ],
   "source": [
    "sns.set_style('darkgrid')\n",
    "# Now let's compare a few different regularization performances on the dataset:\n",
    "weights = [None, 'balanced', {1:2, 0:1}, {1:10, 0:1}, {1:100, 0:1}, {1:1000, 0:1}]\n",
    "names = ['None', 'Balanced', '2 to 1', '10 to 1', '100 to 1', '1000 to 1']\n",
    "colors = sns.color_palette('Set2')\n",
    "\n",
    "plt.figure(figsize=(10,8))\n",
    "\n",
    "for n, weight in enumerate(weights):\n",
    "    # Fit a model\n",
    "    logreg = LogisticRegression(fit_intercept=False, C=1e-2, class_weight=weight, solver='lbfgs')\n",
    "    model_log = logreg.fit(X_train_resampled, y_train_resampled)\n",
    "    print(model_log)\n",
    "\n",
    "    # Predict\n",
    "    y_hat_test5 = logreg.predict(X_test_ohe)\n",
    "\n",
    "    y_score = logreg.fit(X_train_resampled, y_train_resampled).decision_function(X_test_ohe)\n",
    "\n",
    "    fpr, tpr, thresholds = roc_curve(y_test, y_score)\n",
    "    \n",
    "    print('AUC for {}: {}'.format(names[n], auc(fpr, tpr)))\n",
    "    print('-------------------------------------------------------------------------------------')\n",
    "    lw = 2\n",
    "    plt.plot(fpr, tpr, color=colors[n],\n",
    "             lw=lw, label='ROC curve {}'.format(names[n]))\n",
    "\n",
    "plt.plot([0, 1], [0, 1], color='navy', lw=lw, linestyle='--')\n",
    "plt.xlim([0.0, 1.0])\n",
    "plt.ylim([0.0, 1.05])\n",
    "\n",
    "plt.yticks([i/20.0 for i in range(21)])\n",
    "plt.xticks([i/20.0 for i in range(21)])\n",
    "plt.xlabel('False Positive Rate')\n",
    "plt.ylabel('True Positive Rate')\n",
    "plt.title('Receiver operating characteristic (ROC) Curve')\n",
    "plt.legend(loc='lower right')\n",
    "plt.show()"
   ]
  },
  {
   "cell_type": "markdown",
   "metadata": {},
   "source": [
    "Our \"best\" AUC score is when the weight of the class is at 2 to 1. However, because our model AUC score was barely affected by this weight."
   ]
  },
  {
   "cell_type": "markdown",
   "metadata": {},
   "source": [
    "## KNN Model ##"
   ]
  },
  {
   "cell_type": "markdown",
   "metadata": {},
   "source": [
    "Let's move on to our KNN model and see if we can find a better model for our data."
   ]
  },
  {
   "cell_type": "markdown",
   "metadata": {},
   "source": [
    "First we will use `column_selector` to select a specific dataype columns to transform."
   ]
  },
  {
   "cell_type": "code",
   "execution_count": 52,
   "metadata": {},
   "outputs": [],
   "source": [
    "int_selector = make_column_selector(dtype_include='int64', dtype_exclude=['category','bool'])\n",
    "rest_selector = make_column_selector(dtype_include=['category','bool'], dtype_exclude='int64')\n",
    "all_selector = make_column_selector(dtype_include=['category','bool','int64','string'])"
   ]
  },
  {
   "cell_type": "markdown",
   "metadata": {},
   "source": [
    "We will now create a preprocessing pipeline to Scale and OneHotEncode preselected columns."
   ]
  },
  {
   "cell_type": "code",
   "execution_count": 53,
   "metadata": {},
   "outputs": [],
   "source": [
    "knn_preprocessing = make_column_transformer((StandardScaler(), int_selector),\n",
    "                                  (OneHotEncoder(handle_unknown='ignore'), rest_selector))"
   ]
  },
  {
   "cell_type": "code",
   "execution_count": 54,
   "metadata": {},
   "outputs": [],
   "source": [
    "X_train_processed = knn_preprocessing.fit_transform(X_train)\n",
    "X_test_processed = knn_preprocessing.transform(X_test)"
   ]
  },
  {
   "cell_type": "markdown",
   "metadata": {},
   "source": [
    "Since we first want to have a base KNN model, our first pipeline will only have the `KNeighborsClassifier()` object."
   ]
  },
  {
   "cell_type": "code",
   "execution_count": 55,
   "metadata": {},
   "outputs": [],
   "source": [
    "knn_pipe1 = make_pipeline(KNeighborsClassifier())"
   ]
  },
  {
   "cell_type": "markdown",
   "metadata": {},
   "source": [
    "Fit the data."
   ]
  },
  {
   "cell_type": "code",
   "execution_count": 56,
   "metadata": {},
   "outputs": [],
   "source": [
    "model_5 = knn_pipe1.fit(X_train_processed,y_train)"
   ]
  },
  {
   "cell_type": "markdown",
   "metadata": {},
   "source": [
    "Generate predictions."
   ]
  },
  {
   "cell_type": "code",
   "execution_count": 57,
   "metadata": {},
   "outputs": [],
   "source": [
    "y_hat_train6 = model_5.predict(X_train_processed)\n",
    "y_hat_test6 = model_5.predict(X_test_processed)"
   ]
  },
  {
   "cell_type": "code",
   "execution_count": 58,
   "metadata": {},
   "outputs": [
    {
     "name": "stdout",
     "output_type": "stream",
     "text": [
      "F1 score for training data: 0.8956018670698835\n",
      "-------------------------------------------\n",
      "F1 score for testing data: 0.8621845425867508\n",
      "-------------------------------------------\n",
      "Recall score for training data: 0.9036216503051208\n",
      "-------------------------------------------\n",
      "Recall score for testing data: 0.8676587301587302\n",
      "-------------------------------------------\n",
      "Precision score for training data: 0.8877231851948391\n",
      "-------------------------------------------\n",
      "Precision score for testing data: 0.8567789968652038\n"
     ]
    }
   ],
   "source": [
    "scores(y_train,y_hat_train6,y_test,y_hat_test6)"
   ]
  },
  {
   "cell_type": "markdown",
   "metadata": {},
   "source": [
    "Very good scores for a base model. However, so far, our base model has had the best overall F1 score."
   ]
  },
  {
   "cell_type": "markdown",
   "metadata": {},
   "source": [
    "Let's view its confusion matrix."
   ]
  },
  {
   "cell_type": "code",
   "execution_count": 59,
   "metadata": {
    "scrolled": false
   },
   "outputs": [
    {
     "data": {
      "image/png": "[encoded data removed]",
      "text/plain": [
       "<Figure size 720x432 with 4 Axes>"
      ]
     },
     "metadata": {},
     "output_type": "display_data"
    }
   ],
   "source": [
    "plot_cf(model_5,X_train_processed,y_train,X_test_processed,y_test)"
   ]
  },
  {
   "cell_type": "markdown",
   "metadata": {},
   "source": [
    "Because this particular dataset does not play well when adding synthetic data, we will skip this step for this model.\n",
    "\n",
    "Instead, we will look to see what our best K is for the model."
   ]
  },
  {
   "cell_type": "code",
   "execution_count": 60,
   "metadata": {},
   "outputs": [
    {
     "name": "stdout",
     "output_type": "stream",
     "text": [
      "Best value for k: 47\n",
      "F1 Score: 0.8783365570599614\n"
     ]
    }
   ],
   "source": [
    "find_best_k(X_train_processed, y_train,X_test_processed,y_test, min_k=1, max_k=50)"
   ]
  },
  {
   "cell_type": "markdown",
   "metadata": {},
   "source": [
    "It appears as though the best K is 49."
   ]
  },
  {
   "cell_type": "code",
   "execution_count": 61,
   "metadata": {},
   "outputs": [],
   "source": [
    "knn_pipe2 = make_pipeline(KNeighborsClassifier(n_neighbors=47,n_jobs=-1))"
   ]
  },
  {
   "cell_type": "code",
   "execution_count": 62,
   "metadata": {},
   "outputs": [],
   "source": [
    "model_7 = knn_pipe2.fit(X_train_processed, y_train)"
   ]
  },
  {
   "cell_type": "code",
   "execution_count": 63,
   "metadata": {},
   "outputs": [],
   "source": [
    "y_hat_train8 = model_7.predict(X_train_processed)\n",
    "y_hat_test8 = model_7.predict(X_test_processed)"
   ]
  },
  {
   "cell_type": "code",
   "execution_count": 64,
   "metadata": {
    "scrolled": true
   },
   "outputs": [
    {
     "name": "stdout",
     "output_type": "stream",
     "text": [
      "F1 score for training data: 0.8797674794122397\n",
      "-------------------------------------------\n",
      "F1 score for testing data: 0.8783365570599614\n",
      "-------------------------------------------\n",
      "Recall score for training data: 0.903488989121783\n",
      "-------------------------------------------\n",
      "Recall score for testing data: 0.9009920634920635\n",
      "-------------------------------------------\n",
      "Precision score for training data: 0.8572597394423815\n",
      "-------------------------------------------\n",
      "Precision score for testing data: 0.8567924528301887\n"
     ]
    }
   ],
   "source": [
    "scores(y_train, y_hat_train8,y_test,y_hat_test8)"
   ]
  },
  {
   "cell_type": "markdown",
   "metadata": {},
   "source": [
    "Great model performance. It appears that it is on par with the base LogisticRegression Model."
   ]
  },
  {
   "cell_type": "code",
   "execution_count": 65,
   "metadata": {},
   "outputs": [
    {
     "data": {
      "image/png": "[encoded data removed]",
      "text/plain": [
       "<Figure size 720x432 with 4 Axes>"
      ]
     },
     "metadata": {},
     "output_type": "display_data"
    }
   ],
   "source": [
    "plot_cf(model_7, X_train_processed, y_train, X_test_processed, y_test)"
   ]
  },
  {
   "cell_type": "markdown",
   "metadata": {},
   "source": [
    "## Final Model ##"
   ]
  },
  {
   "cell_type": "markdown",
   "metadata": {},
   "source": [
    "We have gone through a couple of algorithms and tried to fine tune the hyperparameters to check if we could improve the overall model's performance using the F1 score as the evaluating score.\n",
    "\n",
    "Based on the results above, it appears as though our best model is the  base Logsitic Regression model. Although it was very similar to our fine tuned KNN model, the Logistic regression model was less resource costly compared to the KNN."
   ]
  },
  {
   "cell_type": "markdown",
   "metadata": {},
   "source": [
    "As the final step, let's see how our data from the first `train_test_split` did and then implement the model to all of the data."
   ]
  },
  {
   "cell_type": "code",
   "execution_count": 66,
   "metadata": {},
   "outputs": [],
   "source": [
    "preprocessing = make_column_transformer((OneHotEncoder(handle_unknown='ignore'), all_selector), \n",
    "                                        remainder='passthrough')"
   ]
  },
  {
   "cell_type": "code",
   "execution_count": 67,
   "metadata": {},
   "outputs": [],
   "source": [
    "log_pipe = make_pipeline(LogisticRegression())"
   ]
  },
  {
   "cell_type": "code",
   "execution_count": 68,
   "metadata": {},
   "outputs": [],
   "source": [
    "final_pipe = make_pipeline(preprocessing,log_pipe)"
   ]
  },
  {
   "cell_type": "code",
   "execution_count": 69,
   "metadata": {},
   "outputs": [],
   "source": [
    "X_train_all_ohe = preprocessing.fit_transform(X_train_all)\n",
    "X_test_all_ohe = preprocessing.transform(X_test_all)"
   ]
  },
  {
   "cell_type": "code",
   "execution_count": 70,
   "metadata": {},
   "outputs": [
    {
     "name": "stderr",
     "output_type": "stream",
     "text": [
      "/Users/edgarbarron/opt/anaconda3/envs/learn-env/lib/python3.8/site-packages/sklearn/linear_model/_logistic.py:762: ConvergenceWarning: lbfgs failed to converge (status=1):\n",
      "STOP: TOTAL NO. of ITERATIONS REACHED LIMIT.\n",
      "\n",
      "Increase the number of iterations (max_iter) or scale the data as shown in:\n",
      "    https://scikit-learn.org/stable/modules/preprocessing.html\n",
      "Please also refer to the documentation for alternative solver options:\n",
      "    https://scikit-learn.org/stable/modules/linear_model.html#logistic-regression\n",
      "  n_iter_i = _check_optimize_result(\n"
     ]
    }
   ],
   "source": [
    "model_all = log_pipe.fit(X_train_all_ohe, y_train_all)"
   ]
  },
  {
   "cell_type": "code",
   "execution_count": 71,
   "metadata": {},
   "outputs": [],
   "source": [
    "y_hat_train_all_ohe = model_all.predict(X_train_all_ohe)\n",
    "y_hat_test_all_ohe = model_all.predict(X_test_all_ohe)"
   ]
  },
  {
   "cell_type": "code",
   "execution_count": 72,
   "metadata": {
    "scrolled": true
   },
   "outputs": [
    {
     "name": "stdout",
     "output_type": "stream",
     "text": [
      "F1 score for training data: 0.8797245860304992\n",
      "-------------------------------------------\n",
      "F1 score for testing data: 0.8795189347841649\n",
      "-------------------------------------------\n",
      "Recall score for training data: 0.9019188705508053\n",
      "-------------------------------------------\n",
      "Recall score for testing data: 0.9019233592717663\n",
      "-------------------------------------------\n",
      "Precision score for training data: 0.8585963749940845\n",
      "-------------------------------------------\n",
      "Precision score for testing data: 0.8582006146968427\n"
     ]
    }
   ],
   "source": [
    "scores(y_train_all,y_hat_train_all_ohe,y_test_all,y_hat_test_all_ohe)"
   ]
  },
  {
   "cell_type": "code",
   "execution_count": 73,
   "metadata": {
    "scrolled": false
   },
   "outputs": [
    {
     "data": {
      "image/png": "[encoded data removed]",
      "text/plain": [
       "<Figure size 720x432 with 4 Axes>"
      ]
     },
     "metadata": {},
     "output_type": "display_data"
    }
   ],
   "source": [
    "plot_cf(model_all,X_train_all_ohe,y_train_all,X_test_all_ohe, y_test_all)"
   ]
  },
  {
   "cell_type": "code",
   "execution_count": 74,
   "metadata": {
    "scrolled": false
   },
   "outputs": [
    {
     "name": "stderr",
     "output_type": "stream",
     "text": [
      "/Users/edgarbarron/opt/anaconda3/envs/learn-env/lib/python3.8/site-packages/sklearn/linear_model/_logistic.py:762: ConvergenceWarning: lbfgs failed to converge (status=1):\n",
      "STOP: TOTAL NO. of ITERATIONS REACHED LIMIT.\n",
      "\n",
      "Increase the number of iterations (max_iter) or scale the data as shown in:\n",
      "    https://scikit-learn.org/stable/modules/preprocessing.html\n",
      "Please also refer to the documentation for alternative solver options:\n",
      "    https://scikit-learn.org/stable/modules/linear_model.html#logistic-regression\n",
      "  n_iter_i = _check_optimize_result(\n"
     ]
    },
    {
     "name": "stdout",
     "output_type": "stream",
     "text": [
      "AUC: 0.9024946857066255\n"
     ]
    },
    {
     "data": {
      "image/png": "[encoded data removed]",
      "text/plain": [
       "<Figure size 720x576 with 1 Axes>"
      ]
     },
     "metadata": {},
     "output_type": "display_data"
    }
   ],
   "source": [
    "roc_auc_plot(X_train_all_ohe, y_train_all,X_test_all_ohe,y_test_all,model_all)"
   ]
  },
  {
   "cell_type": "markdown",
   "metadata": {},
   "source": [
    "Our evaluation metrics match our untouched train test split. Now let's fit it to our overall data."
   ]
  },
  {
   "cell_type": "code",
   "execution_count": null,
   "metadata": {},
   "outputs": [],
   "source": []
  },
  {
   "cell_type": "code",
   "execution_count": 75,
   "metadata": {},
   "outputs": [],
   "source": [
    "X_ohe = ohe.fit_transform(X)"
   ]
  },
  {
   "cell_type": "code",
   "execution_count": 76,
   "metadata": {},
   "outputs": [],
   "source": [
    "final_model = logreg.fit(X_ohe,y)"
   ]
  },
  {
   "cell_type": "code",
   "execution_count": 77,
   "metadata": {},
   "outputs": [],
   "source": [
    "y_hat_final = final_model.predict(X_ohe)"
   ]
  },
  {
   "cell_type": "code",
   "execution_count": 78,
   "metadata": {
    "scrolled": true
   },
   "outputs": [
    {
     "name": "stdout",
     "output_type": "stream",
     "text": [
      "F1 score for training data: 0.7497006988334214\n"
     ]
    }
   ],
   "source": [
    "print('F1 score for training data: {}'.format(f1_score(y, y_hat_final)))"
   ]
  },
  {
   "cell_type": "code",
   "execution_count": 79,
   "metadata": {},
   "outputs": [
    {
     "data": {
      "image/png": "[encoded data removed]",
      "text/plain": [
       "<Figure size 432x288 with 2 Axes>"
      ]
     },
     "metadata": {},
     "output_type": "display_data"
    }
   ],
   "source": [
    "plot_confusion_matrix(final_model, X_ohe, y, cmap=plt.cm.magma)\n",
    "plt.show()"
   ]
  },
  {
   "cell_type": "code",
   "execution_count": 80,
   "metadata": {},
   "outputs": [],
   "source": [
    "importance = final_model.coef_[0]"
   ]
  },
  {
   "cell_type": "code",
   "execution_count": 81,
   "metadata": {},
   "outputs": [
    {
     "name": "stdout",
     "output_type": "stream",
     "text": [
      "Feature: 0, Score: 0.31300\n",
      "Feature: 1, Score: 0.59905\n",
      "Feature: 2, Score: 0.56845\n",
      "Feature: 3, Score: 0.56100\n",
      "Feature: 4, Score: 0.48956\n",
      "Feature: 5, Score: 0.41878\n",
      "Feature: 6, Score: 0.17861\n",
      "Feature: 7, Score: 1.90581\n",
      "Feature: 8, Score: 1.22265\n",
      "Feature: 9, Score: 1.42711\n",
      "Feature: 10, Score: 1.70135\n",
      "Feature: 11, Score: 0.19697\n",
      "Feature: 12, Score: 0.58102\n",
      "Feature: 13, Score: 0.35077\n",
      "Feature: 14, Score: 0.11170\n",
      "Feature: 15, Score: 0.34355\n",
      "Feature: 16, Score: 0.63822\n",
      "Feature: 17, Score: 0.35473\n",
      "Feature: 18, Score: 0.55150\n",
      "Feature: 19, Score: -0.28355\n",
      "Feature: 20, Score: 0.44885\n",
      "Feature: 21, Score: 0.48621\n",
      "Feature: 22, Score: 0.71414\n",
      "Feature: 23, Score: 0.39350\n",
      "Feature: 24, Score: 0.30726\n",
      "Feature: 25, Score: -0.04385\n",
      "Feature: 26, Score: 0.21701\n",
      "Feature: 27, Score: 0.36668\n",
      "Feature: 28, Score: 0.52221\n",
      "Feature: 29, Score: 0.93021\n",
      "Feature: 30, Score: 0.89728\n",
      "Feature: 31, Score: -0.01355\n",
      "Feature: 32, Score: 0.67496\n",
      "Feature: 33, Score: 0.37440\n",
      "Feature: 34, Score: 0.26516\n",
      "Feature: 35, Score: 0.68464\n",
      "Feature: 36, Score: 0.80714\n",
      "Feature: 37, Score: 1.63668\n",
      "Feature: 38, Score: -1.92554\n",
      "Feature: 39, Score: 1.79525\n",
      "Feature: 40, Score: 0.67356\n",
      "Feature: 41, Score: 1.00565\n",
      "Feature: 42, Score: 0.00596\n",
      "Feature: 43, Score: 1.49726\n",
      "Feature: 44, Score: 0.07633\n",
      "Feature: 45, Score: 0.16461\n",
      "Feature: 46, Score: 0.25725\n",
      "Feature: 47, Score: 0.02372\n",
      "Feature: 48, Score: 0.30697\n",
      "Feature: 49, Score: 0.31998\n",
      "Feature: 50, Score: 0.05350\n",
      "Feature: 51, Score: 0.03925\n",
      "Feature: 52, Score: 0.26082\n",
      "Feature: 53, Score: 0.22116\n",
      "Feature: 54, Score: -0.20753\n",
      "Feature: 55, Score: 0.06692\n",
      "Feature: 56, Score: 0.03753\n",
      "Feature: 57, Score: 0.24402\n",
      "Feature: 58, Score: 0.31730\n",
      "Feature: 59, Score: -0.11168\n",
      "Feature: 60, Score: -0.05581\n",
      "Feature: 61, Score: 0.22412\n",
      "Feature: 62, Score: 0.22291\n",
      "Feature: 63, Score: -0.30710\n",
      "Feature: 64, Score: 0.08466\n",
      "Feature: 65, Score: -0.12058\n",
      "Feature: 66, Score: 0.00075\n",
      "Feature: 67, Score: 0.23549\n",
      "Feature: 68, Score: 0.05229\n",
      "Feature: 69, Score: 0.21040\n",
      "Feature: 70, Score: 0.12686\n",
      "Feature: 71, Score: -0.07416\n",
      "Feature: 72, Score: 0.20793\n",
      "Feature: 73, Score: 0.01657\n",
      "Feature: 74, Score: 0.24378\n",
      "Feature: 75, Score: 0.14799\n",
      "Feature: 76, Score: -0.12749\n",
      "Feature: 77, Score: 0.02052\n",
      "Feature: 78, Score: 0.04712\n",
      "Feature: 79, Score: -0.12963\n",
      "Feature: 80, Score: 0.04683\n",
      "Feature: 81, Score: -0.54548\n",
      "Feature: 82, Score: 0.07502\n",
      "Feature: 83, Score: 0.06321\n",
      "Feature: 84, Score: 0.28300\n",
      "Feature: 85, Score: 0.08885\n",
      "Feature: 86, Score: 0.03284\n",
      "Feature: 87, Score: -0.06391\n",
      "Feature: 88, Score: 0.00429\n",
      "Feature: 89, Score: -0.02701\n",
      "Feature: 90, Score: 0.16983\n",
      "Feature: 91, Score: -0.01948\n"
     ]
    }
   ],
   "source": [
    "for i,v in enumerate(importance):\n",
    "    print('Feature: %0d, Score: %.5f' % (i,v))"
   ]
  },
  {
   "cell_type": "code",
   "execution_count": 82,
   "metadata": {},
   "outputs": [
    {
     "data": {
      "image/png": "[encoded data removed]",
      "text/plain": [
       "<Figure size 432x288 with 1 Axes>"
      ]
     },
     "metadata": {},
     "output_type": "display_data"
    }
   ],
   "source": [
    "plt.bar([x for x in range(len(importance))], importance)\n",
    "plt.show()"
   ]
  },
  {
   "cell_type": "code",
   "execution_count": 83,
   "metadata": {},
   "outputs": [],
   "source": [
    "importance_df = pd.DataFrame(final_model.coef_[0])"
   ]
  },
  {
   "cell_type": "code",
   "execution_count": 84,
   "metadata": {
    "scrolled": true
   },
   "outputs": [
    {
     "data": {
      "text/html": [
       "<div>\n",
       "<style scoped>\n",
       "    .dataframe tbody tr th:only-of-type {\n",
       "        vertical-align: middle;\n",
       "    }\n",
       "\n",
       "    .dataframe tbody tr th {\n",
       "        vertical-align: top;\n",
       "    }\n",
       "\n",
       "    .dataframe thead th {\n",
       "        text-align: right;\n",
       "    }\n",
       "</style>\n",
       "<table border=\"1\" class=\"dataframe\">\n",
       "  <thead>\n",
       "    <tr style=\"text-align: right;\">\n",
       "      <th></th>\n",
       "      <th>0</th>\n",
       "    </tr>\n",
       "  </thead>\n",
       "  <tbody>\n",
       "    <tr>\n",
       "      <th>7</th>\n",
       "      <td>1.905808</td>\n",
       "    </tr>\n",
       "    <tr>\n",
       "      <th>39</th>\n",
       "      <td>1.795246</td>\n",
       "    </tr>\n",
       "    <tr>\n",
       "      <th>10</th>\n",
       "      <td>1.701347</td>\n",
       "    </tr>\n",
       "    <tr>\n",
       "      <th>37</th>\n",
       "      <td>1.636680</td>\n",
       "    </tr>\n",
       "    <tr>\n",
       "      <th>43</th>\n",
       "      <td>1.497256</td>\n",
       "    </tr>\n",
       "    <tr>\n",
       "      <th>...</th>\n",
       "      <td>...</td>\n",
       "    </tr>\n",
       "    <tr>\n",
       "      <th>54</th>\n",
       "      <td>-0.207526</td>\n",
       "    </tr>\n",
       "    <tr>\n",
       "      <th>19</th>\n",
       "      <td>-0.283546</td>\n",
       "    </tr>\n",
       "    <tr>\n",
       "      <th>63</th>\n",
       "      <td>-0.307104</td>\n",
       "    </tr>\n",
       "    <tr>\n",
       "      <th>81</th>\n",
       "      <td>-0.545476</td>\n",
       "    </tr>\n",
       "    <tr>\n",
       "      <th>38</th>\n",
       "      <td>-1.925541</td>\n",
       "    </tr>\n",
       "  </tbody>\n",
       "</table>\n",
       "<p>92 rows × 1 columns</p>\n",
       "</div>"
      ],
      "text/plain": [
       "           0\n",
       "7   1.905808\n",
       "39  1.795246\n",
       "10  1.701347\n",
       "37  1.636680\n",
       "43  1.497256\n",
       "..       ...\n",
       "54 -0.207526\n",
       "19 -0.283546\n",
       "63 -0.307104\n",
       "81 -0.545476\n",
       "38 -1.925541\n",
       "\n",
       "[92 rows x 1 columns]"
      ]
     },
     "execution_count": 84,
     "metadata": {},
     "output_type": "execute_result"
    }
   ],
   "source": [
    "importance_df.sort_values(by=0, ascending=False)"
   ]
  },
  {
   "cell_type": "code",
   "execution_count": 85,
   "metadata": {},
   "outputs": [],
   "source": [
    "cv = cross_validate(logreg, X_ohe,y)"
   ]
  },
  {
   "cell_type": "code",
   "execution_count": 86,
   "metadata": {},
   "outputs": [
    {
     "data": {
      "text/plain": [
       "['fit_time', 'score_time', 'test_score']"
      ]
     },
     "execution_count": 86,
     "metadata": {},
     "output_type": "execute_result"
    }
   ],
   "source": [
    "sorted(cv.keys())"
   ]
  },
  {
   "cell_type": "code",
   "execution_count": 87,
   "metadata": {
    "scrolled": true
   },
   "outputs": [
    {
     "data": {
      "text/plain": [
       "array([0.59964373, 0.59964373, 0.59959915, 0.59959915, 0.59959915])"
      ]
     },
     "execution_count": 87,
     "metadata": {},
     "output_type": "execute_result"
    }
   ],
   "source": [
    "cv['test_score']"
   ]
  },
  {
   "cell_type": "code",
   "execution_count": null,
   "metadata": {},
   "outputs": [],
   "source": [
    "# my preprocessing pipeline for reference\n",
    "preprocessing = make_column_transformer((OneHotEncoder(handle_unknown='ignore'), string_selector),\n",
    "                                        (StandardScaler(), number_selector),\n",
    "                                       remainder='passthrough')\n",
    "# first of all you need to check what order your data is in after its been processed in your pipeline\n",
    "# my pipeline had onehotencoder first then standard scaler so my columns were in that order - neither are making use of\n",
    "# passthrough. If you use passthrough on either you will need to investigate where those columns sit\n",
    "# in the post processed data. I did this by running:\n",
    "preprocessing.transform(X).todense()[0]\n",
    "# this will spit out the order in which the data is fed into my gridsearchCV pipeline so I know mine is OHE followed\n",
    "#by number columns\n",
    "# extracting OHE feature names from gridsearchCV pipeline\n",
    "# adding list onehotencoder feature names post processed from pipeline + feature names that were not onehotencoded\n",
    "#- in my case all dtype number\n",
    "features = list(gridsearch_rf.best_estimator_[0].transformers_[0][1].get_feature_names())\\+list(X_train.\\\n",
    "                                                                                                select_dtypes('number').columns)\n",
    "# getting importances from my gridsearchCV pipeline\n",
    "importances = gridsearch_rf.best_estimator_[2].feature_importances_\n",
    "# merge and sort\n",
    "sorted_importances = sorted(list(zip(features, importances)),key=lambda x: x[1], reverse=True)[:25]\n",
    "#plot\n",
    "x = [val[0] for val in sorted_importances]\n",
    "y = [val[1] for val in sorted_importances]\n",
    "plt.figure(figsize=(20,6))\n",
    "plt.bar(x, y)\n",
    "plt.xticks(rotation=90);"
   ]
  },
  {
   "cell_type": "code",
   "execution_count": 89,
   "metadata": {},
   "outputs": [],
   "source": [
    "svc = SVC()"
   ]
  },
  {
   "cell_type": "code",
   "execution_count": null,
   "metadata": {},
   "outputs": [],
   "source": [
    "gridsearch_rf = GridSearchCV(svc,{'C':c_values,\n",
    "                                  'kernel': ['linear','poly','rbf','sigmoid'],\n",
    "                                  'gamma': ['scale', 'auto'],}, cv=5,)\n",
    "gridsearch_rf.fit(X_ohe,y)\n",
    "gsrf = gridsearch_rf.cv_results_"
   ]
  },
  {
   "cell_type": "code",
   "execution_count": null,
   "metadata": {},
   "outputs": [],
   "source": [
    "feature_plot(preprocessing,gridsearch_rf,X)"
   ]
  },
  {
   "cell_type": "code",
   "execution_count": null,
   "metadata": {},
   "outputs": [],
   "source": []
  }
 ],
 "metadata": {
  "kernelspec": {
   "display_name": "Python 3",
   "language": "python",
   "name": "python3"
  },
  "language_info": {
   "codemirror_mode": {
    "name": "ipython",
    "version": 3
   },
   "file_extension": ".py",
   "mimetype": "text/x-python",
   "name": "python",
   "nbconvert_exporter": "python",
   "pygments_lexer": "ipython3",
   "version": "3.8.5"
  }
 },
 "nbformat": 4,
 "nbformat_minor": 5
}
